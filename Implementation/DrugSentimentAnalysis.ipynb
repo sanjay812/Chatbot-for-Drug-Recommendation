{
 "cells": [
  {
   "cell_type": "code",
   "execution_count": 1,
   "metadata": {
    "colab": {
     "base_uri": "https://localhost:8080/",
     "height": 136
    },
    "colab_type": "code",
    "id": "ysW4Lgx7M37N",
    "outputId": "2e2c4bae-d53c-4171-82ea-25b97bc9cca5"
   },
   "outputs": [
    {
     "name": "stdout",
     "output_type": "stream",
     "text": [
      "Requirement already satisfied: pandasql in c:\\users\\sanjay\\anaconda3\\lib\\site-packages (0.7.3)\n",
      "Requirement already satisfied: numpy in c:\\users\\sanjay\\anaconda3\\lib\\site-packages (from pandasql) (1.19.2)\n",
      "Requirement already satisfied: pandas in c:\\users\\sanjay\\anaconda3\\lib\\site-packages (from pandasql) (1.1.3)\n",
      "Requirement already satisfied: sqlalchemy in c:\\users\\sanjay\\anaconda3\\lib\\site-packages (from pandasql) (1.3.20)\n",
      "Requirement already satisfied: python-dateutil>=2.7.3 in c:\\users\\sanjay\\appdata\\roaming\\python\\python38\\site-packages (from pandas->pandasql) (2.8.1)\n",
      "Requirement already satisfied: pytz>=2017.2 in c:\\users\\sanjay\\anaconda3\\lib\\site-packages (from pandas->pandasql) (2020.1)\n",
      "Requirement already satisfied: six>=1.5 in c:\\users\\sanjay\\appdata\\roaming\\python\\python38\\site-packages (from python-dateutil>=2.7.3->pandas->pandasql) (1.15.0)\n",
      "Requirement already satisfied: tensorflow in c:\\users\\sanjay\\anaconda3\\lib\\site-packages (2.4.1)\n",
      "Requirement already satisfied: absl-py~=0.10 in c:\\users\\sanjay\\anaconda3\\lib\\site-packages (from tensorflow) (0.12.0)\n",
      "Requirement already satisfied: keras-preprocessing~=1.1.2 in c:\\users\\sanjay\\anaconda3\\lib\\site-packages (from tensorflow) (1.1.2)\n",
      "Requirement already satisfied: termcolor~=1.1.0 in c:\\users\\sanjay\\anaconda3\\lib\\site-packages (from tensorflow) (1.1.0)\n",
      "Requirement already satisfied: wrapt~=1.12.1 in c:\\users\\sanjay\\anaconda3\\lib\\site-packages (from tensorflow) (1.12.1)\n",
      "Requirement already satisfied: astunparse~=1.6.3 in c:\\users\\sanjay\\anaconda3\\lib\\site-packages (from tensorflow) (1.6.3)\n",
      "Requirement already satisfied: numpy~=1.19.2 in c:\\users\\sanjay\\anaconda3\\lib\\site-packages (from tensorflow) (1.19.2)\n",
      "Requirement already satisfied: tensorflow-estimator<2.5.0,>=2.4.0 in c:\\users\\sanjay\\anaconda3\\lib\\site-packages (from tensorflow) (2.4.0)\n",
      "Requirement already satisfied: tensorboard~=2.4 in c:\\users\\sanjay\\anaconda3\\lib\\site-packages (from tensorflow) (2.5.0)\n",
      "Requirement already satisfied: grpcio~=1.32.0 in c:\\users\\sanjay\\anaconda3\\lib\\site-packages (from tensorflow) (1.32.0)\n",
      "Requirement already satisfied: flatbuffers~=1.12.0 in c:\\users\\sanjay\\anaconda3\\lib\\site-packages (from tensorflow) (1.12)\n",
      "Requirement already satisfied: protobuf>=3.9.2 in c:\\users\\sanjay\\anaconda3\\lib\\site-packages (from tensorflow) (3.15.8)\n",
      "Requirement already satisfied: google-pasta~=0.2 in c:\\users\\sanjay\\anaconda3\\lib\\site-packages (from tensorflow) (0.2.0)\n",
      "Requirement already satisfied: h5py~=2.10.0 in c:\\users\\sanjay\\anaconda3\\lib\\site-packages (from tensorflow) (2.10.0)\n",
      "Requirement already satisfied: opt-einsum~=3.3.0 in c:\\users\\sanjay\\anaconda3\\lib\\site-packages (from tensorflow) (3.3.0)\n",
      "Requirement already satisfied: typing-extensions~=3.7.4 in c:\\users\\sanjay\\anaconda3\\lib\\site-packages (from tensorflow) (3.7.4.3)\n",
      "Requirement already satisfied: six~=1.15.0 in c:\\users\\sanjay\\appdata\\roaming\\python\\python38\\site-packages (from tensorflow) (1.15.0)\n",
      "Requirement already satisfied: wheel~=0.35 in c:\\users\\sanjay\\anaconda3\\lib\\site-packages (from tensorflow) (0.35.1)\n",
      "Requirement already satisfied: gast==0.3.3 in c:\\users\\sanjay\\anaconda3\\lib\\site-packages (from tensorflow) (0.3.3)\n",
      "Requirement already satisfied: tensorboard-data-server<0.7.0,>=0.6.0 in c:\\users\\sanjay\\anaconda3\\lib\\site-packages (from tensorboard~=2.4->tensorflow) (0.6.0)\n",
      "Requirement already satisfied: tensorboard-plugin-wit>=1.6.0 in c:\\users\\sanjay\\anaconda3\\lib\\site-packages (from tensorboard~=2.4->tensorflow) (1.8.0)\n",
      "Requirement already satisfied: requests<3,>=2.21.0 in c:\\users\\sanjay\\anaconda3\\lib\\site-packages (from tensorboard~=2.4->tensorflow) (2.24.0)\n",
      "Requirement already satisfied: setuptools>=41.0.0 in c:\\users\\sanjay\\anaconda3\\lib\\site-packages (from tensorboard~=2.4->tensorflow) (50.3.1.post20201107)\n",
      "Requirement already satisfied: markdown>=2.6.8 in c:\\users\\sanjay\\anaconda3\\lib\\site-packages (from tensorboard~=2.4->tensorflow) (3.3.4)\n",
      "Requirement already satisfied: google-auth-oauthlib<0.5,>=0.4.1 in c:\\users\\sanjay\\anaconda3\\lib\\site-packages (from tensorboard~=2.4->tensorflow) (0.4.4)\n",
      "Requirement already satisfied: google-auth<2,>=1.6.3 in c:\\users\\sanjay\\anaconda3\\lib\\site-packages (from tensorboard~=2.4->tensorflow) (1.29.0)\n",
      "Requirement already satisfied: werkzeug>=0.11.15 in c:\\users\\sanjay\\anaconda3\\lib\\site-packages (from tensorboard~=2.4->tensorflow) (1.0.1)\n",
      "Requirement already satisfied: idna<3,>=2.5 in c:\\users\\sanjay\\anaconda3\\lib\\site-packages (from requests<3,>=2.21.0->tensorboard~=2.4->tensorflow) (2.10)\n",
      "Requirement already satisfied: urllib3!=1.25.0,!=1.25.1,<1.26,>=1.21.1 in c:\\users\\sanjay\\anaconda3\\lib\\site-packages (from requests<3,>=2.21.0->tensorboard~=2.4->tensorflow) (1.25.11)\n",
      "Requirement already satisfied: chardet<4,>=3.0.2 in c:\\users\\sanjay\\anaconda3\\lib\\site-packages (from requests<3,>=2.21.0->tensorboard~=2.4->tensorflow) (3.0.4)\n",
      "Requirement already satisfied: certifi>=2017.4.17 in c:\\users\\sanjay\\anaconda3\\lib\\site-packages (from requests<3,>=2.21.0->tensorboard~=2.4->tensorflow) (2020.6.20)\n",
      "Requirement already satisfied: requests-oauthlib>=0.7.0 in c:\\users\\sanjay\\anaconda3\\lib\\site-packages (from google-auth-oauthlib<0.5,>=0.4.1->tensorboard~=2.4->tensorflow) (1.3.0)\n",
      "Requirement already satisfied: rsa<5,>=3.1.4; python_version >= \"3.6\" in c:\\users\\sanjay\\anaconda3\\lib\\site-packages (from google-auth<2,>=1.6.3->tensorboard~=2.4->tensorflow) (4.7.2)\n",
      "Requirement already satisfied: pyasn1-modules>=0.2.1 in c:\\users\\sanjay\\anaconda3\\lib\\site-packages (from google-auth<2,>=1.6.3->tensorboard~=2.4->tensorflow) (0.2.8)\n",
      "Requirement already satisfied: cachetools<5.0,>=2.0.0 in c:\\users\\sanjay\\anaconda3\\lib\\site-packages (from google-auth<2,>=1.6.3->tensorboard~=2.4->tensorflow) (4.2.1)\n",
      "Requirement already satisfied: oauthlib>=3.0.0 in c:\\users\\sanjay\\anaconda3\\lib\\site-packages (from requests-oauthlib>=0.7.0->google-auth-oauthlib<0.5,>=0.4.1->tensorboard~=2.4->tensorflow) (3.1.0)\n",
      "Requirement already satisfied: pyasn1>=0.1.3 in c:\\users\\sanjay\\anaconda3\\lib\\site-packages (from rsa<5,>=3.1.4; python_version >= \"3.6\"->google-auth<2,>=1.6.3->tensorboard~=2.4->tensorflow) (0.4.8)\n",
      "Requirement already satisfied: keras in c:\\users\\sanjay\\anaconda3\\lib\\site-packages (2.4.3)\n",
      "Requirement already satisfied: h5py in c:\\users\\sanjay\\anaconda3\\lib\\site-packages (from keras) (2.10.0)\n",
      "Requirement already satisfied: numpy>=1.9.1 in c:\\users\\sanjay\\anaconda3\\lib\\site-packages (from keras) (1.19.2)\n",
      "Requirement already satisfied: scipy>=0.14 in c:\\users\\sanjay\\anaconda3\\lib\\site-packages (from keras) (1.5.2)\n",
      "Requirement already satisfied: pyyaml in c:\\users\\sanjay\\anaconda3\\lib\\site-packages (from keras) (5.3.1)\n",
      "Requirement already satisfied: six in c:\\users\\sanjay\\appdata\\roaming\\python\\python38\\site-packages (from h5py->keras) (1.15.0)\n"
     ]
    }
   ],
   "source": [
    "!pip install pandasql\n",
    "!pip install tensorflow\n",
    "!pip install keras"
   ]
  },
  {
   "cell_type": "code",
   "execution_count": 3,
   "metadata": {
    "colab": {},
    "colab_type": "code",
    "id": "dCTodUOmDqc-"
   },
   "outputs": [],
   "source": [
    "import warnings\n",
    "warnings.filterwarnings(\"ignore\") \n",
    "import pandas as pd \n",
    "import numpy as np\n",
    "import tensorflow as tf\n",
    "from sklearn.model_selection import train_test_split\n",
    "from sklearn.feature_extraction.text import TfidfVectorizer\n",
    "from keras.utils import to_categorical\n",
    "from tensorflow.keras import layers\n",
    "from sklearn.metrics import precision_recall_fscore_support\n",
    "import matplotlib.pyplot as plt\n",
    "import pandasql as ps"
   ]
  },
  {
   "cell_type": "markdown",
   "metadata": {
    "colab_type": "text",
    "id": "C7l2-NNoDqdE"
   },
   "source": [
    "1. Extract the reviews and ratings from the merged data file and make an array list of all the reviews\n",
    "2. Map the values of rating into postive and negative with threshold >7"
   ]
  },
  {
   "cell_type": "code",
   "execution_count": 4,
   "metadata": {
    "colab": {},
    "colab_type": "code",
    "id": "QHhVMlLMDqdF"
   },
   "outputs": [
    {
     "data": {
      "text/plain": [
       "'\"Extreme stomach discomfort and nausea as well as severe headaches and vaginal itch\"'"
      ]
     },
     "execution_count": 4,
     "metadata": {},
     "output_type": "execute_result"
    }
   ],
   "source": [
    "pd.set_option('display.max_columns', None)\n",
    "df = pd.read_csv('Merged_Dataset.csv')\n",
    "df = df[['Review', 'Rating', 'Drug']]\n",
    "review = list(df.Review)\n",
    "labels = np.where(df['Rating']>7, 1, 0)\n",
    "#review[8008]\n",
    "review[8107]"
   ]
  },
  {
   "cell_type": "markdown",
   "metadata": {
    "colab_type": "text",
    "id": "TjIz_nMZDqdJ"
   },
   "source": [
    "Checking the review and ratings for few "
   ]
  },
  {
   "cell_type": "code",
   "execution_count": 5,
   "metadata": {
    "colab": {
     "base_uri": "https://localhost:8080/",
     "height": 445
    },
    "colab_type": "code",
    "id": "r6c52tK9DqdJ",
    "outputId": "0603f1e7-4530-4e43-ba6f-c63153d12223"
   },
   "outputs": [
    {
     "name": "stdout",
     "output_type": "stream",
     "text": [
      "Review:  \"I&#039;m currently on day two of the pill, and I already feel much better.\r\n",
      "\r\n",
      "The only downside is how awake and energized it makes me! I took the second pill on day 1 too late and now I&#039;m wide awake when I should be sleepy. Oops! At least I feel better :)\"\n",
      "Label 1 for Postive and 0 for negative:  1\n",
      "\n",
      "\n",
      "Review:  \"This medicine gave me diarrhea.\"\n",
      "Label 1 for Postive and 0 for negative:  0\n",
      "\n",
      "\n",
      "Review:  \"Helped loosen this putty gunk in my lungs making my coughing more effective and less effort  required.\"\n",
      "Label 1 for Postive and 0 for negative:  0\n",
      "\n",
      "\n",
      "Review:  \"I started taking Ceftin for Bronchitis and I felt better within 2 days. I stayed on it for 6 weeks and my sinus condition and ETD symptoms went away after 4 years. This was a miracle for me.\"\n",
      "Label 1 for Postive and 0 for negative:  1\n",
      "\n",
      "\n",
      "Review:  \"Disclosure: This is just one person&#039;s experience. As such It does not have any scientific validity. However, I hope some scientists will consider some actual research on this. \r\n",
      "     I have been taking Guaifenesin in 400 or 600 mg tablets at the first sign of a cold, and my frequency and duration of colds has decreased from several a year to one or less.  I am 68 years old, and in general good health.  Your results may not be the same.  Remember, one person&#039;s claims/results are pretty close to meaningless from a scientific research viewpoint.\"\n",
      "Label 1 for Postive and 0 for negative:  0\n",
      "\n",
      "\n",
      "Review:  \"Extreme stomach discomfort and nausea as well as severe headaches and vaginal itch\"\n",
      "Label 1 for Postive and 0 for negative:  1\n",
      "\n",
      "\n",
      "Review:  \"On March 23, 2017 went to urgent care and was diagnosed with bronchitis.  Was prescribed levofloxacin.  By the weekend by knees were so swollen I couldn&#039;t walk.  I didn&#039;t read the warnings.  It&#039;s now April 21 and my knees are still swollen and I&#039;m shuffling around like my 90&#039;year old mother.  I did go to my primary care physician, who said I should never have been prescribed this medicine.  The warnings state do not prescribe to those over 60 unless there is no other antibiotic and not to those over 60.  I&#039;m 65.  I&#039;ve had blood tests and X-rays.  Blood work showed nothing abnormal and X-rays normal and my dr now wants me to see a rheumotolgist.   I feel I should see an orthopedist.  Please inform you family and friends to stay away this\"\n",
      "Label 1 for Postive and 0 for negative:  0\n",
      "\n",
      "\n",
      "Review:  \"Dosage was 500 mg for 10 days. Stopped after 2. Feet and ankle pain and swollen knees, hands and fingers that do not stop aching. Also lower back pain. Headache is almost constant despite Tylenol every four hours. Cough has lessened but feel overall much weaker.\"\n",
      "Label 1 for Postive and 0 for negative:  0\n",
      "\n",
      "\n",
      "Review:  \"I took Mucinex for a bad case of bronchitis. It worked very well and I was finally able to stop coughing and start breathing again. The only problem was that it interfered with my sleep. I was awake most of the night and was not tired the next day. I had to quit taking it.\"\n",
      "Label 1 for Postive and 0 for negative:  0\n",
      "\n",
      "\n",
      "Review:  \"Was on this for 3 days and had very watery diarrhea for all of them. When I informed my doctor, she told me to immediately stop taking it because of the risk of it possibly killing all good bacteria in my gut, which would require other medications to treat. The drug also did very little to ease my other symptoms. I ended up taking z-pak instead and it worked well.\"\n",
      "Label 1 for Postive and 0 for negative:  0\n",
      "\n",
      "\n",
      "Review:  \"I have Asthma so maybe it makes it worse . But it came on suddenly with no fever. No change in pulse . Just a cough that hurt the back of my head so bad that it rattled my brain and made me see fireworks in my head .  I don&#039;t think this z pac worked for me because after laying in bed no energy for 1 week I went to the doc again . This time he prescribed Bactrim and it seems to be working - I&#039;m feeling better.  The doc asked if I had a loose stool , no I didn&#039;t but my BF has the same symptons and a very loose stool . I just wish he would go to the Doc so we don&#039;t pass this back and forth ..Arithamyicin has worked for me in the past but not with whatever this supercough is.  Its feeling like nothing ever before  is ... I just wonder how contagious it is\"\n",
      "Label 1 for Postive and 0 for negative:  0\n",
      "\n",
      "\n",
      "Review:  \"This is the only medication that works for me!\"\n",
      "Label 1 for Postive and 0 for negative:  1\n",
      "\n",
      "\n",
      "Review:  \"So far I&#039;m on day two and my coughing has almost stopped.  I&#039;ve had a cough for 3 weeks, but it got worse almost overnight with a fever of 102 and chills three days ago.  My doctor said I had a sinus infection, upper respiratory infection, and bronchitis. I can already tell this antibiotic really works, with only a little dizziness for a side effect.\"\n",
      "Label 1 for Postive and 0 for negative:  1\n",
      "\n",
      "\n"
     ]
    }
   ],
   "source": [
    "for i in range (8102,8115):\n",
    "    print(\"Review: \", review[i])\n",
    "    print(\"Label 1 for Postive and 0 for negative: \", labels[i])\n",
    "    print('\\n')"
   ]
  },
  {
   "cell_type": "markdown",
   "metadata": {
    "colab_type": "text",
    "id": "p6QpbCIPDqdM"
   },
   "source": [
    "Defining a function for getting CV and tfID vectors for review analysis"
   ]
  },
  {
   "cell_type": "code",
   "execution_count": 6,
   "metadata": {
    "colab": {},
    "colab_type": "code",
    "id": "0iwCGiL9DqdN"
   },
   "outputs": [],
   "source": [
    "def _tfIDV(list_review):\n",
    "    vectorizer = TfidfVectorizer()\n",
    "    X = vectorizer.fit_transform(list_review)\n",
    "    X = X.toarray()\n",
    "    return X"
   ]
  },
  {
   "cell_type": "markdown",
   "metadata": {
    "colab_type": "text",
    "id": "C3DK2z_-DqdP"
   },
   "source": [
    "Using the defined function get the tfID vectors and categorical label encoding"
   ]
  },
  {
   "cell_type": "code",
   "execution_count": 7,
   "metadata": {
    "colab": {},
    "colab_type": "code",
    "id": "JnNg_8ZBDqdQ"
   },
   "outputs": [],
   "source": [
    "data = _tfIDV(review)\n",
    "labels = to_categorical(labels, num_classes=2)\n",
    "x_train, x_test, y_train, y_test = train_test_split(data, labels, test_size=0.2, random_state=22, shuffle=False)"
   ]
  },
  {
   "cell_type": "code",
   "execution_count": 8,
   "metadata": {
    "colab": {
     "base_uri": "https://localhost:8080/",
     "height": 136
    },
    "colab_type": "code",
    "id": "DWWyjqK9pko2",
    "outputId": "4fce9f86-f1fc-401b-8128-31eee2ad4620"
   },
   "outputs": [
    {
     "data": {
      "text/plain": [
       "array([[0., 0., 0., ..., 0., 0., 0.],\n",
       "       [0., 0., 0., ..., 0., 0., 0.],\n",
       "       [0., 0., 0., ..., 0., 0., 0.],\n",
       "       ...,\n",
       "       [0., 0., 0., ..., 0., 0., 0.],\n",
       "       [0., 0., 0., ..., 0., 0., 0.],\n",
       "       [0., 0., 0., ..., 0., 0., 0.]])"
      ]
     },
     "execution_count": 8,
     "metadata": {},
     "output_type": "execute_result"
    }
   ],
   "source": [
    "x_test"
   ]
  },
  {
   "cell_type": "code",
   "execution_count": null,
   "metadata": {},
   "outputs": [],
   "source": []
  },
  {
   "cell_type": "markdown",
   "metadata": {
    "colab_type": "text",
    "id": "XRaALc3SDqdS"
   },
   "source": [
    "Creating a Simple Neural Network using keras API"
   ]
  },
  {
   "cell_type": "code",
   "execution_count": 9,
   "metadata": {
    "colab": {},
    "colab_type": "code",
    "id": "a-MSU8VtDqdT"
   },
   "outputs": [],
   "source": [
    "def _createModel():\n",
    "    model = tf.keras.Sequential()\n",
    "    model.add(layers.Dense(25, input_shape=(x_train.shape[1],)))\n",
    "    model.add(layers.BatchNormalization(momentum=0.8))    \n",
    "    model.add(layers.Activation('relu'))\n",
    "    model.add(layers.Dropout(0.5))\n",
    "    model.add(layers.Dense(25))\n",
    "    model.add(layers.BatchNormalization(momentum=0.8))\n",
    "    model.add(layers.Activation('relu'))\n",
    "    model.add(layers.Dropout(0.5))\n",
    "    model.add(layers.Dense(25))\n",
    "    model.add(layers.BatchNormalization(momentum=0.8))\n",
    "    model.add(layers.Activation('relu'))\n",
    "    model.add(layers.Dense(2, activation='softmax'))   \n",
    "    model.summary()\n",
    "    return model "
   ]
  },
  {
   "cell_type": "markdown",
   "metadata": {
    "colab_type": "text",
    "id": "LZ20kV-dDqdW"
   },
   "source": [
    "Compiling the model with binary_crossentropy loss function and optimizing with adam optimizer"
   ]
  },
  {
   "cell_type": "code",
   "execution_count": 10,
   "metadata": {
    "colab": {
     "base_uri": "https://localhost:8080/",
     "height": 918
    },
    "colab_type": "code",
    "id": "rU82F_k_DqdX",
    "outputId": "3c370196-ea7c-4f4a-a139-a2a65dfff66f"
   },
   "outputs": [
    {
     "name": "stdout",
     "output_type": "stream",
     "text": [
      "Model: \"sequential\"\n",
      "_________________________________________________________________\n",
      "Layer (type)                 Output Shape              Param #   \n",
      "=================================================================\n",
      "dense (Dense)                (None, 25)                292900    \n",
      "_________________________________________________________________\n",
      "batch_normalization (BatchNo (None, 25)                100       \n",
      "_________________________________________________________________\n",
      "activation (Activation)      (None, 25)                0         \n",
      "_________________________________________________________________\n",
      "dropout (Dropout)            (None, 25)                0         \n",
      "_________________________________________________________________\n",
      "dense_1 (Dense)              (None, 25)                650       \n",
      "_________________________________________________________________\n",
      "batch_normalization_1 (Batch (None, 25)                100       \n",
      "_________________________________________________________________\n",
      "activation_1 (Activation)    (None, 25)                0         \n",
      "_________________________________________________________________\n",
      "dropout_1 (Dropout)          (None, 25)                0         \n",
      "_________________________________________________________________\n",
      "dense_2 (Dense)              (None, 25)                650       \n",
      "_________________________________________________________________\n",
      "batch_normalization_2 (Batch (None, 25)                100       \n",
      "_________________________________________________________________\n",
      "activation_2 (Activation)    (None, 25)                0         \n",
      "_________________________________________________________________\n",
      "dense_3 (Dense)              (None, 2)                 52        \n",
      "=================================================================\n",
      "Total params: 294,552\n",
      "Trainable params: 294,402\n",
      "Non-trainable params: 150\n",
      "_________________________________________________________________\n",
      "Epoch 1/10\n",
      "72/72 [==============================] - 35s 275ms/step - loss: 0.7121 - accuracy: 0.5665 - val_loss: 0.6662 - val_accuracy: 0.5814\n",
      "Epoch 2/10\n",
      "72/72 [==============================] - 5s 73ms/step - loss: 0.5384 - accuracy: 0.7255 - val_loss: 0.6280 - val_accuracy: 0.6521\n",
      "Epoch 3/10\n",
      "72/72 [==============================] - 5s 70ms/step - loss: 0.4271 - accuracy: 0.8061 - val_loss: 0.5978 - val_accuracy: 0.6571\n",
      "Epoch 4/10\n",
      "72/72 [==============================] - 5s 74ms/step - loss: 0.3287 - accuracy: 0.8649 - val_loss: 0.6195 - val_accuracy: 0.6644\n",
      "Epoch 5/10\n",
      "72/72 [==============================] - 5s 74ms/step - loss: 0.2484 - accuracy: 0.9056 - val_loss: 0.6954 - val_accuracy: 0.6627\n",
      "Epoch 6/10\n",
      "72/72 [==============================] - 5s 71ms/step - loss: 0.1941 - accuracy: 0.9276 - val_loss: 0.7050 - val_accuracy: 0.6762\n",
      "Epoch 7/10\n",
      "72/72 [==============================] - 5s 68ms/step - loss: 0.1410 - accuracy: 0.9490 - val_loss: 0.7680 - val_accuracy: 0.6768\n",
      "Epoch 8/10\n",
      "72/72 [==============================] - 5s 76ms/step - loss: 0.1186 - accuracy: 0.9598 - val_loss: 0.8619 - val_accuracy: 0.6745\n",
      "Epoch 9/10\n",
      "72/72 [==============================] - 5s 70ms/step - loss: 0.0975 - accuracy: 0.9675 - val_loss: 0.9018 - val_accuracy: 0.6577\n",
      "Epoch 10/10\n",
      "72/72 [==============================] - 5s 71ms/step - loss: 0.0904 - accuracy: 0.9680 - val_loss: 0.9403 - val_accuracy: 0.6790\n",
      "Avg. Val_Accuracy from sklearn_CV: 0.6581930339336395\n"
     ]
    }
   ],
   "source": [
    "model = _createModel()\n",
    "model.compile(optimizer = \"adam\", loss = 'categorical_crossentropy', metrics = [\"accuracy\"])\n",
    "hist = model.fit(\n",
    "    x_train, y_train,\n",
    "    epochs= 10,\n",
    "    batch_size = 100,\n",
    "    validation_data = (x_test, y_test))\n",
    "print(\"Avg. Val_Accuracy from sklearn_CV:\", np.mean(hist.history[\"val_accuracy\"]))"
   ]
  },
  {
   "cell_type": "markdown",
   "metadata": {
    "colab_type": "text",
    "id": "syuDtsCaDqdZ"
   },
   "source": [
    "Visualizing training loss and accuracy"
   ]
  },
  {
   "cell_type": "code",
   "execution_count": 12,
   "metadata": {
    "colab": {
     "base_uri": "https://localhost:8080/",
     "height": 283
    },
    "colab_type": "code",
    "id": "20oqdi4kDqdZ",
    "outputId": "3cfe9e0b-e4cd-4354-c706-b60ddb591569"
   },
   "outputs": [
    {
     "data": {
      "image/png": "[encoded data removed]",
      "text/plain": [
       "<Figure size 432x288 with 2 Axes>"
      ]
     },
     "metadata": {
      "needs_background": "light"
     },
     "output_type": "display_data"
    }
   ],
   "source": [
    "fig, loss_ax = plt.subplots()\n",
    "\n",
    "acc_ax = loss_ax.twinx()\n",
    "\n",
    "loss_ax.set_ylim([0.0, 1.0])\n",
    "acc_ax.set_ylim([0.0, 1.0])\n",
    "\n",
    "loss_ax.plot(hist.history['accuracy'], 'r', label='training accuracy')\n",
    "acc_ax.plot(hist.history['loss'], 'b', label='training loss')\n",
    "\n",
    "loss_ax.set_xlabel('epoch')\n",
    "loss_ax.set_ylabel('loss')\n",
    "acc_ax.set_ylabel('accuray')\n",
    "\n",
    "loss_ax.legend(loc='upper left')\n",
    "acc_ax.legend(loc='lower left')\n",
    "\n",
    "plt.show()"
   ]
  },
  {
   "cell_type": "markdown",
   "metadata": {
    "colab_type": "text",
    "id": "l5aPbUOPDqdc"
   },
   "source": [
    "Evaluating model performance with scoring metrics"
   ]
  },
  {
   "cell_type": "code",
   "execution_count": 13,
   "metadata": {
    "colab": {
     "base_uri": "https://localhost:8080/",
     "height": 119
    },
    "colab_type": "code",
    "id": "KgXZP33MDqdd",
    "outputId": "cf740a34-6678-4cb7-bfcd-2baf4d96f186"
   },
   "outputs": [
    {
     "name": "stdout",
     "output_type": "stream",
     "text": [
      "Evaluation metrics for Sentiment Analysis:  \n",
      " Loss:  0.94026780128479 \n",
      " Accuracy:  0.6790123581886292 \n",
      " F1_Score:  0.678597779927528 \n",
      " Precision:  0.6786000483836826 \n",
      " Recall:  0.6790910698943751\n"
     ]
    }
   ],
   "source": [
    "scores = model.evaluate(x_test, y_test, verbose=0)\n",
    "y_pred = model.predict(x_test)\n",
    "y_pred = np.argmax(y_pred, axis=1)\n",
    "y_true = np.argmax(y_test, axis=1)\n",
    "score = precision_recall_fscore_support(y_true, y_pred, average='macro')\n",
    "print(\"Evaluation metrics for Sentiment Analysis: \", '\\n', \"Loss: \", scores[0], '\\n'\n",
    "     , \"Accuracy: \", scores[1], '\\n', \"F1_Score: \", score[2], '\\n', \"Precision: \", score[0], '\\n', \n",
    "     \"Recall: \", score[1])"
   ]
  },
  {
   "cell_type": "code",
   "execution_count": 14,
   "metadata": {
    "colab": {},
    "colab_type": "code",
    "id": "0MGneDHRDqdf"
   },
   "outputs": [],
   "source": [
    "def _posneg(x):\n",
    "    if x == 0:\n",
    "        return 'negative'\n",
    "    if x == 1:\n",
    "        return 'positive'"
   ]
  },
  {
   "cell_type": "markdown",
   "metadata": {
    "colab_type": "text",
    "id": "lO0J3g0QDqdh"
   },
   "source": [
    "Viewing some of the reviews with actual and predicted values"
   ]
  },
  {
   "cell_type": "code",
   "execution_count": 17,
   "metadata": {
    "colab": {},
    "colab_type": "code",
    "id": "9fyaePWCNNjB"
   },
   "outputs": [],
   "source": [
    "def _posneg1(x):\n",
    "    if x == 0:\n",
    "        return 'negative'\n",
    "    if x == 1:\n",
    "        return 'positive'"
   ]
  },
  {
   "cell_type": "code",
   "execution_count": 18,
   "metadata": {
    "colab": {
     "base_uri": "https://localhost:8080/",
     "height": 323
    },
    "colab_type": "code",
    "id": "Udt1EElSG7G2",
    "outputId": "29292501-6bf2-4495-9632-08e16d2a5d51"
   },
   "outputs": [
    {
     "name": "stdout",
     "output_type": "stream",
     "text": [
      "\n",
      "\n",
      "                                                 Review predicted_label\n",
      "0     \"This drug saved my life, I had been on almost...        positive\n",
      "1     \"Geodon is a very effective drug for me.  Comp...        positive\n",
      "2     \"This medicine completely changed my life in t...        positive\n",
      "3     \"I&#039;ve been on geodon for about three week...        negative\n",
      "4     \"I switched from Risperidal to Abilify two yea...        positive\n",
      "...                                                 ...             ...\n",
      "8901  \"I was very pleased with Integra F to treat my...        positive\n",
      "8902  \"I have pots syndrome And low blood plasma..\\r...        negative\n",
      "8903  \"Was taking twice a day while I was pregnant. ...        negative\n",
      "8904  \"I had a haematocrit of 18 and I started takin...        positive\n",
      "8905  \"Went from 8.5 hemoglobin to 11 and then back ...        negative\n",
      "\n",
      "[8906 rows x 2 columns]\n",
      "\n",
      "\n"
     ]
    }
   ],
   "source": [
    "preds = model.predict(data)\n",
    "preds = np.argmax(preds, axis=1)\n",
    "d = {'Review':review[:], \n",
    "    'predicted_label': preds[:]}\n",
    "table = pd.DataFrame(data=d)\n",
    "tableP = table['predicted_label'].apply(_posneg1)\n",
    "table = table['Review']\n",
    "res = pd.concat([table, tableP], axis=1, sort=False)\n",
    "print('\\n')\n",
    "print(res)\n",
    "print('\\n')"
   ]
  },
  {
   "cell_type": "code",
   "execution_count": 19,
   "metadata": {
    "colab": {},
    "colab_type": "code",
    "id": "6FNJvZFaN6Q2"
   },
   "outputs": [],
   "source": [
    "pred_labels = pd.DataFrame(res)"
   ]
  },
  {
   "cell_type": "code",
   "execution_count": 20,
   "metadata": {
    "colab": {},
    "colab_type": "code",
    "id": "SaBUnzEXPFOd"
   },
   "outputs": [],
   "source": [
    "pred_labels.to_csv(\"predicted_lables.csv\")"
   ]
  },
  {
   "cell_type": "code",
   "execution_count": 21,
   "metadata": {
    "colab": {},
    "colab_type": "code",
    "id": "wXFNm2nHPItr"
   },
   "outputs": [],
   "source": [
    "df2 = pd.read_csv('predicted_lables.csv')"
   ]
  },
  {
   "cell_type": "code",
   "execution_count": 22,
   "metadata": {
    "colab": {
     "base_uri": "https://localhost:8080/",
     "height": 419
    },
    "colab_type": "code",
    "id": "Yl9lRJBwQdFJ",
    "outputId": "ea1debe6-0341-4508-abb7-395ec0754363"
   },
   "outputs": [
    {
     "data": {
      "text/html": [
       "<div>\n",
       "<style scoped>\n",
       "    .dataframe tbody tr th:only-of-type {\n",
       "        vertical-align: middle;\n",
       "    }\n",
       "\n",
       "    .dataframe tbody tr th {\n",
       "        vertical-align: top;\n",
       "    }\n",
       "\n",
       "    .dataframe thead th {\n",
       "        text-align: right;\n",
       "    }\n",
       "</style>\n",
       "<table border=\"1\" class=\"dataframe\">\n",
       "  <thead>\n",
       "    <tr style=\"text-align: right;\">\n",
       "      <th></th>\n",
       "      <th>Unnamed: 0</th>\n",
       "      <th>Review</th>\n",
       "      <th>predicted_label</th>\n",
       "    </tr>\n",
       "  </thead>\n",
       "  <tbody>\n",
       "    <tr>\n",
       "      <th>8101</th>\n",
       "      <td>8101</td>\n",
       "      <td>\"This antibiotic worked wonders for my cough/b...</td>\n",
       "      <td>positive</td>\n",
       "    </tr>\n",
       "    <tr>\n",
       "      <th>8102</th>\n",
       "      <td>8102</td>\n",
       "      <td>\"I&amp;#039;m currently on day two of the pill, an...</td>\n",
       "      <td>negative</td>\n",
       "    </tr>\n",
       "    <tr>\n",
       "      <th>8103</th>\n",
       "      <td>8103</td>\n",
       "      <td>\"This medicine gave me diarrhea.\"</td>\n",
       "      <td>negative</td>\n",
       "    </tr>\n",
       "    <tr>\n",
       "      <th>8104</th>\n",
       "      <td>8104</td>\n",
       "      <td>\"Helped loosen this putty gunk in my lungs mak...</td>\n",
       "      <td>positive</td>\n",
       "    </tr>\n",
       "    <tr>\n",
       "      <th>8105</th>\n",
       "      <td>8105</td>\n",
       "      <td>\"I started taking Ceftin for Bronchitis and I ...</td>\n",
       "      <td>positive</td>\n",
       "    </tr>\n",
       "    <tr>\n",
       "      <th>8106</th>\n",
       "      <td>8106</td>\n",
       "      <td>\"Disclosure: This is just one person&amp;#039;s ex...</td>\n",
       "      <td>positive</td>\n",
       "    </tr>\n",
       "    <tr>\n",
       "      <th>8107</th>\n",
       "      <td>8107</td>\n",
       "      <td>\"Extreme stomach discomfort and nausea as well...</td>\n",
       "      <td>negative</td>\n",
       "    </tr>\n",
       "    <tr>\n",
       "      <th>8108</th>\n",
       "      <td>8108</td>\n",
       "      <td>\"On March 23, 2017 went to urgent care and was...</td>\n",
       "      <td>negative</td>\n",
       "    </tr>\n",
       "    <tr>\n",
       "      <th>8109</th>\n",
       "      <td>8109</td>\n",
       "      <td>\"Dosage was 500 mg for 10 days. Stopped after ...</td>\n",
       "      <td>negative</td>\n",
       "    </tr>\n",
       "    <tr>\n",
       "      <th>8110</th>\n",
       "      <td>8110</td>\n",
       "      <td>\"I took Mucinex for a bad case of bronchitis. ...</td>\n",
       "      <td>negative</td>\n",
       "    </tr>\n",
       "    <tr>\n",
       "      <th>8111</th>\n",
       "      <td>8111</td>\n",
       "      <td>\"Was on this for 3 days and had very watery di...</td>\n",
       "      <td>negative</td>\n",
       "    </tr>\n",
       "  </tbody>\n",
       "</table>\n",
       "</div>"
      ],
      "text/plain": [
       "      Unnamed: 0                                             Review  \\\n",
       "8101        8101  \"This antibiotic worked wonders for my cough/b...   \n",
       "8102        8102  \"I&#039;m currently on day two of the pill, an...   \n",
       "8103        8103                  \"This medicine gave me diarrhea.\"   \n",
       "8104        8104  \"Helped loosen this putty gunk in my lungs mak...   \n",
       "8105        8105  \"I started taking Ceftin for Bronchitis and I ...   \n",
       "8106        8106  \"Disclosure: This is just one person&#039;s ex...   \n",
       "8107        8107  \"Extreme stomach discomfort and nausea as well...   \n",
       "8108        8108  \"On March 23, 2017 went to urgent care and was...   \n",
       "8109        8109  \"Dosage was 500 mg for 10 days. Stopped after ...   \n",
       "8110        8110  \"I took Mucinex for a bad case of bronchitis. ...   \n",
       "8111        8111  \"Was on this for 3 days and had very watery di...   \n",
       "\n",
       "     predicted_label  \n",
       "8101        positive  \n",
       "8102        negative  \n",
       "8103        negative  \n",
       "8104        positive  \n",
       "8105        positive  \n",
       "8106        positive  \n",
       "8107        negative  \n",
       "8108        negative  \n",
       "8109        negative  \n",
       "8110        negative  \n",
       "8111        negative  "
      ]
     },
     "execution_count": 22,
     "metadata": {},
     "output_type": "execute_result"
    }
   ],
   "source": [
    "df2.iloc[8101:8112]"
   ]
  },
  {
   "cell_type": "code",
   "execution_count": 23,
   "metadata": {},
   "outputs": [
    {
     "data": {
      "text/html": [
       "<div>\n",
       "<style scoped>\n",
       "    .dataframe tbody tr th:only-of-type {\n",
       "        vertical-align: middle;\n",
       "    }\n",
       "\n",
       "    .dataframe tbody tr th {\n",
       "        vertical-align: top;\n",
       "    }\n",
       "\n",
       "    .dataframe thead th {\n",
       "        text-align: right;\n",
       "    }\n",
       "</style>\n",
       "<table border=\"1\" class=\"dataframe\">\n",
       "  <thead>\n",
       "    <tr style=\"text-align: right;\">\n",
       "      <th></th>\n",
       "      <th>Unnamed: 0</th>\n",
       "      <th>Review</th>\n",
       "      <th>predicted_label</th>\n",
       "    </tr>\n",
       "  </thead>\n",
       "  <tbody>\n",
       "    <tr>\n",
       "      <th>8000</th>\n",
       "      <td>8000</td>\n",
       "      <td>\"This drug is a lifesaver for my wife, but tak...</td>\n",
       "      <td>negative</td>\n",
       "    </tr>\n",
       "    <tr>\n",
       "      <th>8001</th>\n",
       "      <td>8001</td>\n",
       "      <td>\"Ok first off whoever said to take with milk i...</td>\n",
       "      <td>negative</td>\n",
       "    </tr>\n",
       "    <tr>\n",
       "      <th>8002</th>\n",
       "      <td>8002</td>\n",
       "      <td>\"Very powerful. Works good for the infections ...</td>\n",
       "      <td>positive</td>\n",
       "    </tr>\n",
       "    <tr>\n",
       "      <th>8003</th>\n",
       "      <td>8003</td>\n",
       "      <td>\"Took this last year for my first bout with pn...</td>\n",
       "      <td>positive</td>\n",
       "    </tr>\n",
       "    <tr>\n",
       "      <th>8004</th>\n",
       "      <td>8004</td>\n",
       "      <td>\"It cleared me right up, stopped coughing like...</td>\n",
       "      <td>positive</td>\n",
       "    </tr>\n",
       "    <tr>\n",
       "      <th>8005</th>\n",
       "      <td>8005</td>\n",
       "      <td>\"Was prescribed doxycycline hcl for bronchitis...</td>\n",
       "      <td>positive</td>\n",
       "    </tr>\n",
       "    <tr>\n",
       "      <th>8006</th>\n",
       "      <td>8006</td>\n",
       "      <td>\"I have asthma and recently came\\r\\ndown with ...</td>\n",
       "      <td>positive</td>\n",
       "    </tr>\n",
       "    <tr>\n",
       "      <th>8007</th>\n",
       "      <td>8007</td>\n",
       "      <td>\"On my third day with Levaquin. Only problem t...</td>\n",
       "      <td>positive</td>\n",
       "    </tr>\n",
       "    <tr>\n",
       "      <th>8008</th>\n",
       "      <td>8008</td>\n",
       "      <td>\"I cannot sleep. \"</td>\n",
       "      <td>negative</td>\n",
       "    </tr>\n",
       "    <tr>\n",
       "      <th>8009</th>\n",
       "      <td>8009</td>\n",
       "      <td>\"I&amp;#039;ve been on Qvar 40mg 2 shots twice a d...</td>\n",
       "      <td>positive</td>\n",
       "    </tr>\n",
       "  </tbody>\n",
       "</table>\n",
       "</div>"
      ],
      "text/plain": [
       "      Unnamed: 0                                             Review  \\\n",
       "8000        8000  \"This drug is a lifesaver for my wife, but tak...   \n",
       "8001        8001  \"Ok first off whoever said to take with milk i...   \n",
       "8002        8002  \"Very powerful. Works good for the infections ...   \n",
       "8003        8003  \"Took this last year for my first bout with pn...   \n",
       "8004        8004  \"It cleared me right up, stopped coughing like...   \n",
       "8005        8005  \"Was prescribed doxycycline hcl for bronchitis...   \n",
       "8006        8006  \"I have asthma and recently came\\r\\ndown with ...   \n",
       "8007        8007  \"On my third day with Levaquin. Only problem t...   \n",
       "8008        8008                                 \"I cannot sleep. \"   \n",
       "8009        8009  \"I&#039;ve been on Qvar 40mg 2 shots twice a d...   \n",
       "\n",
       "     predicted_label  \n",
       "8000        negative  \n",
       "8001        negative  \n",
       "8002        positive  \n",
       "8003        positive  \n",
       "8004        positive  \n",
       "8005        positive  \n",
       "8006        positive  \n",
       "8007        positive  \n",
       "8008        negative  \n",
       "8009        positive  "
      ]
     },
     "execution_count": 23,
     "metadata": {},
     "output_type": "execute_result"
    }
   ],
   "source": [
    "df2.iloc[8000:8010]"
   ]
  },
  {
   "cell_type": "code",
   "execution_count": 24,
   "metadata": {
    "colab": {},
    "colab_type": "code",
    "id": "seW7ypeEQfk1"
   },
   "outputs": [],
   "source": [
    "df2 = df2.drop(\"Unnamed: 0\", axis = 1)"
   ]
  },
  {
   "cell_type": "code",
   "execution_count": 25,
   "metadata": {
    "colab": {
     "base_uri": "https://localhost:8080/",
     "height": 419
    },
    "colab_type": "code",
    "id": "jT-mM8yTSjL6",
    "outputId": "474a11ea-a8b0-45e9-c47a-57464c60a953"
   },
   "outputs": [
    {
     "data": {
      "text/html": [
       "<div>\n",
       "<style scoped>\n",
       "    .dataframe tbody tr th:only-of-type {\n",
       "        vertical-align: middle;\n",
       "    }\n",
       "\n",
       "    .dataframe tbody tr th {\n",
       "        vertical-align: top;\n",
       "    }\n",
       "\n",
       "    .dataframe thead th {\n",
       "        text-align: right;\n",
       "    }\n",
       "</style>\n",
       "<table border=\"1\" class=\"dataframe\">\n",
       "  <thead>\n",
       "    <tr style=\"text-align: right;\">\n",
       "      <th></th>\n",
       "      <th>Review</th>\n",
       "      <th>predicted_label</th>\n",
       "    </tr>\n",
       "  </thead>\n",
       "  <tbody>\n",
       "    <tr>\n",
       "      <th>0</th>\n",
       "      <td>\"This drug saved my life, I had been on almost...</td>\n",
       "      <td>positive</td>\n",
       "    </tr>\n",
       "    <tr>\n",
       "      <th>1</th>\n",
       "      <td>\"Geodon is a very effective drug for me.  Comp...</td>\n",
       "      <td>positive</td>\n",
       "    </tr>\n",
       "    <tr>\n",
       "      <th>2</th>\n",
       "      <td>\"This medicine completely changed my life in t...</td>\n",
       "      <td>positive</td>\n",
       "    </tr>\n",
       "    <tr>\n",
       "      <th>3</th>\n",
       "      <td>\"I&amp;#039;ve been on geodon for about three week...</td>\n",
       "      <td>negative</td>\n",
       "    </tr>\n",
       "    <tr>\n",
       "      <th>4</th>\n",
       "      <td>\"I switched from Risperidal to Abilify two yea...</td>\n",
       "      <td>positive</td>\n",
       "    </tr>\n",
       "    <tr>\n",
       "      <th>...</th>\n",
       "      <td>...</td>\n",
       "      <td>...</td>\n",
       "    </tr>\n",
       "    <tr>\n",
       "      <th>8901</th>\n",
       "      <td>\"I was very pleased with Integra F to treat my...</td>\n",
       "      <td>positive</td>\n",
       "    </tr>\n",
       "    <tr>\n",
       "      <th>8902</th>\n",
       "      <td>\"I have pots syndrome And low blood plasma..\\r...</td>\n",
       "      <td>negative</td>\n",
       "    </tr>\n",
       "    <tr>\n",
       "      <th>8903</th>\n",
       "      <td>\"Was taking twice a day while I was pregnant. ...</td>\n",
       "      <td>negative</td>\n",
       "    </tr>\n",
       "    <tr>\n",
       "      <th>8904</th>\n",
       "      <td>\"I had a haematocrit of 18 and I started takin...</td>\n",
       "      <td>positive</td>\n",
       "    </tr>\n",
       "    <tr>\n",
       "      <th>8905</th>\n",
       "      <td>\"Went from 8.5 hemoglobin to 11 and then back ...</td>\n",
       "      <td>negative</td>\n",
       "    </tr>\n",
       "  </tbody>\n",
       "</table>\n",
       "<p>8906 rows × 2 columns</p>\n",
       "</div>"
      ],
      "text/plain": [
       "                                                 Review predicted_label\n",
       "0     \"This drug saved my life, I had been on almost...        positive\n",
       "1     \"Geodon is a very effective drug for me.  Comp...        positive\n",
       "2     \"This medicine completely changed my life in t...        positive\n",
       "3     \"I&#039;ve been on geodon for about three week...        negative\n",
       "4     \"I switched from Risperidal to Abilify two yea...        positive\n",
       "...                                                 ...             ...\n",
       "8901  \"I was very pleased with Integra F to treat my...        positive\n",
       "8902  \"I have pots syndrome And low blood plasma..\\r...        negative\n",
       "8903  \"Was taking twice a day while I was pregnant. ...        negative\n",
       "8904  \"I had a haematocrit of 18 and I started takin...        positive\n",
       "8905  \"Went from 8.5 hemoglobin to 11 and then back ...        negative\n",
       "\n",
       "[8906 rows x 2 columns]"
      ]
     },
     "execution_count": 25,
     "metadata": {},
     "output_type": "execute_result"
    }
   ],
   "source": [
    "df2"
   ]
  },
  {
   "cell_type": "code",
   "execution_count": 26,
   "metadata": {
    "colab": {},
    "colab_type": "code",
    "id": "b24gB8PQQjR6"
   },
   "outputs": [],
   "source": [
    "df1 = pd.read_csv(\"Merged_Dataset.csv\")"
   ]
  },
  {
   "cell_type": "code",
   "execution_count": 27,
   "metadata": {
    "colab": {
     "base_uri": "https://localhost:8080/",
     "height": 419
    },
    "colab_type": "code",
    "id": "B-Mp1LsTQu1L",
    "outputId": "18d02b28-0b8d-4b01-b147-c1a14e115443"
   },
   "outputs": [
    {
     "data": {
      "text/html": [
       "<div>\n",
       "<style scoped>\n",
       "    .dataframe tbody tr th:only-of-type {\n",
       "        vertical-align: middle;\n",
       "    }\n",
       "\n",
       "    .dataframe tbody tr th {\n",
       "        vertical-align: top;\n",
       "    }\n",
       "\n",
       "    .dataframe thead th {\n",
       "        text-align: right;\n",
       "    }\n",
       "</style>\n",
       "<table border=\"1\" class=\"dataframe\">\n",
       "  <thead>\n",
       "    <tr style=\"text-align: right;\">\n",
       "      <th></th>\n",
       "      <th>Drug</th>\n",
       "      <th>Disease</th>\n",
       "      <th>Review</th>\n",
       "      <th>Rating</th>\n",
       "      <th>UsefulCount</th>\n",
       "      <th>Symptoms</th>\n",
       "    </tr>\n",
       "  </thead>\n",
       "  <tbody>\n",
       "    <tr>\n",
       "      <th>0</th>\n",
       "      <td>Olanzapine</td>\n",
       "      <td>schizophrenia</td>\n",
       "      <td>\"This drug saved my life, I had been on almost...</td>\n",
       "      <td>10</td>\n",
       "      <td>6</td>\n",
       "      <td>['hallucinations auditory', 'hypersomnolence',...</td>\n",
       "    </tr>\n",
       "    <tr>\n",
       "      <th>1</th>\n",
       "      <td>Ziprasidone</td>\n",
       "      <td>schizophrenia</td>\n",
       "      <td>\"Geodon is a very effective drug for me.  Comp...</td>\n",
       "      <td>10</td>\n",
       "      <td>33</td>\n",
       "      <td>['hallucinations auditory', 'hypersomnolence',...</td>\n",
       "    </tr>\n",
       "    <tr>\n",
       "      <th>2</th>\n",
       "      <td>Loxapine</td>\n",
       "      <td>schizophrenia</td>\n",
       "      <td>\"This medicine completely changed my life in t...</td>\n",
       "      <td>10</td>\n",
       "      <td>22</td>\n",
       "      <td>['hallucinations auditory', 'hypersomnolence',...</td>\n",
       "    </tr>\n",
       "    <tr>\n",
       "      <th>3</th>\n",
       "      <td>Ziprasidone</td>\n",
       "      <td>schizophrenia</td>\n",
       "      <td>\"I&amp;#039;ve been on geodon for about three week...</td>\n",
       "      <td>7</td>\n",
       "      <td>6</td>\n",
       "      <td>['hallucinations auditory', 'hypersomnolence',...</td>\n",
       "    </tr>\n",
       "    <tr>\n",
       "      <th>4</th>\n",
       "      <td>Abilify</td>\n",
       "      <td>schizophrenia</td>\n",
       "      <td>\"I switched from Risperidal to Abilify two yea...</td>\n",
       "      <td>10</td>\n",
       "      <td>53</td>\n",
       "      <td>['hallucinations auditory', 'hypersomnolence',...</td>\n",
       "    </tr>\n",
       "    <tr>\n",
       "      <th>...</th>\n",
       "      <td>...</td>\n",
       "      <td>...</td>\n",
       "      <td>...</td>\n",
       "      <td>...</td>\n",
       "      <td>...</td>\n",
       "      <td>...</td>\n",
       "    </tr>\n",
       "    <tr>\n",
       "      <th>8901</th>\n",
       "      <td>Integra F</td>\n",
       "      <td>anemia</td>\n",
       "      <td>\"I was very pleased with Integra F to treat my...</td>\n",
       "      <td>9</td>\n",
       "      <td>29</td>\n",
       "      <td>['chill', 'guaiac positive', 'monoclonal', 'ec...</td>\n",
       "    </tr>\n",
       "    <tr>\n",
       "      <th>8902</th>\n",
       "      <td>Procrit</td>\n",
       "      <td>anemia</td>\n",
       "      <td>\"I have pots syndrome And low blood plasma..\\r...</td>\n",
       "      <td>1</td>\n",
       "      <td>0</td>\n",
       "      <td>['chill', 'guaiac positive', 'monoclonal', 'ec...</td>\n",
       "    </tr>\n",
       "    <tr>\n",
       "      <th>8903</th>\n",
       "      <td>Multivitamin with iron</td>\n",
       "      <td>anemia</td>\n",
       "      <td>\"Was taking twice a day while I was pregnant. ...</td>\n",
       "      <td>8</td>\n",
       "      <td>5</td>\n",
       "      <td>['chill', 'guaiac positive', 'monoclonal', 'ec...</td>\n",
       "    </tr>\n",
       "    <tr>\n",
       "      <th>8904</th>\n",
       "      <td>Multivitamin with iron</td>\n",
       "      <td>anemia</td>\n",
       "      <td>\"I had a haematocrit of 18 and I started takin...</td>\n",
       "      <td>10</td>\n",
       "      <td>22</td>\n",
       "      <td>['chill', 'guaiac positive', 'monoclonal', 'ec...</td>\n",
       "    </tr>\n",
       "    <tr>\n",
       "      <th>8905</th>\n",
       "      <td>Epoetin alfa</td>\n",
       "      <td>anemia</td>\n",
       "      <td>\"Went from 8.5 hemoglobin to 11 and then back ...</td>\n",
       "      <td>1</td>\n",
       "      <td>3</td>\n",
       "      <td>['chill', 'guaiac positive', 'monoclonal', 'ec...</td>\n",
       "    </tr>\n",
       "  </tbody>\n",
       "</table>\n",
       "<p>8906 rows × 6 columns</p>\n",
       "</div>"
      ],
      "text/plain": [
       "                        Drug        Disease  \\\n",
       "0                 Olanzapine  schizophrenia   \n",
       "1                Ziprasidone  schizophrenia   \n",
       "2                   Loxapine  schizophrenia   \n",
       "3                Ziprasidone  schizophrenia   \n",
       "4                    Abilify  schizophrenia   \n",
       "...                      ...            ...   \n",
       "8901               Integra F         anemia   \n",
       "8902                 Procrit         anemia   \n",
       "8903  Multivitamin with iron         anemia   \n",
       "8904  Multivitamin with iron         anemia   \n",
       "8905            Epoetin alfa         anemia   \n",
       "\n",
       "                                                 Review  Rating  UsefulCount  \\\n",
       "0     \"This drug saved my life, I had been on almost...      10            6   \n",
       "1     \"Geodon is a very effective drug for me.  Comp...      10           33   \n",
       "2     \"This medicine completely changed my life in t...      10           22   \n",
       "3     \"I&#039;ve been on geodon for about three week...       7            6   \n",
       "4     \"I switched from Risperidal to Abilify two yea...      10           53   \n",
       "...                                                 ...     ...          ...   \n",
       "8901  \"I was very pleased with Integra F to treat my...       9           29   \n",
       "8902  \"I have pots syndrome And low blood plasma..\\r...       1            0   \n",
       "8903  \"Was taking twice a day while I was pregnant. ...       8            5   \n",
       "8904  \"I had a haematocrit of 18 and I started takin...      10           22   \n",
       "8905  \"Went from 8.5 hemoglobin to 11 and then back ...       1            3   \n",
       "\n",
       "                                               Symptoms  \n",
       "0     ['hallucinations auditory', 'hypersomnolence',...  \n",
       "1     ['hallucinations auditory', 'hypersomnolence',...  \n",
       "2     ['hallucinations auditory', 'hypersomnolence',...  \n",
       "3     ['hallucinations auditory', 'hypersomnolence',...  \n",
       "4     ['hallucinations auditory', 'hypersomnolence',...  \n",
       "...                                                 ...  \n",
       "8901  ['chill', 'guaiac positive', 'monoclonal', 'ec...  \n",
       "8902  ['chill', 'guaiac positive', 'monoclonal', 'ec...  \n",
       "8903  ['chill', 'guaiac positive', 'monoclonal', 'ec...  \n",
       "8904  ['chill', 'guaiac positive', 'monoclonal', 'ec...  \n",
       "8905  ['chill', 'guaiac positive', 'monoclonal', 'ec...  \n",
       "\n",
       "[8906 rows x 6 columns]"
      ]
     },
     "execution_count": 27,
     "metadata": {},
     "output_type": "execute_result"
    }
   ],
   "source": [
    "df1"
   ]
  },
  {
   "cell_type": "code",
   "execution_count": 28,
   "metadata": {
    "colab": {
     "base_uri": "https://localhost:8080/",
     "height": 136
    },
    "colab_type": "code",
    "id": "2a_P4A5Xuj8u",
    "outputId": "e8b296c0-baf9-4619-cbbb-259fe7cd39ef"
   },
   "outputs": [
    {
     "data": {
      "text/plain": [
       "Drug           object\n",
       "Disease        object\n",
       "Review         object\n",
       "Rating          int64\n",
       "UsefulCount     int64\n",
       "Symptoms       object\n",
       "dtype: object"
      ]
     },
     "execution_count": 28,
     "metadata": {},
     "output_type": "execute_result"
    }
   ],
   "source": [
    "df1.dtypes"
   ]
  },
  {
   "cell_type": "code",
   "execution_count": 31,
   "metadata": {
    "colab": {
     "base_uri": "https://localhost:8080/",
     "height": 173
    },
    "colab_type": "code",
    "id": "M-oUiaeTnqhy",
    "outputId": "977ab03b-39d2-47db-885c-e3477cb23e8e"
   },
   "outputs": [
    {
     "data": {
      "text/html": [
       "<div>\n",
       "<style scoped>\n",
       "    .dataframe tbody tr th:only-of-type {\n",
       "        vertical-align: middle;\n",
       "    }\n",
       "\n",
       "    .dataframe tbody tr th {\n",
       "        vertical-align: top;\n",
       "    }\n",
       "\n",
       "    .dataframe thead th {\n",
       "        text-align: right;\n",
       "    }\n",
       "</style>\n",
       "<table border=\"1\" class=\"dataframe\">\n",
       "  <thead>\n",
       "    <tr style=\"text-align: right;\">\n",
       "      <th></th>\n",
       "      <th>Review</th>\n",
       "      <th>predicted_label</th>\n",
       "      <th>cnt</th>\n",
       "    </tr>\n",
       "  </thead>\n",
       "  <tbody>\n",
       "    <tr>\n",
       "      <th>0</th>\n",
       "      <td>\"Good\"</td>\n",
       "      <td>negative</td>\n",
       "      <td>3</td>\n",
       "    </tr>\n",
       "    <tr>\n",
       "      <th>1</th>\n",
       "      <td>\"I have had grand mal seizures since I was 9 y...</td>\n",
       "      <td>positive</td>\n",
       "      <td>4</td>\n",
       "    </tr>\n",
       "  </tbody>\n",
       "</table>\n",
       "</div>"
      ],
      "text/plain": [
       "                                              Review predicted_label  cnt\n",
       "0                                             \"Good\"        negative    3\n",
       "1  \"I have had grand mal seizures since I was 9 y...        positive    4"
      ]
     },
     "execution_count": 31,
     "metadata": {},
     "output_type": "execute_result"
    }
   ],
   "source": [
    "ps.sqldf(\"\"\"select Review, predicted_label, count(*) as cnt from df2 group by predicted_label, review having cnt>2\"\"\")"
   ]
  },
  {
   "cell_type": "code",
   "execution_count": 32,
   "metadata": {
    "colab": {
     "base_uri": "https://localhost:8080/",
     "height": 204
    },
    "colab_type": "code",
    "id": "mFHSR3fpq2Hi",
    "outputId": "b25ad1c1-36d5-40bf-ea52-b916936d89ac"
   },
   "outputs": [
    {
     "data": {
      "text/html": [
       "<div>\n",
       "<style scoped>\n",
       "    .dataframe tbody tr th:only-of-type {\n",
       "        vertical-align: middle;\n",
       "    }\n",
       "\n",
       "    .dataframe tbody tr th {\n",
       "        vertical-align: top;\n",
       "    }\n",
       "\n",
       "    .dataframe thead th {\n",
       "        text-align: right;\n",
       "    }\n",
       "</style>\n",
       "<table border=\"1\" class=\"dataframe\">\n",
       "  <thead>\n",
       "    <tr style=\"text-align: right;\">\n",
       "      <th></th>\n",
       "      <th>Review</th>\n",
       "      <th>predicted_label</th>\n",
       "    </tr>\n",
       "  </thead>\n",
       "  <tbody>\n",
       "    <tr>\n",
       "      <th>0</th>\n",
       "      <td>\"Good\"</td>\n",
       "      <td>negative</td>\n",
       "    </tr>\n",
       "    <tr>\n",
       "      <th>1</th>\n",
       "      <td>\"Good\"</td>\n",
       "      <td>negative</td>\n",
       "    </tr>\n",
       "    <tr>\n",
       "      <th>2</th>\n",
       "      <td>\"Good\"</td>\n",
       "      <td>negative</td>\n",
       "    </tr>\n",
       "  </tbody>\n",
       "</table>\n",
       "</div>"
      ],
      "text/plain": [
       "   Review predicted_label\n",
       "0  \"Good\"        negative\n",
       "1  \"Good\"        negative\n",
       "2  \"Good\"        negative"
      ]
     },
     "execution_count": 32,
     "metadata": {},
     "output_type": "execute_result"
    }
   ],
   "source": [
    "ps.sqldf(\"\"\"select * from df2 where review like '%\"Good\"%'\"\"\")"
   ]
  },
  {
   "cell_type": "code",
   "execution_count": 33,
   "metadata": {
    "colab": {},
    "colab_type": "code",
    "id": "fOYarvqVw-jX"
   },
   "outputs": [],
   "source": [
    "df3 = ps.sqldf(\"\"\"select distinct review,predicted_label from df2\"\"\")"
   ]
  },
  {
   "cell_type": "code",
   "execution_count": 34,
   "metadata": {
    "colab": {},
    "colab_type": "code",
    "id": "rWKyO22HTIgg"
   },
   "outputs": [],
   "source": [
    "merged_data = ps.sqldf(\"\"\"select df1.*,df3.predicted_label from df1 left join df3 on df1.Review=df3.Review\"\"\")"
   ]
  },
  {
   "cell_type": "code",
   "execution_count": 35,
   "metadata": {
    "colab": {
     "base_uri": "https://localhost:8080/",
     "height": 419
    },
    "colab_type": "code",
    "id": "Tfi1ahiMTK5b",
    "outputId": "beca3009-ca0e-452c-cc13-1d19573ba3c6"
   },
   "outputs": [
    {
     "data": {
      "text/html": [
       "<div>\n",
       "<style scoped>\n",
       "    .dataframe tbody tr th:only-of-type {\n",
       "        vertical-align: middle;\n",
       "    }\n",
       "\n",
       "    .dataframe tbody tr th {\n",
       "        vertical-align: top;\n",
       "    }\n",
       "\n",
       "    .dataframe thead th {\n",
       "        text-align: right;\n",
       "    }\n",
       "</style>\n",
       "<table border=\"1\" class=\"dataframe\">\n",
       "  <thead>\n",
       "    <tr style=\"text-align: right;\">\n",
       "      <th></th>\n",
       "      <th>Drug</th>\n",
       "      <th>Disease</th>\n",
       "      <th>Review</th>\n",
       "      <th>Rating</th>\n",
       "      <th>UsefulCount</th>\n",
       "      <th>Symptoms</th>\n",
       "      <th>predicted_label</th>\n",
       "    </tr>\n",
       "  </thead>\n",
       "  <tbody>\n",
       "    <tr>\n",
       "      <th>0</th>\n",
       "      <td>Olanzapine</td>\n",
       "      <td>schizophrenia</td>\n",
       "      <td>\"This drug saved my life, I had been on almost...</td>\n",
       "      <td>10</td>\n",
       "      <td>6</td>\n",
       "      <td>['hallucinations auditory', 'hypersomnolence',...</td>\n",
       "      <td>positive</td>\n",
       "    </tr>\n",
       "    <tr>\n",
       "      <th>1</th>\n",
       "      <td>Ziprasidone</td>\n",
       "      <td>schizophrenia</td>\n",
       "      <td>\"Geodon is a very effective drug for me.  Comp...</td>\n",
       "      <td>10</td>\n",
       "      <td>33</td>\n",
       "      <td>['hallucinations auditory', 'hypersomnolence',...</td>\n",
       "      <td>positive</td>\n",
       "    </tr>\n",
       "    <tr>\n",
       "      <th>2</th>\n",
       "      <td>Loxapine</td>\n",
       "      <td>schizophrenia</td>\n",
       "      <td>\"This medicine completely changed my life in t...</td>\n",
       "      <td>10</td>\n",
       "      <td>22</td>\n",
       "      <td>['hallucinations auditory', 'hypersomnolence',...</td>\n",
       "      <td>positive</td>\n",
       "    </tr>\n",
       "    <tr>\n",
       "      <th>3</th>\n",
       "      <td>Ziprasidone</td>\n",
       "      <td>schizophrenia</td>\n",
       "      <td>\"I&amp;#039;ve been on geodon for about three week...</td>\n",
       "      <td>7</td>\n",
       "      <td>6</td>\n",
       "      <td>['hallucinations auditory', 'hypersomnolence',...</td>\n",
       "      <td>negative</td>\n",
       "    </tr>\n",
       "    <tr>\n",
       "      <th>4</th>\n",
       "      <td>Abilify</td>\n",
       "      <td>schizophrenia</td>\n",
       "      <td>\"I switched from Risperidal to Abilify two yea...</td>\n",
       "      <td>10</td>\n",
       "      <td>53</td>\n",
       "      <td>['hallucinations auditory', 'hypersomnolence',...</td>\n",
       "      <td>positive</td>\n",
       "    </tr>\n",
       "    <tr>\n",
       "      <th>...</th>\n",
       "      <td>...</td>\n",
       "      <td>...</td>\n",
       "      <td>...</td>\n",
       "      <td>...</td>\n",
       "      <td>...</td>\n",
       "      <td>...</td>\n",
       "      <td>...</td>\n",
       "    </tr>\n",
       "    <tr>\n",
       "      <th>8901</th>\n",
       "      <td>Integra F</td>\n",
       "      <td>anemia</td>\n",
       "      <td>\"I was very pleased with Integra F to treat my...</td>\n",
       "      <td>9</td>\n",
       "      <td>29</td>\n",
       "      <td>['chill', 'guaiac positive', 'monoclonal', 'ec...</td>\n",
       "      <td>positive</td>\n",
       "    </tr>\n",
       "    <tr>\n",
       "      <th>8902</th>\n",
       "      <td>Procrit</td>\n",
       "      <td>anemia</td>\n",
       "      <td>\"I have pots syndrome And low blood plasma..\\r...</td>\n",
       "      <td>1</td>\n",
       "      <td>0</td>\n",
       "      <td>['chill', 'guaiac positive', 'monoclonal', 'ec...</td>\n",
       "      <td>negative</td>\n",
       "    </tr>\n",
       "    <tr>\n",
       "      <th>8903</th>\n",
       "      <td>Multivitamin with iron</td>\n",
       "      <td>anemia</td>\n",
       "      <td>\"Was taking twice a day while I was pregnant. ...</td>\n",
       "      <td>8</td>\n",
       "      <td>5</td>\n",
       "      <td>['chill', 'guaiac positive', 'monoclonal', 'ec...</td>\n",
       "      <td>negative</td>\n",
       "    </tr>\n",
       "    <tr>\n",
       "      <th>8904</th>\n",
       "      <td>Multivitamin with iron</td>\n",
       "      <td>anemia</td>\n",
       "      <td>\"I had a haematocrit of 18 and I started takin...</td>\n",
       "      <td>10</td>\n",
       "      <td>22</td>\n",
       "      <td>['chill', 'guaiac positive', 'monoclonal', 'ec...</td>\n",
       "      <td>positive</td>\n",
       "    </tr>\n",
       "    <tr>\n",
       "      <th>8905</th>\n",
       "      <td>Epoetin alfa</td>\n",
       "      <td>anemia</td>\n",
       "      <td>\"Went from 8.5 hemoglobin to 11 and then back ...</td>\n",
       "      <td>1</td>\n",
       "      <td>3</td>\n",
       "      <td>['chill', 'guaiac positive', 'monoclonal', 'ec...</td>\n",
       "      <td>negative</td>\n",
       "    </tr>\n",
       "  </tbody>\n",
       "</table>\n",
       "<p>8906 rows × 7 columns</p>\n",
       "</div>"
      ],
      "text/plain": [
       "                        Drug        Disease  \\\n",
       "0                 Olanzapine  schizophrenia   \n",
       "1                Ziprasidone  schizophrenia   \n",
       "2                   Loxapine  schizophrenia   \n",
       "3                Ziprasidone  schizophrenia   \n",
       "4                    Abilify  schizophrenia   \n",
       "...                      ...            ...   \n",
       "8901               Integra F         anemia   \n",
       "8902                 Procrit         anemia   \n",
       "8903  Multivitamin with iron         anemia   \n",
       "8904  Multivitamin with iron         anemia   \n",
       "8905            Epoetin alfa         anemia   \n",
       "\n",
       "                                                 Review  Rating  UsefulCount  \\\n",
       "0     \"This drug saved my life, I had been on almost...      10            6   \n",
       "1     \"Geodon is a very effective drug for me.  Comp...      10           33   \n",
       "2     \"This medicine completely changed my life in t...      10           22   \n",
       "3     \"I&#039;ve been on geodon for about three week...       7            6   \n",
       "4     \"I switched from Risperidal to Abilify two yea...      10           53   \n",
       "...                                                 ...     ...          ...   \n",
       "8901  \"I was very pleased with Integra F to treat my...       9           29   \n",
       "8902  \"I have pots syndrome And low blood plasma..\\r...       1            0   \n",
       "8903  \"Was taking twice a day while I was pregnant. ...       8            5   \n",
       "8904  \"I had a haematocrit of 18 and I started takin...      10           22   \n",
       "8905  \"Went from 8.5 hemoglobin to 11 and then back ...       1            3   \n",
       "\n",
       "                                               Symptoms predicted_label  \n",
       "0     ['hallucinations auditory', 'hypersomnolence',...        positive  \n",
       "1     ['hallucinations auditory', 'hypersomnolence',...        positive  \n",
       "2     ['hallucinations auditory', 'hypersomnolence',...        positive  \n",
       "3     ['hallucinations auditory', 'hypersomnolence',...        negative  \n",
       "4     ['hallucinations auditory', 'hypersomnolence',...        positive  \n",
       "...                                                 ...             ...  \n",
       "8901  ['chill', 'guaiac positive', 'monoclonal', 'ec...        positive  \n",
       "8902  ['chill', 'guaiac positive', 'monoclonal', 'ec...        negative  \n",
       "8903  ['chill', 'guaiac positive', 'monoclonal', 'ec...        negative  \n",
       "8904  ['chill', 'guaiac positive', 'monoclonal', 'ec...        positive  \n",
       "8905  ['chill', 'guaiac positive', 'monoclonal', 'ec...        negative  \n",
       "\n",
       "[8906 rows x 7 columns]"
      ]
     },
     "execution_count": 35,
     "metadata": {},
     "output_type": "execute_result"
    }
   ],
   "source": [
    "merged_data"
   ]
  },
  {
   "cell_type": "code",
   "execution_count": 36,
   "metadata": {
    "colab": {},
    "colab_type": "code",
    "id": "FKrjlz1knffd"
   },
   "outputs": [],
   "source": [
    "merged_data = merged_data.rename({'predicted_label':'sentiment_review'}, axis =1)"
   ]
  },
  {
   "cell_type": "code",
   "execution_count": 37,
   "metadata": {
    "colab": {
     "base_uri": "https://localhost:8080/",
     "height": 419
    },
    "colab_type": "code",
    "id": "Oj4WnAeq5e1i",
    "outputId": "65159efb-6757-4d55-e1f9-0e7107dfb9e4"
   },
   "outputs": [
    {
     "data": {
      "text/html": [
       "<div>\n",
       "<style scoped>\n",
       "    .dataframe tbody tr th:only-of-type {\n",
       "        vertical-align: middle;\n",
       "    }\n",
       "\n",
       "    .dataframe tbody tr th {\n",
       "        vertical-align: top;\n",
       "    }\n",
       "\n",
       "    .dataframe thead th {\n",
       "        text-align: right;\n",
       "    }\n",
       "</style>\n",
       "<table border=\"1\" class=\"dataframe\">\n",
       "  <thead>\n",
       "    <tr style=\"text-align: right;\">\n",
       "      <th></th>\n",
       "      <th>Drug</th>\n",
       "      <th>Disease</th>\n",
       "      <th>Review</th>\n",
       "      <th>UsefulCount</th>\n",
       "      <th>sentiment_review</th>\n",
       "    </tr>\n",
       "  </thead>\n",
       "  <tbody>\n",
       "    <tr>\n",
       "      <th>0</th>\n",
       "      <td>Olanzapine</td>\n",
       "      <td>schizophrenia</td>\n",
       "      <td>\"This drug saved my life, I had been on almost...</td>\n",
       "      <td>6</td>\n",
       "      <td>positive</td>\n",
       "    </tr>\n",
       "    <tr>\n",
       "      <th>1</th>\n",
       "      <td>Ziprasidone</td>\n",
       "      <td>schizophrenia</td>\n",
       "      <td>\"Geodon is a very effective drug for me.  Comp...</td>\n",
       "      <td>33</td>\n",
       "      <td>positive</td>\n",
       "    </tr>\n",
       "    <tr>\n",
       "      <th>2</th>\n",
       "      <td>Loxapine</td>\n",
       "      <td>schizophrenia</td>\n",
       "      <td>\"This medicine completely changed my life in t...</td>\n",
       "      <td>22</td>\n",
       "      <td>positive</td>\n",
       "    </tr>\n",
       "    <tr>\n",
       "      <th>3</th>\n",
       "      <td>Ziprasidone</td>\n",
       "      <td>schizophrenia</td>\n",
       "      <td>\"I&amp;#039;ve been on geodon for about three week...</td>\n",
       "      <td>6</td>\n",
       "      <td>negative</td>\n",
       "    </tr>\n",
       "    <tr>\n",
       "      <th>4</th>\n",
       "      <td>Abilify</td>\n",
       "      <td>schizophrenia</td>\n",
       "      <td>\"I switched from Risperidal to Abilify two yea...</td>\n",
       "      <td>53</td>\n",
       "      <td>positive</td>\n",
       "    </tr>\n",
       "    <tr>\n",
       "      <th>...</th>\n",
       "      <td>...</td>\n",
       "      <td>...</td>\n",
       "      <td>...</td>\n",
       "      <td>...</td>\n",
       "      <td>...</td>\n",
       "    </tr>\n",
       "    <tr>\n",
       "      <th>8901</th>\n",
       "      <td>Integra F</td>\n",
       "      <td>anemia</td>\n",
       "      <td>\"I was very pleased with Integra F to treat my...</td>\n",
       "      <td>29</td>\n",
       "      <td>positive</td>\n",
       "    </tr>\n",
       "    <tr>\n",
       "      <th>8902</th>\n",
       "      <td>Procrit</td>\n",
       "      <td>anemia</td>\n",
       "      <td>\"I have pots syndrome And low blood plasma..\\r...</td>\n",
       "      <td>0</td>\n",
       "      <td>negative</td>\n",
       "    </tr>\n",
       "    <tr>\n",
       "      <th>8903</th>\n",
       "      <td>Multivitamin with iron</td>\n",
       "      <td>anemia</td>\n",
       "      <td>\"Was taking twice a day while I was pregnant. ...</td>\n",
       "      <td>5</td>\n",
       "      <td>negative</td>\n",
       "    </tr>\n",
       "    <tr>\n",
       "      <th>8904</th>\n",
       "      <td>Multivitamin with iron</td>\n",
       "      <td>anemia</td>\n",
       "      <td>\"I had a haematocrit of 18 and I started takin...</td>\n",
       "      <td>22</td>\n",
       "      <td>positive</td>\n",
       "    </tr>\n",
       "    <tr>\n",
       "      <th>8905</th>\n",
       "      <td>Epoetin alfa</td>\n",
       "      <td>anemia</td>\n",
       "      <td>\"Went from 8.5 hemoglobin to 11 and then back ...</td>\n",
       "      <td>3</td>\n",
       "      <td>negative</td>\n",
       "    </tr>\n",
       "  </tbody>\n",
       "</table>\n",
       "<p>8906 rows × 5 columns</p>\n",
       "</div>"
      ],
      "text/plain": [
       "                        Drug        Disease  \\\n",
       "0                 Olanzapine  schizophrenia   \n",
       "1                Ziprasidone  schizophrenia   \n",
       "2                   Loxapine  schizophrenia   \n",
       "3                Ziprasidone  schizophrenia   \n",
       "4                    Abilify  schizophrenia   \n",
       "...                      ...            ...   \n",
       "8901               Integra F         anemia   \n",
       "8902                 Procrit         anemia   \n",
       "8903  Multivitamin with iron         anemia   \n",
       "8904  Multivitamin with iron         anemia   \n",
       "8905            Epoetin alfa         anemia   \n",
       "\n",
       "                                                 Review  UsefulCount  \\\n",
       "0     \"This drug saved my life, I had been on almost...            6   \n",
       "1     \"Geodon is a very effective drug for me.  Comp...           33   \n",
       "2     \"This medicine completely changed my life in t...           22   \n",
       "3     \"I&#039;ve been on geodon for about three week...            6   \n",
       "4     \"I switched from Risperidal to Abilify two yea...           53   \n",
       "...                                                 ...          ...   \n",
       "8901  \"I was very pleased with Integra F to treat my...           29   \n",
       "8902  \"I have pots syndrome And low blood plasma..\\r...            0   \n",
       "8903  \"Was taking twice a day while I was pregnant. ...            5   \n",
       "8904  \"I had a haematocrit of 18 and I started takin...           22   \n",
       "8905  \"Went from 8.5 hemoglobin to 11 and then back ...            3   \n",
       "\n",
       "     sentiment_review  \n",
       "0            positive  \n",
       "1            positive  \n",
       "2            positive  \n",
       "3            negative  \n",
       "4            positive  \n",
       "...               ...  \n",
       "8901         positive  \n",
       "8902         negative  \n",
       "8903         negative  \n",
       "8904         positive  \n",
       "8905         negative  \n",
       "\n",
       "[8906 rows x 5 columns]"
      ]
     },
     "execution_count": 37,
     "metadata": {},
     "output_type": "execute_result"
    }
   ],
   "source": [
    "merged_data.drop(['Rating', 'Symptoms'], axis =1)"
   ]
  },
  {
   "cell_type": "code",
   "execution_count": 38,
   "metadata": {
    "colab": {},
    "colab_type": "code",
    "id": "sqZwyGD859I3"
   },
   "outputs": [],
   "source": [
    "merged_data.to_csv(\"sentiment_review.csv\")"
   ]
  }
 ],
 "metadata": {
  "colab": {
   "include_colab_link": true,
   "name": "Copy of DrugSentimentAnalysis.ipynb",
   "provenance": []
  },
  "kernelspec": {
   "display_name": "Python 3",
   "language": "python",
   "name": "python3"
  },
  "language_info": {
   "codemirror_mode": {
    "name": "ipython",
    "version": 3
   },
   "file_extension": ".py",
   "mimetype": "text/x-python",
   "name": "python",
   "nbconvert_exporter": "python",
   "pygments_lexer": "ipython3",
   "version": "3.8.5"
  }
 },
 "nbformat": 4,
 "nbformat_minor": 1
}
