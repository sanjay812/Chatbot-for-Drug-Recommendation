{
 "cells": [
  {
   "cell_type": "code",
   "execution_count": 1,
   "metadata": {
    "colab": {},
    "colab_type": "code",
    "id": "5-wxkXZhBmaq"
   },
   "outputs": [],
   "source": [
    "import pandas as pd \n",
    "import numpy as np"
   ]
  },
  {
   "cell_type": "code",
   "execution_count": 2,
   "metadata": {
    "colab": {},
    "colab_type": "code",
    "id": "vrCq2RX0GR5E"
   },
   "outputs": [],
   "source": [
    "pd.set_option('display.max_columns', None)\n",
    "df = pd.read_csv('sentiment_review.csv')\n",
    "df=df.drop(['Symptoms', 'Rating', 'Unnamed: 0'], axis=1)\n",
    "df.Drug = df.Drug.str.upper()"
   ]
  },
  {
   "cell_type": "code",
   "execution_count": 3,
   "metadata": {
    "colab": {},
    "colab_type": "code",
    "id": "l6Jk2z7fST2_"
   },
   "outputs": [],
   "source": [
    "predicted_disease = 'pneumonia'"
   ]
  },
  {
   "cell_type": "code",
   "execution_count": 4,
   "metadata": {
    "colab": {},
    "colab_type": "code",
    "id": "hiVLj5-fSLGF"
   },
   "outputs": [],
   "source": [
    "# function to get drugs based on sentiment review\n",
    "def _DrugRecommender(df=df, predicted_disease=predicted_disease):\n",
    "    #df['Rating'] = np.where(df['Rating']>7, 1, 0)\n",
    "    df = df.loc[df['Disease'] == predicted_disease]\n",
    "    df = df.loc[df['sentiment_review'] == 'positive']\n",
    "    df = df.sort_values(by = ['UsefulCount'], ascending=False)\n",
    "    df = df[['Disease', 'Drug']]\n",
    "    df = df.drop_duplicates()\n",
    "    df = df.reset_index()\n",
    "    df = df.drop(['index'], axis=1)\n",
    "    df = df.head()\n",
    "\n",
    "    return df"
   ]
  },
  {
   "cell_type": "code",
   "execution_count": 5,
   "metadata": {
    "colab": {},
    "colab_type": "code",
    "id": "VCsf4V8r8x2p"
   },
   "outputs": [],
   "source": [
    "drug = _DrugRecommender()"
   ]
  },
  {
   "cell_type": "code",
   "execution_count": 6,
   "metadata": {
    "colab": {
     "base_uri": "https://localhost:8080/",
     "height": 221
    },
    "colab_type": "code",
    "id": "ZqEHVSt98y3M",
    "outputId": "55670213-0afb-4ac5-e615-378e5d9db632"
   },
   "outputs": [
    {
     "name": "stdout",
     "output_type": "stream",
     "text": [
      "List of recommened drugs based on useful count and sentiment analysis\n"
     ]
    },
    {
     "data": {
      "text/html": [
       "<div>\n",
       "<style scoped>\n",
       "    .dataframe tbody tr th:only-of-type {\n",
       "        vertical-align: middle;\n",
       "    }\n",
       "\n",
       "    .dataframe tbody tr th {\n",
       "        vertical-align: top;\n",
       "    }\n",
       "\n",
       "    .dataframe thead th {\n",
       "        text-align: right;\n",
       "    }\n",
       "</style>\n",
       "<table border=\"1\" class=\"dataframe\">\n",
       "  <thead>\n",
       "    <tr style=\"text-align: right;\">\n",
       "      <th></th>\n",
       "      <th>Disease</th>\n",
       "      <th>Drug</th>\n",
       "    </tr>\n",
       "  </thead>\n",
       "  <tbody>\n",
       "    <tr>\n",
       "      <th>0</th>\n",
       "      <td>pneumonia</td>\n",
       "      <td>LEVOFLOXACIN</td>\n",
       "    </tr>\n",
       "    <tr>\n",
       "      <th>1</th>\n",
       "      <td>pneumonia</td>\n",
       "      <td>LEVAQUIN</td>\n",
       "    </tr>\n",
       "    <tr>\n",
       "      <th>2</th>\n",
       "      <td>pneumonia</td>\n",
       "      <td>AUGMENTIN</td>\n",
       "    </tr>\n",
       "    <tr>\n",
       "      <th>3</th>\n",
       "      <td>pneumonia</td>\n",
       "      <td>AMOXICILLIN / CLAVULANATE</td>\n",
       "    </tr>\n",
       "    <tr>\n",
       "      <th>4</th>\n",
       "      <td>pneumonia</td>\n",
       "      <td>DOXYCYCLINE</td>\n",
       "    </tr>\n",
       "  </tbody>\n",
       "</table>\n",
       "</div>"
      ],
      "text/plain": [
       "     Disease                       Drug\n",
       "0  pneumonia               LEVOFLOXACIN\n",
       "1  pneumonia                   LEVAQUIN\n",
       "2  pneumonia                  AUGMENTIN\n",
       "3  pneumonia  AMOXICILLIN / CLAVULANATE\n",
       "4  pneumonia                DOXYCYCLINE"
      ]
     },
     "execution_count": 6,
     "metadata": {},
     "output_type": "execute_result"
    }
   ],
   "source": [
    "print('List of recommened drugs based on useful count and sentiment analysis')\n",
    "drug"
   ]
  },
  {
   "cell_type": "code",
   "execution_count": 7,
   "metadata": {
    "colab": {},
    "colab_type": "code",
    "id": "c5DJpNkvIQ7_"
   },
   "outputs": [
    {
     "data": {
      "text/html": [
       "<div>\n",
       "<style scoped>\n",
       "    .dataframe tbody tr th:only-of-type {\n",
       "        vertical-align: middle;\n",
       "    }\n",
       "\n",
       "    .dataframe tbody tr th {\n",
       "        vertical-align: top;\n",
       "    }\n",
       "\n",
       "    .dataframe thead th {\n",
       "        text-align: right;\n",
       "    }\n",
       "</style>\n",
       "<table border=\"1\" class=\"dataframe\">\n",
       "  <thead>\n",
       "    <tr style=\"text-align: right;\">\n",
       "      <th></th>\n",
       "      <th>rating</th>\n",
       "      <th>urlDrugName</th>\n",
       "      <th>effectiveness</th>\n",
       "      <th>sideEffects</th>\n",
       "      <th>benefitsReview</th>\n",
       "      <th>sideEffectsReview</th>\n",
       "    </tr>\n",
       "  </thead>\n",
       "  <tbody>\n",
       "    <tr>\n",
       "      <th>0</th>\n",
       "      <td>1</td>\n",
       "      <td>dispermox</td>\n",
       "      <td>Ineffective</td>\n",
       "      <td>Severe Side Effects</td>\n",
       "      <td>Amoxicillin did little, if any, good for the i...</td>\n",
       "      <td>I had a severe allergic reaction in the form o...</td>\n",
       "    </tr>\n",
       "    <tr>\n",
       "      <th>1</th>\n",
       "      <td>1</td>\n",
       "      <td>lexapro</td>\n",
       "      <td>Marginally Effective</td>\n",
       "      <td>Severe Side Effects</td>\n",
       "      <td>Initially, Lexapro helped alleviate some of th...</td>\n",
       "      <td>Although some stress was alleviated, I noticed...</td>\n",
       "    </tr>\n",
       "    <tr>\n",
       "      <th>2</th>\n",
       "      <td>1</td>\n",
       "      <td>zocor</td>\n",
       "      <td>Ineffective</td>\n",
       "      <td>Extremely Severe Side Effects</td>\n",
       "      <td>the treatment was to help lower my colesterol ...</td>\n",
       "      <td>muscle pain, loss of mobility, depresion, head...</td>\n",
       "    </tr>\n",
       "    <tr>\n",
       "      <th>3</th>\n",
       "      <td>1</td>\n",
       "      <td>ventolin-hfa</td>\n",
       "      <td>Ineffective</td>\n",
       "      <td>Mild Side Effects</td>\n",
       "      <td>None</td>\n",
       "      <td>Increased difficulty breathing, strange taste.</td>\n",
       "    </tr>\n",
       "    <tr>\n",
       "      <th>4</th>\n",
       "      <td>1</td>\n",
       "      <td>neurontin</td>\n",
       "      <td>Ineffective</td>\n",
       "      <td>Severe Side Effects</td>\n",
       "      <td>No treatment benefits. the edema was so severe...</td>\n",
       "      <td>whole body swelling (even my eyelids), palpita...</td>\n",
       "    </tr>\n",
       "  </tbody>\n",
       "</table>\n",
       "</div>"
      ],
      "text/plain": [
       "   rating   urlDrugName         effectiveness                    sideEffects  \\\n",
       "0       1     dispermox           Ineffective            Severe Side Effects   \n",
       "1       1       lexapro  Marginally Effective            Severe Side Effects   \n",
       "2       1         zocor           Ineffective  Extremely Severe Side Effects   \n",
       "3       1  ventolin-hfa           Ineffective              Mild Side Effects   \n",
       "4       1     neurontin           Ineffective            Severe Side Effects   \n",
       "\n",
       "                                      benefitsReview  \\\n",
       "0  Amoxicillin did little, if any, good for the i...   \n",
       "1  Initially, Lexapro helped alleviate some of th...   \n",
       "2  the treatment was to help lower my colesterol ...   \n",
       "3                                               None   \n",
       "4  No treatment benefits. the edema was so severe...   \n",
       "\n",
       "                                   sideEffectsReview  \n",
       "0  I had a severe allergic reaction in the form o...  \n",
       "1  Although some stress was alleviated, I noticed...  \n",
       "2  muscle pain, loss of mobility, depresion, head...  \n",
       "3     Increased difficulty breathing, strange taste.  \n",
       "4  whole body swelling (even my eyelids), palpita...  "
      ]
     },
     "execution_count": 7,
     "metadata": {},
     "output_type": "execute_result"
    }
   ],
   "source": [
    "sd = pd.read_csv('drugLib_processed.csv')\n",
    "sd = sd.drop(['condition', 'commentsReview'], axis=1)\n",
    "sd = sd.dropna()\n",
    "sd.head()"
   ]
  },
  {
   "cell_type": "code",
   "execution_count": 8,
   "metadata": {
    "colab": {},
    "colab_type": "code",
    "id": "rmAkoZD9IRAX"
   },
   "outputs": [],
   "source": [
    "sd.sideEffects = sd.sideEffects.replace('Moderate Side Effects', 2)\n",
    "sd.sideEffects = sd.sideEffects.replace('Mild Side Effects', 2)\n",
    "sd.sideEffects = sd.sideEffects.replace('Severe Side Effects', 1)\n",
    "sd.sideEffects = sd.sideEffects.replace('No Side Effects', 3)\n",
    "sd.sideEffects = sd.sideEffects.replace('Extremely Severe Side Effects', 0)"
   ]
  },
  {
   "cell_type": "code",
   "execution_count": 9,
   "metadata": {
    "colab": {},
    "colab_type": "code",
    "id": "IG1-XnkxIRCz"
   },
   "outputs": [],
   "source": [
    "sd.effectiveness = sd.effectiveness.replace('Considerably Effective', 2)\n",
    "sd.effectiveness = sd.effectiveness.replace('Highly Effective', 3)\n",
    "sd.effectiveness = sd.effectiveness.replace('Marginally Effective', 1)\n",
    "sd.effectiveness = sd.effectiveness.replace('Moderately Effective', 1)\n",
    "sd.effectiveness = sd.effectiveness.replace('Ineffective', 0)"
   ]
  },
  {
   "cell_type": "code",
   "execution_count": 10,
   "metadata": {
    "colab": {},
    "colab_type": "code",
    "id": "B5kiNFE0IRFD"
   },
   "outputs": [],
   "source": [
    "sd = sd[['urlDrugName', 'rating', 'effectiveness', 'sideEffects', 'sideEffectsReview']]"
   ]
  },
  {
   "cell_type": "code",
   "execution_count": 11,
   "metadata": {
    "colab": {},
    "colab_type": "code",
    "id": "gyKlsiRHIRHo"
   },
   "outputs": [],
   "source": [
    "sd = sd.rename(columns={\"urlDrugName\": \"Drug\", \"rating\": \"Rating\", \"effectiveness\": \"Effectivness Rating\",\n",
    "                       \"sideEffects\": \"Side Effect Rating\", \"sideEffectsReview\": \"Side Effects\"})\n",
    "sd.Drug = sd.Drug.str.upper()"
   ]
  },
  {
   "cell_type": "code",
   "execution_count": 12,
   "metadata": {
    "colab": {
     "base_uri": "https://localhost:8080/",
     "height": 436
    },
    "colab_type": "code",
    "id": "hJnpLFMPIRKm",
    "outputId": "098e37bb-8367-4f46-b9fe-482c53addc6c"
   },
   "outputs": [
    {
     "name": "stdout",
     "output_type": "stream",
     "text": [
      "Drug with possible side effects\n"
     ]
    },
    {
     "data": {
      "text/html": [
       "<div>\n",
       "<style scoped>\n",
       "    .dataframe tbody tr th:only-of-type {\n",
       "        vertical-align: middle;\n",
       "    }\n",
       "\n",
       "    .dataframe tbody tr th {\n",
       "        vertical-align: top;\n",
       "    }\n",
       "\n",
       "    .dataframe thead th {\n",
       "        text-align: right;\n",
       "    }\n",
       "</style>\n",
       "<table border=\"1\" class=\"dataframe\">\n",
       "  <thead>\n",
       "    <tr style=\"text-align: right;\">\n",
       "      <th></th>\n",
       "      <th>Drug</th>\n",
       "      <th>Rating</th>\n",
       "      <th>Effectivness Rating</th>\n",
       "      <th>Side Effect Rating</th>\n",
       "      <th>Side Effects</th>\n",
       "    </tr>\n",
       "  </thead>\n",
       "  <tbody>\n",
       "    <tr>\n",
       "      <th>0</th>\n",
       "      <td>DISPERMOX</td>\n",
       "      <td>1</td>\n",
       "      <td>0</td>\n",
       "      <td>1</td>\n",
       "      <td>I had a severe allergic reaction in the form o...</td>\n",
       "    </tr>\n",
       "    <tr>\n",
       "      <th>1</th>\n",
       "      <td>LEXAPRO</td>\n",
       "      <td>1</td>\n",
       "      <td>1</td>\n",
       "      <td>1</td>\n",
       "      <td>Although some stress was alleviated, I noticed...</td>\n",
       "    </tr>\n",
       "    <tr>\n",
       "      <th>2</th>\n",
       "      <td>ZOCOR</td>\n",
       "      <td>1</td>\n",
       "      <td>0</td>\n",
       "      <td>0</td>\n",
       "      <td>muscle pain, loss of mobility, depresion, head...</td>\n",
       "    </tr>\n",
       "    <tr>\n",
       "      <th>3</th>\n",
       "      <td>VENTOLIN-HFA</td>\n",
       "      <td>1</td>\n",
       "      <td>0</td>\n",
       "      <td>2</td>\n",
       "      <td>Increased difficulty breathing, strange taste.</td>\n",
       "    </tr>\n",
       "    <tr>\n",
       "      <th>4</th>\n",
       "      <td>NEURONTIN</td>\n",
       "      <td>1</td>\n",
       "      <td>0</td>\n",
       "      <td>1</td>\n",
       "      <td>whole body swelling (even my eyelids), palpita...</td>\n",
       "    </tr>\n",
       "    <tr>\n",
       "      <th>...</th>\n",
       "      <td>...</td>\n",
       "      <td>...</td>\n",
       "      <td>...</td>\n",
       "      <td>...</td>\n",
       "      <td>...</td>\n",
       "    </tr>\n",
       "    <tr>\n",
       "      <th>4127</th>\n",
       "      <td>PAXIL</td>\n",
       "      <td>10</td>\n",
       "      <td>3</td>\n",
       "      <td>2</td>\n",
       "      <td>During the second week I experienced stomach p...</td>\n",
       "    </tr>\n",
       "    <tr>\n",
       "      <th>4128</th>\n",
       "      <td>SANCTURA-XR</td>\n",
       "      <td>10</td>\n",
       "      <td>2</td>\n",
       "      <td>2</td>\n",
       "      <td>Dry mouth if I fast from food.  If I eat norma...</td>\n",
       "    </tr>\n",
       "    <tr>\n",
       "      <th>4129</th>\n",
       "      <td>TRAZODONE</td>\n",
       "      <td>10</td>\n",
       "      <td>3</td>\n",
       "      <td>3</td>\n",
       "      <td>I have noticed no side effects. I have never n...</td>\n",
       "    </tr>\n",
       "    <tr>\n",
       "      <th>4130</th>\n",
       "      <td>TOPAMAX</td>\n",
       "      <td>10</td>\n",
       "      <td>3</td>\n",
       "      <td>2</td>\n",
       "      <td>Mild loss of appetite. Loss of interest in alc...</td>\n",
       "    </tr>\n",
       "    <tr>\n",
       "      <th>4131</th>\n",
       "      <td>ACCUTANE</td>\n",
       "      <td>10</td>\n",
       "      <td>3</td>\n",
       "      <td>2</td>\n",
       "      <td>Dry skin and lips, increased susceptibility to...</td>\n",
       "    </tr>\n",
       "  </tbody>\n",
       "</table>\n",
       "<p>4132 rows × 5 columns</p>\n",
       "</div>"
      ],
      "text/plain": [
       "              Drug  Rating  Effectivness Rating  Side Effect Rating  \\\n",
       "0        DISPERMOX       1                    0                   1   \n",
       "1          LEXAPRO       1                    1                   1   \n",
       "2            ZOCOR       1                    0                   0   \n",
       "3     VENTOLIN-HFA       1                    0                   2   \n",
       "4        NEURONTIN       1                    0                   1   \n",
       "...            ...     ...                  ...                 ...   \n",
       "4127         PAXIL      10                    3                   2   \n",
       "4128   SANCTURA-XR      10                    2                   2   \n",
       "4129     TRAZODONE      10                    3                   3   \n",
       "4130       TOPAMAX      10                    3                   2   \n",
       "4131      ACCUTANE      10                    3                   2   \n",
       "\n",
       "                                           Side Effects  \n",
       "0     I had a severe allergic reaction in the form o...  \n",
       "1     Although some stress was alleviated, I noticed...  \n",
       "2     muscle pain, loss of mobility, depresion, head...  \n",
       "3        Increased difficulty breathing, strange taste.  \n",
       "4     whole body swelling (even my eyelids), palpita...  \n",
       "...                                                 ...  \n",
       "4127  During the second week I experienced stomach p...  \n",
       "4128  Dry mouth if I fast from food.  If I eat norma...  \n",
       "4129  I have noticed no side effects. I have never n...  \n",
       "4130  Mild loss of appetite. Loss of interest in alc...  \n",
       "4131  Dry skin and lips, increased susceptibility to...  \n",
       "\n",
       "[4132 rows x 5 columns]"
      ]
     },
     "execution_count": 12,
     "metadata": {},
     "output_type": "execute_result"
    }
   ],
   "source": [
    "print('Drug with possible side effects')\n",
    "sd"
   ]
  },
  {
   "cell_type": "code",
   "execution_count": 13,
   "metadata": {},
   "outputs": [],
   "source": [
    "sd.to_csv(\"Sideeffects_preprocessed.csv\");"
   ]
  },
  {
   "cell_type": "code",
   "execution_count": 14,
   "metadata": {
    "colab": {},
    "colab_type": "code",
    "id": "kBGsP0YUIROo"
   },
   "outputs": [],
   "source": [
    "def _probScore(df, w1, w2, w3):\n",
    "    return(1-(df[w1] * df[w2] * df[w3]).sum()/df[w1].sum()/10)"
   ]
  },
  {
   "cell_type": "code",
   "execution_count": 15,
   "metadata": {
    "colab": {},
    "colab_type": "code",
    "id": "5TSwQ3fqIRT_"
   },
   "outputs": [],
   "source": [
    "def _getSE(df, sedf, l):\n",
    "    sdf = sedf\n",
    "    sdf = sdf.loc[sdf['Drug'] == l]\n",
    "    #print(sdf)\n",
    "    w = sdf.groupby([\"Drug\"]).apply(_probScore, \"Rating\", \"Effectivness Rating\", \"Side Effect Rating\")\n",
    "    sdf1 = sdf.loc[sdf['Effectivness Rating'] == 0]\n",
    "    sdf1 = sdf1.loc[sdf['Side Effect Rating'] == 0]\n",
    "    sdf1 = sdf1.loc[sdf['Rating'] <= 1 ]\n",
    "    sdf1 = sdf1.reset_index()\n",
    "    sdf1 = pd.DataFrame(sdf['Side Effects'])\n",
    "    df1 = pd.DataFrame(w, columns=['Prob. of Side Effect'])\n",
    "    df1 = df1.reset_index()\n",
    "    #print(sdf[:1]['Side Effects'])\n",
    "    df2 = pd.DataFrame(sdf['Side Effects'])\n",
    "    df2 = df2.reset_index()\n",
    "    df2 = df2.drop(['index'], axis=1)\n",
    "    dd = pd.concat([df1, df2], axis=1)\n",
    "    \n",
    "    return dd"
   ]
  },
  {
   "cell_type": "code",
   "execution_count": 16,
   "metadata": {
    "colab": {},
    "colab_type": "code",
    "id": "Mq5efP3Ey141"
   },
   "outputs": [],
   "source": [
    "def _getSideEffects(df, sedf):\n",
    "    l = list(df.Drug)\n",
    "    #print(l)\n",
    "    for i in range(0, 1):\n",
    "        df1 = _getSE(df, sedf, l[i])\n",
    "    dd = df1\n",
    "    for i in range(1, len(l)):\n",
    "        df2 = _getSE(df, sedf, l[i])\n",
    "        dd = pd.concat([dd, df2])\n",
    "    return dd"
   ]
  },
  {
   "cell_type": "code",
   "execution_count": 17,
   "metadata": {
    "colab": {},
    "colab_type": "code",
    "id": "OA6Am3KaIRXW"
   },
   "outputs": [],
   "source": [
    "se = _getSideEffects(drug, sd)"
   ]
  },
  {
   "cell_type": "code",
   "execution_count": 18,
   "metadata": {
    "colab": {
     "base_uri": "https://localhost:8080/",
     "height": 221
    },
    "colab_type": "code",
    "id": "n6CWU9YnIRNh",
    "outputId": "4fb9d21d-faf3-4c28-ad94-bdba7329b297"
   },
   "outputs": [
    {
     "name": "stdout",
     "output_type": "stream",
     "text": [
      "Mapped recommended drugs with possible side effects and probabilistic score\n"
     ]
    },
    {
     "data": {
      "text/html": [
       "<div>\n",
       "<style scoped>\n",
       "    .dataframe tbody tr th:only-of-type {\n",
       "        vertical-align: middle;\n",
       "    }\n",
       "\n",
       "    .dataframe tbody tr th {\n",
       "        vertical-align: top;\n",
       "    }\n",
       "\n",
       "    .dataframe thead th {\n",
       "        text-align: right;\n",
       "    }\n",
       "</style>\n",
       "<table border=\"1\" class=\"dataframe\">\n",
       "  <thead>\n",
       "    <tr style=\"text-align: right;\">\n",
       "      <th></th>\n",
       "      <th>Drug</th>\n",
       "      <th>Disease</th>\n",
       "      <th>Prob. of Side Effect</th>\n",
       "      <th>Side Effects</th>\n",
       "    </tr>\n",
       "  </thead>\n",
       "  <tbody>\n",
       "    <tr>\n",
       "      <th>0</th>\n",
       "      <td>AMOXICILLIN / CLAVULANATE</td>\n",
       "      <td>pneumonia</td>\n",
       "      <td>0.000000</td>\n",
       "      <td>NaN</td>\n",
       "    </tr>\n",
       "    <tr>\n",
       "      <th>1</th>\n",
       "      <td>AUGMENTIN</td>\n",
       "      <td>pneumonia</td>\n",
       "      <td>0.445517</td>\n",
       "      <td>Cranky, horrible diaper rash immediately follo...</td>\n",
       "    </tr>\n",
       "    <tr>\n",
       "      <th>2</th>\n",
       "      <td>DOXYCYCLINE</td>\n",
       "      <td>pneumonia</td>\n",
       "      <td>0.492683</td>\n",
       "      <td>Severe abdominal spasms/pain and diarrhea</td>\n",
       "    </tr>\n",
       "    <tr>\n",
       "      <th>3</th>\n",
       "      <td>LEVAQUIN</td>\n",
       "      <td>pneumonia</td>\n",
       "      <td>0.482222</td>\n",
       "      <td>SEVERE shooting, burning pains in all four ext...</td>\n",
       "    </tr>\n",
       "    <tr>\n",
       "      <th>4</th>\n",
       "      <td>LEVOFLOXACIN</td>\n",
       "      <td>pneumonia</td>\n",
       "      <td>0.000000</td>\n",
       "      <td>NaN</td>\n",
       "    </tr>\n",
       "  </tbody>\n",
       "</table>\n",
       "</div>"
      ],
      "text/plain": [
       "                        Drug    Disease  Prob. of Side Effect  \\\n",
       "0  AMOXICILLIN / CLAVULANATE  pneumonia              0.000000   \n",
       "1                  AUGMENTIN  pneumonia              0.445517   \n",
       "2                DOXYCYCLINE  pneumonia              0.492683   \n",
       "3                   LEVAQUIN  pneumonia              0.482222   \n",
       "4               LEVOFLOXACIN  pneumonia              0.000000   \n",
       "\n",
       "                                        Side Effects  \n",
       "0                                                NaN  \n",
       "1  Cranky, horrible diaper rash immediately follo...  \n",
       "2          Severe abdominal spasms/pain and diarrhea  \n",
       "3  SEVERE shooting, burning pains in all four ext...  \n",
       "4                                                NaN  "
      ]
     },
     "execution_count": 18,
     "metadata": {},
     "output_type": "execute_result"
    }
   ],
   "source": [
    "recommender = drug.set_index('Drug').join(se.set_index('Drug'))\n",
    "recommender = recommender.reset_index()\n",
    "recommender['Prob. of Side Effect'] = recommender['Prob. of Side Effect'].fillna(0)\n",
    "recommender['Prob. of Side Effect'] = recommender['Prob. of Side Effect'].fillna('Not Available')\n",
    "print('Mapped recommended drugs with possible side effects and probabilistic score')\n",
    "recommender"
   ]
  },
  {
   "cell_type": "code",
   "execution_count": 19,
   "metadata": {
    "colab": {
     "base_uri": "https://localhost:8080/",
     "height": 221
    },
    "colab_type": "code",
    "id": "We-TeHtr0Bo3",
    "outputId": "dca149b6-4fc2-4c0d-b9ae-c7a679faee04"
   },
   "outputs": [
    {
     "name": "stdout",
     "output_type": "stream",
     "text": [
      "The recommended Drugs for the given Disease is:\n"
     ]
    },
    {
     "data": {
      "text/html": [
       "<div>\n",
       "<style scoped>\n",
       "    .dataframe tbody tr th:only-of-type {\n",
       "        vertical-align: middle;\n",
       "    }\n",
       "\n",
       "    .dataframe tbody tr th {\n",
       "        vertical-align: top;\n",
       "    }\n",
       "\n",
       "    .dataframe thead th {\n",
       "        text-align: right;\n",
       "    }\n",
       "</style>\n",
       "<table border=\"1\" class=\"dataframe\">\n",
       "  <thead>\n",
       "    <tr style=\"text-align: right;\">\n",
       "      <th></th>\n",
       "      <th>Drug</th>\n",
       "      <th>Disease</th>\n",
       "      <th>Prob. of Side Effect</th>\n",
       "      <th>Side Effects</th>\n",
       "    </tr>\n",
       "  </thead>\n",
       "  <tbody>\n",
       "    <tr>\n",
       "      <th>0</th>\n",
       "      <td>AMOXICILLIN / CLAVULANATE</td>\n",
       "      <td>pneumonia</td>\n",
       "      <td>0.000000</td>\n",
       "      <td>NaN</td>\n",
       "    </tr>\n",
       "    <tr>\n",
       "      <th>4</th>\n",
       "      <td>LEVOFLOXACIN</td>\n",
       "      <td>pneumonia</td>\n",
       "      <td>0.000000</td>\n",
       "      <td>NaN</td>\n",
       "    </tr>\n",
       "    <tr>\n",
       "      <th>1</th>\n",
       "      <td>AUGMENTIN</td>\n",
       "      <td>pneumonia</td>\n",
       "      <td>0.445517</td>\n",
       "      <td>Cranky, horrible diaper rash immediately follo...</td>\n",
       "    </tr>\n",
       "    <tr>\n",
       "      <th>3</th>\n",
       "      <td>LEVAQUIN</td>\n",
       "      <td>pneumonia</td>\n",
       "      <td>0.482222</td>\n",
       "      <td>SEVERE shooting, burning pains in all four ext...</td>\n",
       "    </tr>\n",
       "    <tr>\n",
       "      <th>2</th>\n",
       "      <td>DOXYCYCLINE</td>\n",
       "      <td>pneumonia</td>\n",
       "      <td>0.492683</td>\n",
       "      <td>Severe abdominal spasms/pain and diarrhea</td>\n",
       "    </tr>\n",
       "  </tbody>\n",
       "</table>\n",
       "</div>"
      ],
      "text/plain": [
       "                        Drug    Disease  Prob. of Side Effect  \\\n",
       "0  AMOXICILLIN / CLAVULANATE  pneumonia              0.000000   \n",
       "4               LEVOFLOXACIN  pneumonia              0.000000   \n",
       "1                  AUGMENTIN  pneumonia              0.445517   \n",
       "3                   LEVAQUIN  pneumonia              0.482222   \n",
       "2                DOXYCYCLINE  pneumonia              0.492683   \n",
       "\n",
       "                                        Side Effects  \n",
       "0                                                NaN  \n",
       "4                                                NaN  \n",
       "1  Cranky, horrible diaper rash immediately follo...  \n",
       "3  SEVERE shooting, burning pains in all four ext...  \n",
       "2          Severe abdominal spasms/pain and diarrhea  "
      ]
     },
     "execution_count": 19,
     "metadata": {},
     "output_type": "execute_result"
    }
   ],
   "source": [
    "#sorting based on probabilistic score\n",
    "recommender = recommender.sort_values('Prob. of Side Effect')\n",
    "print(\"The recommended Drugs for the given Disease is:\")\n",
    "recommender"
   ]
  },
  {
   "cell_type": "code",
   "execution_count": null,
   "metadata": {},
   "outputs": [],
   "source": []
  }
 ],
 "metadata": {
  "colab": {
   "authorship_tag": "ABX9TyM8u13ODNZXsSYzMLHsI7Ls",
   "collapsed_sections": [],
   "include_colab_link": true,
   "mount_file_id": "18zaNrEQpqJrm1MFViOg511GLOb9olup6",
   "name": "DrugRecommender.ipynb",
   "provenance": []
  },
  "kernelspec": {
   "display_name": "Python 3",
   "language": "python",
   "name": "python3"
  },
  "language_info": {
   "codemirror_mode": {
    "name": "ipython",
    "version": 3
   },
   "file_extension": ".py",
   "mimetype": "text/x-python",
   "name": "python",
   "nbconvert_exporter": "python",
   "pygments_lexer": "ipython3",
   "version": "3.8.5"
  }
 },
 "nbformat": 4,
 "nbformat_minor": 1
}
