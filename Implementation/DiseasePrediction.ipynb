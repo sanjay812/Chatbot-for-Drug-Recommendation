{
 "cells": [
  {
   "cell_type": "markdown",
   "metadata": {
    "colab_type": "text",
    "id": "view-in-github"
   },
   "source": [
    "<a href=\"https://colab.research.google.com/github/khushbooekhande/DrugRecommendationSystem/blob/master/Implementation/DiseasePrediction.ipynb\" target=\"_parent\"><img src=\"https://colab.research.google.com/assets/colab-badge.svg\" alt=\"Open In Colab\"/></a>"
   ]
  },
  {
   "cell_type": "code",
   "execution_count": 1,
   "metadata": {
    "colab": {},
    "colab_type": "code",
    "id": "J_R92gqKjMHZ"
   },
   "outputs": [],
   "source": [
    "import numpy as np\n",
    "import pandas as pd\n",
    "import csv\n",
    "from collections import defaultdict\n",
    "from sklearn.model_selection import train_test_split\n",
    "from sklearn.ensemble import ExtraTreesClassifier\n",
    "from sklearn.naive_bayes import MultinomialNB\n",
    "from sklearn.tree import DecisionTreeClassifier\n",
    "from sklearn import svm\n",
    "from sklearn.naive_bayes import GaussianNB\n",
    "from sklearn.ensemble import RandomForestClassifier\n",
    "from sklearn.model_selection import train_test_split\n",
    "from sklearn.metrics import accuracy_score \n",
    "from sklearn.linear_model import LogisticRegression\n",
    "import random"
   ]
  },
  {
   "cell_type": "code",
   "execution_count": 2,
   "metadata": {
    "colab": {},
    "colab_type": "code",
    "id": "ErQ94jMRjU2F"
   },
   "outputs": [],
   "source": [
    "df = pd.read_csv('disease_symptom_dataset_unprocessed.csv')"
   ]
  },
  {
   "cell_type": "code",
   "execution_count": 3,
   "metadata": {
    "colab": {
     "base_uri": "https://localhost:8080/",
     "height": 402
    },
    "colab_type": "code",
    "id": "e6B5t-0EjkCf",
    "outputId": "be8dccc9-f646-440c-c340-c91d7d3a9db7"
   },
   "outputs": [
    {
     "data": {
      "text/html": [
       "<div>\n",
       "<style scoped>\n",
       "    .dataframe tbody tr th:only-of-type {\n",
       "        vertical-align: middle;\n",
       "    }\n",
       "\n",
       "    .dataframe tbody tr th {\n",
       "        vertical-align: top;\n",
       "    }\n",
       "\n",
       "    .dataframe thead th {\n",
       "        text-align: right;\n",
       "    }\n",
       "</style>\n",
       "<table border=\"1\" class=\"dataframe\">\n",
       "  <thead>\n",
       "    <tr style=\"text-align: right;\">\n",
       "      <th></th>\n",
       "      <th>Disease</th>\n",
       "      <th>Count of Disease  Occurrence</th>\n",
       "      <th>Symptom</th>\n",
       "    </tr>\n",
       "  </thead>\n",
       "  <tbody>\n",
       "    <tr>\n",
       "      <th>0</th>\n",
       "      <td>UMLS:C0020538_hypertensive  disease</td>\n",
       "      <td>3363.0</td>\n",
       "      <td>UMLS:C0008031_pain  chest</td>\n",
       "    </tr>\n",
       "    <tr>\n",
       "      <th>1</th>\n",
       "      <td>NaN</td>\n",
       "      <td>NaN</td>\n",
       "      <td>UMLS:C0392680_shortness  of breath</td>\n",
       "    </tr>\n",
       "    <tr>\n",
       "      <th>2</th>\n",
       "      <td>NaN</td>\n",
       "      <td>NaN</td>\n",
       "      <td>UMLS:C0012833_dizziness</td>\n",
       "    </tr>\n",
       "    <tr>\n",
       "      <th>3</th>\n",
       "      <td>NaN</td>\n",
       "      <td>NaN</td>\n",
       "      <td>UMLS:C0004093_asthenia</td>\n",
       "    </tr>\n",
       "    <tr>\n",
       "      <th>4</th>\n",
       "      <td>NaN</td>\n",
       "      <td>NaN</td>\n",
       "      <td>UMLS:C0085639_fall</td>\n",
       "    </tr>\n",
       "    <tr>\n",
       "      <th>...</th>\n",
       "      <td>...</td>\n",
       "      <td>...</td>\n",
       "      <td>...</td>\n",
       "    </tr>\n",
       "    <tr>\n",
       "      <th>1861</th>\n",
       "      <td>NaN</td>\n",
       "      <td>NaN</td>\n",
       "      <td>UMLS:C0425251_bedridden^UMLS:C0741453_bedridden</td>\n",
       "    </tr>\n",
       "    <tr>\n",
       "      <th>1862</th>\n",
       "      <td>NaN</td>\n",
       "      <td>NaN</td>\n",
       "      <td>UMLS:C0242453_prostatism</td>\n",
       "    </tr>\n",
       "    <tr>\n",
       "      <th>1863</th>\n",
       "      <td>UMLS:C0011127_decubitus  ulcer</td>\n",
       "      <td>42.0</td>\n",
       "      <td>UMLS:C0232257_systolic murmur</td>\n",
       "    </tr>\n",
       "    <tr>\n",
       "      <th>1864</th>\n",
       "      <td>NaN</td>\n",
       "      <td>NaN</td>\n",
       "      <td>UMLS:C0871754_frail</td>\n",
       "    </tr>\n",
       "    <tr>\n",
       "      <th>1865</th>\n",
       "      <td>NaN</td>\n",
       "      <td>NaN</td>\n",
       "      <td>UMLS:C0015967_fever</td>\n",
       "    </tr>\n",
       "  </tbody>\n",
       "</table>\n",
       "<p>1866 rows × 3 columns</p>\n",
       "</div>"
      ],
      "text/plain": [
       "                                  Disease  Count of Disease  Occurrence  \\\n",
       "0     UMLS:C0020538_hypertensive  disease                        3363.0   \n",
       "1                                     NaN                           NaN   \n",
       "2                                     NaN                           NaN   \n",
       "3                                     NaN                           NaN   \n",
       "4                                     NaN                           NaN   \n",
       "...                                   ...                           ...   \n",
       "1861                                  NaN                           NaN   \n",
       "1862                                  NaN                           NaN   \n",
       "1863       UMLS:C0011127_decubitus  ulcer                          42.0   \n",
       "1864                                  NaN                           NaN   \n",
       "1865                                  NaN                           NaN   \n",
       "\n",
       "                                              Symptom  \n",
       "0                           UMLS:C0008031_pain  chest  \n",
       "1                  UMLS:C0392680_shortness  of breath  \n",
       "2                             UMLS:C0012833_dizziness  \n",
       "3                              UMLS:C0004093_asthenia  \n",
       "4                                  UMLS:C0085639_fall  \n",
       "...                                               ...  \n",
       "1861  UMLS:C0425251_bedridden^UMLS:C0741453_bedridden  \n",
       "1862                         UMLS:C0242453_prostatism  \n",
       "1863                    UMLS:C0232257_systolic murmur  \n",
       "1864                              UMLS:C0871754_frail  \n",
       "1865                              UMLS:C0015967_fever  \n",
       "\n",
       "[1866 rows x 3 columns]"
      ]
     },
     "execution_count": 3,
     "metadata": {},
     "output_type": "execute_result"
    }
   ],
   "source": [
    "df"
   ]
  },
  {
   "cell_type": "code",
   "execution_count": 4,
   "metadata": {
    "colab": {
     "base_uri": "https://localhost:8080/",
     "height": 34
    },
    "colab_type": "code",
    "id": "I9i1CI9MjdTB",
    "outputId": "9296dd14-2e40-478e-e9cc-4af3d1a8018d"
   },
   "outputs": [
    {
     "data": {
      "text/plain": [
       "(1866, 3)"
      ]
     },
     "execution_count": 4,
     "metadata": {},
     "output_type": "execute_result"
    }
   ],
   "source": [
    "data = df.fillna(method='ffill')\n",
    "data.shape"
   ]
  },
  {
   "cell_type": "code",
   "execution_count": 5,
   "metadata": {
    "colab": {},
    "colab_type": "code",
    "id": "Iy967EgsjfXG"
   },
   "outputs": [],
   "source": [
    "# Clean Disease and Symptom Names\n",
    "def clean_data(data):\n",
    "    data_list = []\n",
    "    data_name = data.replace('^','_').split('_')\n",
    "    n = 1\n",
    "    for names in data_name:\n",
    "        if (n % 2 == 0):\n",
    "            data_list.append(names)\n",
    "        n += 1\n",
    "    return data_list"
   ]
  },
  {
   "cell_type": "code",
   "execution_count": 6,
   "metadata": {
    "colab": {},
    "colab_type": "code",
    "id": "o1BzqKm2jtUv"
   },
   "outputs": [],
   "source": [
    "disease_list = []\n",
    "disease_symptom_dict = defaultdict(list)\n",
    "disease_symptom_count = {}\n",
    "count = 0\n",
    "\n",
    "for idx, row in data.iterrows():\n",
    "    \n",
    "    # Get the Disease Names\n",
    "    if (row['Disease'] !=\"\\xc2\\xa0\") and (row['Disease'] != \"\"):\n",
    "        disease = row['Disease']\n",
    "        disease_list = clean_data(data=disease)\n",
    "        count = row['Count of Disease  Occurrence']\n",
    "\n",
    "    # Get the Symptoms Corresponding to Diseases\n",
    "    if (row['Symptom'] !=\"\\xc2\\xa0\") and (row['Symptom'] != \"\"):\n",
    "        symptom = row['Symptom']\n",
    "        symptom_list = clean_data(data=symptom)\n",
    "        for d in disease_list:\n",
    "            for s in symptom_list:\n",
    "                disease_symptom_dict[d].append(s)\n",
    "            disease_symptom_count[d] = count"
   ]
  },
  {
   "cell_type": "code",
   "execution_count": 7,
   "metadata": {
    "colab": {},
    "colab_type": "code",
    "id": "e36DRi7jjvwE"
   },
   "outputs": [],
   "source": [
    "# Writing the data in a csv file\n",
    "\n",
    "with open(\"Symptoms_clean.csv\",\"w\") as csvfile:\n",
    "    writer = csv.writer(csvfile)\n",
    "    for key,values in disease_symptom_dict.items():\n",
    "        for v in values:\n",
    "            key = str.encode(key).decode('utf-8')\n",
    "            writer.writerow([key,v,disease_symptom_count[key]])"
   ]
  },
  {
   "cell_type": "code",
   "execution_count": 8,
   "metadata": {
    "colab": {},
    "colab_type": "code",
    "id": "QcfjmFVgjySI"
   },
   "outputs": [],
   "source": [
    "columns = ['Disease', 'Symptoms', 'Count']\n",
    "data_clean = pd.read_csv(\"Symptoms_clean.csv\", names = columns, encoding =\"ISO-8859-1\")"
   ]
  },
  {
   "cell_type": "code",
   "execution_count": 9,
   "metadata": {
    "colab": {
     "base_uri": "https://localhost:8080/",
     "height": 419
    },
    "colab_type": "code",
    "id": "pVUGMCVxj0lO",
    "outputId": "1ad55050-d1d7-45c5-e48d-989b5386e4f0"
   },
   "outputs": [
    {
     "data": {
      "text/html": [
       "<div>\n",
       "<style scoped>\n",
       "    .dataframe tbody tr th:only-of-type {\n",
       "        vertical-align: middle;\n",
       "    }\n",
       "\n",
       "    .dataframe tbody tr th {\n",
       "        vertical-align: top;\n",
       "    }\n",
       "\n",
       "    .dataframe thead th {\n",
       "        text-align: right;\n",
       "    }\n",
       "</style>\n",
       "<table border=\"1\" class=\"dataframe\">\n",
       "  <thead>\n",
       "    <tr style=\"text-align: right;\">\n",
       "      <th></th>\n",
       "      <th>Disease</th>\n",
       "      <th>Symptoms</th>\n",
       "      <th>Count</th>\n",
       "    </tr>\n",
       "  </thead>\n",
       "  <tbody>\n",
       "    <tr>\n",
       "      <th>0</th>\n",
       "      <td>hypertensive  disease</td>\n",
       "      <td>pain  chest</td>\n",
       "      <td>3363.0</td>\n",
       "    </tr>\n",
       "    <tr>\n",
       "      <th>1</th>\n",
       "      <td>hypertensive  disease</td>\n",
       "      <td>shortness  of breath</td>\n",
       "      <td>3363.0</td>\n",
       "    </tr>\n",
       "    <tr>\n",
       "      <th>2</th>\n",
       "      <td>hypertensive  disease</td>\n",
       "      <td>dizziness</td>\n",
       "      <td>3363.0</td>\n",
       "    </tr>\n",
       "    <tr>\n",
       "      <th>3</th>\n",
       "      <td>hypertensive  disease</td>\n",
       "      <td>asthenia</td>\n",
       "      <td>3363.0</td>\n",
       "    </tr>\n",
       "    <tr>\n",
       "      <th>4</th>\n",
       "      <td>hypertensive  disease</td>\n",
       "      <td>fall</td>\n",
       "      <td>3363.0</td>\n",
       "    </tr>\n",
       "    <tr>\n",
       "      <th>...</th>\n",
       "      <td>...</td>\n",
       "      <td>...</td>\n",
       "      <td>...</td>\n",
       "    </tr>\n",
       "    <tr>\n",
       "      <th>2125</th>\n",
       "      <td>affect  labile</td>\n",
       "      <td>bedridden</td>\n",
       "      <td>45.0</td>\n",
       "    </tr>\n",
       "    <tr>\n",
       "      <th>2126</th>\n",
       "      <td>affect  labile</td>\n",
       "      <td>prostatism</td>\n",
       "      <td>45.0</td>\n",
       "    </tr>\n",
       "    <tr>\n",
       "      <th>2127</th>\n",
       "      <td>decubitus  ulcer</td>\n",
       "      <td>systolic murmur</td>\n",
       "      <td>42.0</td>\n",
       "    </tr>\n",
       "    <tr>\n",
       "      <th>2128</th>\n",
       "      <td>decubitus  ulcer</td>\n",
       "      <td>frail</td>\n",
       "      <td>42.0</td>\n",
       "    </tr>\n",
       "    <tr>\n",
       "      <th>2129</th>\n",
       "      <td>decubitus  ulcer</td>\n",
       "      <td>fever</td>\n",
       "      <td>42.0</td>\n",
       "    </tr>\n",
       "  </tbody>\n",
       "</table>\n",
       "<p>2130 rows × 3 columns</p>\n",
       "</div>"
      ],
      "text/plain": [
       "                    Disease              Symptoms   Count\n",
       "0     hypertensive  disease           pain  chest  3363.0\n",
       "1     hypertensive  disease  shortness  of breath  3363.0\n",
       "2     hypertensive  disease             dizziness  3363.0\n",
       "3     hypertensive  disease              asthenia  3363.0\n",
       "4     hypertensive  disease                  fall  3363.0\n",
       "...                     ...                   ...     ...\n",
       "2125         affect  labile             bedridden    45.0\n",
       "2126         affect  labile            prostatism    45.0\n",
       "2127       decubitus  ulcer       systolic murmur    42.0\n",
       "2128       decubitus  ulcer                 frail    42.0\n",
       "2129       decubitus  ulcer                 fever    42.0\n",
       "\n",
       "[2130 rows x 3 columns]"
      ]
     },
     "execution_count": 9,
     "metadata": {},
     "output_type": "execute_result"
    }
   ],
   "source": [
    "data_clean"
   ]
  },
  {
   "cell_type": "code",
   "execution_count": 10,
   "metadata": {
    "colab": {
     "base_uri": "https://localhost:8080/",
     "height": 34
    },
    "colab_type": "code",
    "id": "LA7TNCt5j3Dj",
    "outputId": "8eb18eb8-2965-458f-8ffd-8d43b236a262"
   },
   "outputs": [
    {
     "data": {
      "text/plain": [
       "148"
      ]
     },
     "execution_count": 10,
     "metadata": {},
     "output_type": "execute_result"
    }
   ],
   "source": [
    "len(data_clean[\"Disease\"].unique())"
   ]
  },
  {
   "cell_type": "code",
   "execution_count": 11,
   "metadata": {
    "colab": {
     "base_uri": "https://localhost:8080/",
     "height": 34
    },
    "colab_type": "code",
    "id": "dCuu-HQDj5YY",
    "outputId": "d89897c8-d9e1-4cda-c86b-0c4f642fbbd7"
   },
   "outputs": [
    {
     "data": {
      "text/plain": [
       "446"
      ]
     },
     "execution_count": 11,
     "metadata": {},
     "output_type": "execute_result"
    }
   ],
   "source": [
    "len(data_clean[\"Symptoms\"].unique())"
   ]
  },
  {
   "cell_type": "code",
   "execution_count": 12,
   "metadata": {
    "colab": {
     "base_uri": "https://localhost:8080/",
     "height": 419
    },
    "colab_type": "code",
    "id": "jNh495JQj7HY",
    "outputId": "69240a3a-8c1c-43c2-93f4-62f7fde641e9"
   },
   "outputs": [
    {
     "data": {
      "text/html": [
       "<div>\n",
       "<style scoped>\n",
       "    .dataframe tbody tr th:only-of-type {\n",
       "        vertical-align: middle;\n",
       "    }\n",
       "\n",
       "    .dataframe tbody tr th {\n",
       "        vertical-align: top;\n",
       "    }\n",
       "\n",
       "    .dataframe thead th {\n",
       "        text-align: right;\n",
       "    }\n",
       "</style>\n",
       "<table border=\"1\" class=\"dataframe\">\n",
       "  <thead>\n",
       "    <tr style=\"text-align: right;\">\n",
       "      <th></th>\n",
       "      <th>Disease</th>\n",
       "      <th>Symptoms</th>\n",
       "      <th>Count</th>\n",
       "    </tr>\n",
       "  </thead>\n",
       "  <tbody>\n",
       "    <tr>\n",
       "      <th>0</th>\n",
       "      <td>hypertensive  disease</td>\n",
       "      <td>pain  chest</td>\n",
       "      <td>3363.0</td>\n",
       "    </tr>\n",
       "    <tr>\n",
       "      <th>1</th>\n",
       "      <td>hypertensive  disease</td>\n",
       "      <td>shortness  of breath</td>\n",
       "      <td>3363.0</td>\n",
       "    </tr>\n",
       "    <tr>\n",
       "      <th>2</th>\n",
       "      <td>hypertensive  disease</td>\n",
       "      <td>dizziness</td>\n",
       "      <td>3363.0</td>\n",
       "    </tr>\n",
       "    <tr>\n",
       "      <th>3</th>\n",
       "      <td>hypertensive  disease</td>\n",
       "      <td>asthenia</td>\n",
       "      <td>3363.0</td>\n",
       "    </tr>\n",
       "    <tr>\n",
       "      <th>4</th>\n",
       "      <td>hypertensive  disease</td>\n",
       "      <td>fall</td>\n",
       "      <td>3363.0</td>\n",
       "    </tr>\n",
       "    <tr>\n",
       "      <th>...</th>\n",
       "      <td>...</td>\n",
       "      <td>...</td>\n",
       "      <td>...</td>\n",
       "    </tr>\n",
       "    <tr>\n",
       "      <th>2125</th>\n",
       "      <td>affect  labile</td>\n",
       "      <td>bedridden</td>\n",
       "      <td>45.0</td>\n",
       "    </tr>\n",
       "    <tr>\n",
       "      <th>2126</th>\n",
       "      <td>affect  labile</td>\n",
       "      <td>prostatism</td>\n",
       "      <td>45.0</td>\n",
       "    </tr>\n",
       "    <tr>\n",
       "      <th>2127</th>\n",
       "      <td>decubitus  ulcer</td>\n",
       "      <td>systolic murmur</td>\n",
       "      <td>42.0</td>\n",
       "    </tr>\n",
       "    <tr>\n",
       "      <th>2128</th>\n",
       "      <td>decubitus  ulcer</td>\n",
       "      <td>frail</td>\n",
       "      <td>42.0</td>\n",
       "    </tr>\n",
       "    <tr>\n",
       "      <th>2129</th>\n",
       "      <td>decubitus  ulcer</td>\n",
       "      <td>fever</td>\n",
       "      <td>42.0</td>\n",
       "    </tr>\n",
       "  </tbody>\n",
       "</table>\n",
       "<p>2130 rows × 3 columns</p>\n",
       "</div>"
      ],
      "text/plain": [
       "                    Disease              Symptoms   Count\n",
       "0     hypertensive  disease           pain  chest  3363.0\n",
       "1     hypertensive  disease  shortness  of breath  3363.0\n",
       "2     hypertensive  disease             dizziness  3363.0\n",
       "3     hypertensive  disease              asthenia  3363.0\n",
       "4     hypertensive  disease                  fall  3363.0\n",
       "...                     ...                   ...     ...\n",
       "2125         affect  labile             bedridden    45.0\n",
       "2126         affect  labile            prostatism    45.0\n",
       "2127       decubitus  ulcer       systolic murmur    42.0\n",
       "2128       decubitus  ulcer                 frail    42.0\n",
       "2129       decubitus  ulcer                 fever    42.0\n",
       "\n",
       "[2130 rows x 3 columns]"
      ]
     },
     "execution_count": 12,
     "metadata": {},
     "output_type": "execute_result"
    }
   ],
   "source": [
    "df = pd.DataFrame(data_clean)\n",
    "df"
   ]
  },
  {
   "cell_type": "markdown",
   "metadata": {
    "colab_type": "text",
    "id": "EDI9kMg366iN"
   },
   "source": [
    "# **METHOD 1**"
   ]
  },
  {
   "cell_type": "code",
   "execution_count": 13,
   "metadata": {
    "colab": {
     "base_uri": "https://localhost:8080/",
     "height": 419
    },
    "colab_type": "code",
    "id": "XELILi8O2_LJ",
    "outputId": "03a92c83-0a1b-4f4a-ae80-cf83c3b25714"
   },
   "outputs": [
    {
     "data": {
      "text/html": [
       "<div>\n",
       "<style scoped>\n",
       "    .dataframe tbody tr th:only-of-type {\n",
       "        vertical-align: middle;\n",
       "    }\n",
       "\n",
       "    .dataframe tbody tr th {\n",
       "        vertical-align: top;\n",
       "    }\n",
       "\n",
       "    .dataframe thead th {\n",
       "        text-align: right;\n",
       "    }\n",
       "</style>\n",
       "<table border=\"1\" class=\"dataframe\">\n",
       "  <thead>\n",
       "    <tr style=\"text-align: right;\">\n",
       "      <th></th>\n",
       "      <th>Disease</th>\n",
       "      <th>Symptoms</th>\n",
       "    </tr>\n",
       "  </thead>\n",
       "  <tbody>\n",
       "    <tr>\n",
       "      <th>0</th>\n",
       "      <td>hypertensive  disease</td>\n",
       "      <td>pain  chest</td>\n",
       "    </tr>\n",
       "    <tr>\n",
       "      <th>1</th>\n",
       "      <td>hypertensive  disease</td>\n",
       "      <td>shortness  of breath</td>\n",
       "    </tr>\n",
       "    <tr>\n",
       "      <th>2</th>\n",
       "      <td>hypertensive  disease</td>\n",
       "      <td>dizziness</td>\n",
       "    </tr>\n",
       "    <tr>\n",
       "      <th>3</th>\n",
       "      <td>hypertensive  disease</td>\n",
       "      <td>asthenia</td>\n",
       "    </tr>\n",
       "    <tr>\n",
       "      <th>4</th>\n",
       "      <td>hypertensive  disease</td>\n",
       "      <td>fall</td>\n",
       "    </tr>\n",
       "    <tr>\n",
       "      <th>...</th>\n",
       "      <td>...</td>\n",
       "      <td>...</td>\n",
       "    </tr>\n",
       "    <tr>\n",
       "      <th>2125</th>\n",
       "      <td>affect  labile</td>\n",
       "      <td>bedridden</td>\n",
       "    </tr>\n",
       "    <tr>\n",
       "      <th>2126</th>\n",
       "      <td>affect  labile</td>\n",
       "      <td>prostatism</td>\n",
       "    </tr>\n",
       "    <tr>\n",
       "      <th>2127</th>\n",
       "      <td>decubitus  ulcer</td>\n",
       "      <td>systolic murmur</td>\n",
       "    </tr>\n",
       "    <tr>\n",
       "      <th>2128</th>\n",
       "      <td>decubitus  ulcer</td>\n",
       "      <td>frail</td>\n",
       "    </tr>\n",
       "    <tr>\n",
       "      <th>2129</th>\n",
       "      <td>decubitus  ulcer</td>\n",
       "      <td>fever</td>\n",
       "    </tr>\n",
       "  </tbody>\n",
       "</table>\n",
       "<p>2130 rows × 2 columns</p>\n",
       "</div>"
      ],
      "text/plain": [
       "                    Disease              Symptoms\n",
       "0     hypertensive  disease           pain  chest\n",
       "1     hypertensive  disease  shortness  of breath\n",
       "2     hypertensive  disease             dizziness\n",
       "3     hypertensive  disease              asthenia\n",
       "4     hypertensive  disease                  fall\n",
       "...                     ...                   ...\n",
       "2125         affect  labile             bedridden\n",
       "2126         affect  labile            prostatism\n",
       "2127       decubitus  ulcer       systolic murmur\n",
       "2128       decubitus  ulcer                 frail\n",
       "2129       decubitus  ulcer                 fever\n",
       "\n",
       "[2130 rows x 2 columns]"
      ]
     },
     "execution_count": 13,
     "metadata": {},
     "output_type": "execute_result"
    }
   ],
   "source": [
    "df1=df.drop('Count',axis=1)\n",
    "df1"
   ]
  },
  {
   "cell_type": "code",
   "execution_count": 14,
   "metadata": {
    "colab": {
     "base_uri": "https://localhost:8080/",
     "height": 34
    },
    "colab_type": "code",
    "id": "JDPt03EIj9Mi",
    "outputId": "8b4e507e-95ba-4621-c70f-ff85bea60062"
   },
   "outputs": [
    {
     "data": {
      "text/plain": [
       "\"df_dc = df[['Disease', 'Count']]\\ndf_dc\""
      ]
     },
     "execution_count": 14,
     "metadata": {},
     "output_type": "execute_result"
    }
   ],
   "source": [
    "'''df_dc = df[['Disease', 'Count']]\n",
    "df_dc'''"
   ]
  },
  {
   "cell_type": "code",
   "execution_count": 15,
   "metadata": {
    "colab": {
     "base_uri": "https://localhost:8080/",
     "height": 419
    },
    "colab_type": "code",
    "id": "ITsXdxzulvxR",
    "outputId": "6caea22b-33bf-4f1a-b6b0-3bd18a39cc7b"
   },
   "outputs": [
    {
     "data": {
      "text/html": [
       "<div>\n",
       "<style scoped>\n",
       "    .dataframe tbody tr th:only-of-type {\n",
       "        vertical-align: middle;\n",
       "    }\n",
       "\n",
       "    .dataframe tbody tr th {\n",
       "        vertical-align: top;\n",
       "    }\n",
       "\n",
       "    .dataframe thead th {\n",
       "        text-align: right;\n",
       "    }\n",
       "</style>\n",
       "<table border=\"1\" class=\"dataframe\">\n",
       "  <thead>\n",
       "    <tr style=\"text-align: right;\">\n",
       "      <th></th>\n",
       "      <th>Disease</th>\n",
       "    </tr>\n",
       "  </thead>\n",
       "  <tbody>\n",
       "    <tr>\n",
       "      <th>0</th>\n",
       "      <td>hypertensive  disease</td>\n",
       "    </tr>\n",
       "    <tr>\n",
       "      <th>1</th>\n",
       "      <td>hypertensive  disease</td>\n",
       "    </tr>\n",
       "    <tr>\n",
       "      <th>2</th>\n",
       "      <td>hypertensive  disease</td>\n",
       "    </tr>\n",
       "    <tr>\n",
       "      <th>3</th>\n",
       "      <td>hypertensive  disease</td>\n",
       "    </tr>\n",
       "    <tr>\n",
       "      <th>4</th>\n",
       "      <td>hypertensive  disease</td>\n",
       "    </tr>\n",
       "    <tr>\n",
       "      <th>...</th>\n",
       "      <td>...</td>\n",
       "    </tr>\n",
       "    <tr>\n",
       "      <th>2125</th>\n",
       "      <td>affect  labile</td>\n",
       "    </tr>\n",
       "    <tr>\n",
       "      <th>2126</th>\n",
       "      <td>affect  labile</td>\n",
       "    </tr>\n",
       "    <tr>\n",
       "      <th>2127</th>\n",
       "      <td>decubitus  ulcer</td>\n",
       "    </tr>\n",
       "    <tr>\n",
       "      <th>2128</th>\n",
       "      <td>decubitus  ulcer</td>\n",
       "    </tr>\n",
       "    <tr>\n",
       "      <th>2129</th>\n",
       "      <td>decubitus  ulcer</td>\n",
       "    </tr>\n",
       "  </tbody>\n",
       "</table>\n",
       "<p>2130 rows × 1 columns</p>\n",
       "</div>"
      ],
      "text/plain": [
       "                    Disease\n",
       "0     hypertensive  disease\n",
       "1     hypertensive  disease\n",
       "2     hypertensive  disease\n",
       "3     hypertensive  disease\n",
       "4     hypertensive  disease\n",
       "...                     ...\n",
       "2125         affect  labile\n",
       "2126         affect  labile\n",
       "2127       decubitus  ulcer\n",
       "2128       decubitus  ulcer\n",
       "2129       decubitus  ulcer\n",
       "\n",
       "[2130 rows x 1 columns]"
      ]
     },
     "execution_count": 15,
     "metadata": {},
     "output_type": "execute_result"
    }
   ],
   "source": [
    "df_s = df1['Disease']\n",
    "df_s = pd.DataFrame(df_s)\n",
    "df_s"
   ]
  },
  {
   "cell_type": "code",
   "execution_count": 16,
   "metadata": {
    "colab": {
     "base_uri": "https://localhost:8080/",
     "height": 507
    },
    "colab_type": "code",
    "id": "KsBuhKI4mFnR",
    "outputId": "e62ef4ef-d0b8-4eb8-d557-889a8b066c83"
   },
   "outputs": [
    {
     "data": {
      "text/html": [
       "<div>\n",
       "<style scoped>\n",
       "    .dataframe tbody tr th:only-of-type {\n",
       "        vertical-align: middle;\n",
       "    }\n",
       "\n",
       "    .dataframe tbody tr th {\n",
       "        vertical-align: top;\n",
       "    }\n",
       "\n",
       "    .dataframe thead th {\n",
       "        text-align: right;\n",
       "    }\n",
       "</style>\n",
       "<table border=\"1\" class=\"dataframe\">\n",
       "  <thead>\n",
       "    <tr style=\"text-align: right;\">\n",
       "      <th></th>\n",
       "      <th>Heberden's node</th>\n",
       "      <th>Murphy's sign</th>\n",
       "      <th>Stahli's line</th>\n",
       "      <th>abdomen acute</th>\n",
       "      <th>abdominal bloating</th>\n",
       "      <th>abdominal tenderness</th>\n",
       "      <th>abnormal sensation</th>\n",
       "      <th>abnormally  hard consistency</th>\n",
       "      <th>abnormally hard consistency</th>\n",
       "      <th>abortion</th>\n",
       "      <th>...</th>\n",
       "      <th>vomiting</th>\n",
       "      <th>weepiness</th>\n",
       "      <th>weight gain</th>\n",
       "      <th>welt</th>\n",
       "      <th>wheelchair bound</th>\n",
       "      <th>wheezing</th>\n",
       "      <th>withdraw</th>\n",
       "      <th>worry</th>\n",
       "      <th>yellow  sputum</th>\n",
       "      <th>yellow sputum</th>\n",
       "    </tr>\n",
       "  </thead>\n",
       "  <tbody>\n",
       "    <tr>\n",
       "      <th>0</th>\n",
       "      <td>0</td>\n",
       "      <td>0</td>\n",
       "      <td>0</td>\n",
       "      <td>0</td>\n",
       "      <td>0</td>\n",
       "      <td>0</td>\n",
       "      <td>0</td>\n",
       "      <td>0</td>\n",
       "      <td>0</td>\n",
       "      <td>0</td>\n",
       "      <td>...</td>\n",
       "      <td>0</td>\n",
       "      <td>0</td>\n",
       "      <td>0</td>\n",
       "      <td>0</td>\n",
       "      <td>0</td>\n",
       "      <td>0</td>\n",
       "      <td>0</td>\n",
       "      <td>0</td>\n",
       "      <td>0</td>\n",
       "      <td>0</td>\n",
       "    </tr>\n",
       "    <tr>\n",
       "      <th>1</th>\n",
       "      <td>0</td>\n",
       "      <td>0</td>\n",
       "      <td>0</td>\n",
       "      <td>0</td>\n",
       "      <td>0</td>\n",
       "      <td>0</td>\n",
       "      <td>0</td>\n",
       "      <td>0</td>\n",
       "      <td>0</td>\n",
       "      <td>0</td>\n",
       "      <td>...</td>\n",
       "      <td>0</td>\n",
       "      <td>0</td>\n",
       "      <td>0</td>\n",
       "      <td>0</td>\n",
       "      <td>0</td>\n",
       "      <td>0</td>\n",
       "      <td>0</td>\n",
       "      <td>0</td>\n",
       "      <td>0</td>\n",
       "      <td>0</td>\n",
       "    </tr>\n",
       "    <tr>\n",
       "      <th>2</th>\n",
       "      <td>0</td>\n",
       "      <td>0</td>\n",
       "      <td>0</td>\n",
       "      <td>0</td>\n",
       "      <td>0</td>\n",
       "      <td>0</td>\n",
       "      <td>0</td>\n",
       "      <td>0</td>\n",
       "      <td>0</td>\n",
       "      <td>0</td>\n",
       "      <td>...</td>\n",
       "      <td>0</td>\n",
       "      <td>0</td>\n",
       "      <td>0</td>\n",
       "      <td>0</td>\n",
       "      <td>0</td>\n",
       "      <td>0</td>\n",
       "      <td>0</td>\n",
       "      <td>0</td>\n",
       "      <td>0</td>\n",
       "      <td>0</td>\n",
       "    </tr>\n",
       "    <tr>\n",
       "      <th>3</th>\n",
       "      <td>0</td>\n",
       "      <td>0</td>\n",
       "      <td>0</td>\n",
       "      <td>0</td>\n",
       "      <td>0</td>\n",
       "      <td>0</td>\n",
       "      <td>0</td>\n",
       "      <td>0</td>\n",
       "      <td>0</td>\n",
       "      <td>0</td>\n",
       "      <td>...</td>\n",
       "      <td>0</td>\n",
       "      <td>0</td>\n",
       "      <td>0</td>\n",
       "      <td>0</td>\n",
       "      <td>0</td>\n",
       "      <td>0</td>\n",
       "      <td>0</td>\n",
       "      <td>0</td>\n",
       "      <td>0</td>\n",
       "      <td>0</td>\n",
       "    </tr>\n",
       "    <tr>\n",
       "      <th>4</th>\n",
       "      <td>0</td>\n",
       "      <td>0</td>\n",
       "      <td>0</td>\n",
       "      <td>0</td>\n",
       "      <td>0</td>\n",
       "      <td>0</td>\n",
       "      <td>0</td>\n",
       "      <td>0</td>\n",
       "      <td>0</td>\n",
       "      <td>0</td>\n",
       "      <td>...</td>\n",
       "      <td>0</td>\n",
       "      <td>0</td>\n",
       "      <td>0</td>\n",
       "      <td>0</td>\n",
       "      <td>0</td>\n",
       "      <td>0</td>\n",
       "      <td>0</td>\n",
       "      <td>0</td>\n",
       "      <td>0</td>\n",
       "      <td>0</td>\n",
       "    </tr>\n",
       "    <tr>\n",
       "      <th>...</th>\n",
       "      <td>...</td>\n",
       "      <td>...</td>\n",
       "      <td>...</td>\n",
       "      <td>...</td>\n",
       "      <td>...</td>\n",
       "      <td>...</td>\n",
       "      <td>...</td>\n",
       "      <td>...</td>\n",
       "      <td>...</td>\n",
       "      <td>...</td>\n",
       "      <td>...</td>\n",
       "      <td>...</td>\n",
       "      <td>...</td>\n",
       "      <td>...</td>\n",
       "      <td>...</td>\n",
       "      <td>...</td>\n",
       "      <td>...</td>\n",
       "      <td>...</td>\n",
       "      <td>...</td>\n",
       "      <td>...</td>\n",
       "      <td>...</td>\n",
       "    </tr>\n",
       "    <tr>\n",
       "      <th>2125</th>\n",
       "      <td>0</td>\n",
       "      <td>0</td>\n",
       "      <td>0</td>\n",
       "      <td>0</td>\n",
       "      <td>0</td>\n",
       "      <td>0</td>\n",
       "      <td>0</td>\n",
       "      <td>0</td>\n",
       "      <td>0</td>\n",
       "      <td>0</td>\n",
       "      <td>...</td>\n",
       "      <td>0</td>\n",
       "      <td>0</td>\n",
       "      <td>0</td>\n",
       "      <td>0</td>\n",
       "      <td>0</td>\n",
       "      <td>0</td>\n",
       "      <td>0</td>\n",
       "      <td>0</td>\n",
       "      <td>0</td>\n",
       "      <td>0</td>\n",
       "    </tr>\n",
       "    <tr>\n",
       "      <th>2126</th>\n",
       "      <td>0</td>\n",
       "      <td>0</td>\n",
       "      <td>0</td>\n",
       "      <td>0</td>\n",
       "      <td>0</td>\n",
       "      <td>0</td>\n",
       "      <td>0</td>\n",
       "      <td>0</td>\n",
       "      <td>0</td>\n",
       "      <td>0</td>\n",
       "      <td>...</td>\n",
       "      <td>0</td>\n",
       "      <td>0</td>\n",
       "      <td>0</td>\n",
       "      <td>0</td>\n",
       "      <td>0</td>\n",
       "      <td>0</td>\n",
       "      <td>0</td>\n",
       "      <td>0</td>\n",
       "      <td>0</td>\n",
       "      <td>0</td>\n",
       "    </tr>\n",
       "    <tr>\n",
       "      <th>2127</th>\n",
       "      <td>0</td>\n",
       "      <td>0</td>\n",
       "      <td>0</td>\n",
       "      <td>0</td>\n",
       "      <td>0</td>\n",
       "      <td>0</td>\n",
       "      <td>0</td>\n",
       "      <td>0</td>\n",
       "      <td>0</td>\n",
       "      <td>0</td>\n",
       "      <td>...</td>\n",
       "      <td>0</td>\n",
       "      <td>0</td>\n",
       "      <td>0</td>\n",
       "      <td>0</td>\n",
       "      <td>0</td>\n",
       "      <td>0</td>\n",
       "      <td>0</td>\n",
       "      <td>0</td>\n",
       "      <td>0</td>\n",
       "      <td>0</td>\n",
       "    </tr>\n",
       "    <tr>\n",
       "      <th>2128</th>\n",
       "      <td>0</td>\n",
       "      <td>0</td>\n",
       "      <td>0</td>\n",
       "      <td>0</td>\n",
       "      <td>0</td>\n",
       "      <td>0</td>\n",
       "      <td>0</td>\n",
       "      <td>0</td>\n",
       "      <td>0</td>\n",
       "      <td>0</td>\n",
       "      <td>...</td>\n",
       "      <td>0</td>\n",
       "      <td>0</td>\n",
       "      <td>0</td>\n",
       "      <td>0</td>\n",
       "      <td>0</td>\n",
       "      <td>0</td>\n",
       "      <td>0</td>\n",
       "      <td>0</td>\n",
       "      <td>0</td>\n",
       "      <td>0</td>\n",
       "    </tr>\n",
       "    <tr>\n",
       "      <th>2129</th>\n",
       "      <td>0</td>\n",
       "      <td>0</td>\n",
       "      <td>0</td>\n",
       "      <td>0</td>\n",
       "      <td>0</td>\n",
       "      <td>0</td>\n",
       "      <td>0</td>\n",
       "      <td>0</td>\n",
       "      <td>0</td>\n",
       "      <td>0</td>\n",
       "      <td>...</td>\n",
       "      <td>0</td>\n",
       "      <td>0</td>\n",
       "      <td>0</td>\n",
       "      <td>0</td>\n",
       "      <td>0</td>\n",
       "      <td>0</td>\n",
       "      <td>0</td>\n",
       "      <td>0</td>\n",
       "      <td>0</td>\n",
       "      <td>0</td>\n",
       "    </tr>\n",
       "  </tbody>\n",
       "</table>\n",
       "<p>2130 rows × 445 columns</p>\n",
       "</div>"
      ],
      "text/plain": [
       "      Heberden's node  Murphy's sign  Stahli's line  abdomen acute  \\\n",
       "0                   0              0              0              0   \n",
       "1                   0              0              0              0   \n",
       "2                   0              0              0              0   \n",
       "3                   0              0              0              0   \n",
       "4                   0              0              0              0   \n",
       "...               ...            ...            ...            ...   \n",
       "2125                0              0              0              0   \n",
       "2126                0              0              0              0   \n",
       "2127                0              0              0              0   \n",
       "2128                0              0              0              0   \n",
       "2129                0              0              0              0   \n",
       "\n",
       "      abdominal bloating  abdominal tenderness  abnormal sensation  \\\n",
       "0                      0                     0                   0   \n",
       "1                      0                     0                   0   \n",
       "2                      0                     0                   0   \n",
       "3                      0                     0                   0   \n",
       "4                      0                     0                   0   \n",
       "...                  ...                   ...                 ...   \n",
       "2125                   0                     0                   0   \n",
       "2126                   0                     0                   0   \n",
       "2127                   0                     0                   0   \n",
       "2128                   0                     0                   0   \n",
       "2129                   0                     0                   0   \n",
       "\n",
       "      abnormally  hard consistency  abnormally hard consistency  abortion  \\\n",
       "0                                0                            0         0   \n",
       "1                                0                            0         0   \n",
       "2                                0                            0         0   \n",
       "3                                0                            0         0   \n",
       "4                                0                            0         0   \n",
       "...                            ...                          ...       ...   \n",
       "2125                             0                            0         0   \n",
       "2126                             0                            0         0   \n",
       "2127                             0                            0         0   \n",
       "2128                             0                            0         0   \n",
       "2129                             0                            0         0   \n",
       "\n",
       "      ...  vomiting  weepiness  weight gain  welt  wheelchair bound  wheezing  \\\n",
       "0     ...         0          0            0     0                 0         0   \n",
       "1     ...         0          0            0     0                 0         0   \n",
       "2     ...         0          0            0     0                 0         0   \n",
       "3     ...         0          0            0     0                 0         0   \n",
       "4     ...         0          0            0     0                 0         0   \n",
       "...   ...       ...        ...          ...   ...               ...       ...   \n",
       "2125  ...         0          0            0     0                 0         0   \n",
       "2126  ...         0          0            0     0                 0         0   \n",
       "2127  ...         0          0            0     0                 0         0   \n",
       "2128  ...         0          0            0     0                 0         0   \n",
       "2129  ...         0          0            0     0                 0         0   \n",
       "\n",
       "      withdraw  worry  yellow  sputum  yellow sputum  \n",
       "0            0      0               0              0  \n",
       "1            0      0               0              0  \n",
       "2            0      0               0              0  \n",
       "3            0      0               0              0  \n",
       "4            0      0               0              0  \n",
       "...        ...    ...             ...            ...  \n",
       "2125         0      0               0              0  \n",
       "2126         0      0               0              0  \n",
       "2127         0      0               0              0  \n",
       "2128         0      0               0              0  \n",
       "2129         0      0               0              0  \n",
       "\n",
       "[2130 rows x 445 columns]"
      ]
     },
     "execution_count": 16,
     "metadata": {},
     "output_type": "execute_result"
    }
   ],
   "source": [
    "df_1 = pd.get_dummies(df.Symptoms)\n",
    "df_1"
   ]
  },
  {
   "cell_type": "code",
   "execution_count": 17,
   "metadata": {
    "colab": {
     "base_uri": "https://localhost:8080/",
     "height": 643
    },
    "colab_type": "code",
    "id": "CyfU7-8tl5JB",
    "outputId": "651aa41c-f584-4689-8a29-89efd117906e"
   },
   "outputs": [
    {
     "data": {
      "text/html": [
       "<div>\n",
       "<style scoped>\n",
       "    .dataframe tbody tr th:only-of-type {\n",
       "        vertical-align: middle;\n",
       "    }\n",
       "\n",
       "    .dataframe tbody tr th {\n",
       "        vertical-align: top;\n",
       "    }\n",
       "\n",
       "    .dataframe thead th {\n",
       "        text-align: right;\n",
       "    }\n",
       "</style>\n",
       "<table border=\"1\" class=\"dataframe\">\n",
       "  <thead>\n",
       "    <tr style=\"text-align: right;\">\n",
       "      <th></th>\n",
       "      <th>Disease</th>\n",
       "      <th>Heberden's node</th>\n",
       "      <th>Murphy's sign</th>\n",
       "      <th>Stahli's line</th>\n",
       "      <th>abdomen acute</th>\n",
       "      <th>abdominal bloating</th>\n",
       "      <th>abdominal tenderness</th>\n",
       "      <th>abnormal sensation</th>\n",
       "      <th>abnormally  hard consistency</th>\n",
       "      <th>abnormally hard consistency</th>\n",
       "      <th>...</th>\n",
       "      <th>vomiting</th>\n",
       "      <th>weepiness</th>\n",
       "      <th>weight gain</th>\n",
       "      <th>welt</th>\n",
       "      <th>wheelchair bound</th>\n",
       "      <th>wheezing</th>\n",
       "      <th>withdraw</th>\n",
       "      <th>worry</th>\n",
       "      <th>yellow  sputum</th>\n",
       "      <th>yellow sputum</th>\n",
       "    </tr>\n",
       "  </thead>\n",
       "  <tbody>\n",
       "    <tr>\n",
       "      <th>0</th>\n",
       "      <td>hypertensive  disease</td>\n",
       "      <td>0</td>\n",
       "      <td>0</td>\n",
       "      <td>0</td>\n",
       "      <td>0</td>\n",
       "      <td>0</td>\n",
       "      <td>0</td>\n",
       "      <td>0</td>\n",
       "      <td>0</td>\n",
       "      <td>0</td>\n",
       "      <td>...</td>\n",
       "      <td>0</td>\n",
       "      <td>0</td>\n",
       "      <td>0</td>\n",
       "      <td>0</td>\n",
       "      <td>0</td>\n",
       "      <td>0</td>\n",
       "      <td>0</td>\n",
       "      <td>0</td>\n",
       "      <td>0</td>\n",
       "      <td>0</td>\n",
       "    </tr>\n",
       "    <tr>\n",
       "      <th>1</th>\n",
       "      <td>hypertensive  disease</td>\n",
       "      <td>0</td>\n",
       "      <td>0</td>\n",
       "      <td>0</td>\n",
       "      <td>0</td>\n",
       "      <td>0</td>\n",
       "      <td>0</td>\n",
       "      <td>0</td>\n",
       "      <td>0</td>\n",
       "      <td>0</td>\n",
       "      <td>...</td>\n",
       "      <td>0</td>\n",
       "      <td>0</td>\n",
       "      <td>0</td>\n",
       "      <td>0</td>\n",
       "      <td>0</td>\n",
       "      <td>0</td>\n",
       "      <td>0</td>\n",
       "      <td>0</td>\n",
       "      <td>0</td>\n",
       "      <td>0</td>\n",
       "    </tr>\n",
       "    <tr>\n",
       "      <th>2</th>\n",
       "      <td>hypertensive  disease</td>\n",
       "      <td>0</td>\n",
       "      <td>0</td>\n",
       "      <td>0</td>\n",
       "      <td>0</td>\n",
       "      <td>0</td>\n",
       "      <td>0</td>\n",
       "      <td>0</td>\n",
       "      <td>0</td>\n",
       "      <td>0</td>\n",
       "      <td>...</td>\n",
       "      <td>0</td>\n",
       "      <td>0</td>\n",
       "      <td>0</td>\n",
       "      <td>0</td>\n",
       "      <td>0</td>\n",
       "      <td>0</td>\n",
       "      <td>0</td>\n",
       "      <td>0</td>\n",
       "      <td>0</td>\n",
       "      <td>0</td>\n",
       "    </tr>\n",
       "    <tr>\n",
       "      <th>3</th>\n",
       "      <td>hypertensive  disease</td>\n",
       "      <td>0</td>\n",
       "      <td>0</td>\n",
       "      <td>0</td>\n",
       "      <td>0</td>\n",
       "      <td>0</td>\n",
       "      <td>0</td>\n",
       "      <td>0</td>\n",
       "      <td>0</td>\n",
       "      <td>0</td>\n",
       "      <td>...</td>\n",
       "      <td>0</td>\n",
       "      <td>0</td>\n",
       "      <td>0</td>\n",
       "      <td>0</td>\n",
       "      <td>0</td>\n",
       "      <td>0</td>\n",
       "      <td>0</td>\n",
       "      <td>0</td>\n",
       "      <td>0</td>\n",
       "      <td>0</td>\n",
       "    </tr>\n",
       "    <tr>\n",
       "      <th>4</th>\n",
       "      <td>hypertensive  disease</td>\n",
       "      <td>0</td>\n",
       "      <td>0</td>\n",
       "      <td>0</td>\n",
       "      <td>0</td>\n",
       "      <td>0</td>\n",
       "      <td>0</td>\n",
       "      <td>0</td>\n",
       "      <td>0</td>\n",
       "      <td>0</td>\n",
       "      <td>...</td>\n",
       "      <td>0</td>\n",
       "      <td>0</td>\n",
       "      <td>0</td>\n",
       "      <td>0</td>\n",
       "      <td>0</td>\n",
       "      <td>0</td>\n",
       "      <td>0</td>\n",
       "      <td>0</td>\n",
       "      <td>0</td>\n",
       "      <td>0</td>\n",
       "    </tr>\n",
       "    <tr>\n",
       "      <th>...</th>\n",
       "      <td>...</td>\n",
       "      <td>...</td>\n",
       "      <td>...</td>\n",
       "      <td>...</td>\n",
       "      <td>...</td>\n",
       "      <td>...</td>\n",
       "      <td>...</td>\n",
       "      <td>...</td>\n",
       "      <td>...</td>\n",
       "      <td>...</td>\n",
       "      <td>...</td>\n",
       "      <td>...</td>\n",
       "      <td>...</td>\n",
       "      <td>...</td>\n",
       "      <td>...</td>\n",
       "      <td>...</td>\n",
       "      <td>...</td>\n",
       "      <td>...</td>\n",
       "      <td>...</td>\n",
       "      <td>...</td>\n",
       "      <td>...</td>\n",
       "    </tr>\n",
       "    <tr>\n",
       "      <th>2125</th>\n",
       "      <td>affect  labile</td>\n",
       "      <td>0</td>\n",
       "      <td>0</td>\n",
       "      <td>0</td>\n",
       "      <td>0</td>\n",
       "      <td>0</td>\n",
       "      <td>0</td>\n",
       "      <td>0</td>\n",
       "      <td>0</td>\n",
       "      <td>0</td>\n",
       "      <td>...</td>\n",
       "      <td>0</td>\n",
       "      <td>0</td>\n",
       "      <td>0</td>\n",
       "      <td>0</td>\n",
       "      <td>0</td>\n",
       "      <td>0</td>\n",
       "      <td>0</td>\n",
       "      <td>0</td>\n",
       "      <td>0</td>\n",
       "      <td>0</td>\n",
       "    </tr>\n",
       "    <tr>\n",
       "      <th>2126</th>\n",
       "      <td>affect  labile</td>\n",
       "      <td>0</td>\n",
       "      <td>0</td>\n",
       "      <td>0</td>\n",
       "      <td>0</td>\n",
       "      <td>0</td>\n",
       "      <td>0</td>\n",
       "      <td>0</td>\n",
       "      <td>0</td>\n",
       "      <td>0</td>\n",
       "      <td>...</td>\n",
       "      <td>0</td>\n",
       "      <td>0</td>\n",
       "      <td>0</td>\n",
       "      <td>0</td>\n",
       "      <td>0</td>\n",
       "      <td>0</td>\n",
       "      <td>0</td>\n",
       "      <td>0</td>\n",
       "      <td>0</td>\n",
       "      <td>0</td>\n",
       "    </tr>\n",
       "    <tr>\n",
       "      <th>2127</th>\n",
       "      <td>decubitus  ulcer</td>\n",
       "      <td>0</td>\n",
       "      <td>0</td>\n",
       "      <td>0</td>\n",
       "      <td>0</td>\n",
       "      <td>0</td>\n",
       "      <td>0</td>\n",
       "      <td>0</td>\n",
       "      <td>0</td>\n",
       "      <td>0</td>\n",
       "      <td>...</td>\n",
       "      <td>0</td>\n",
       "      <td>0</td>\n",
       "      <td>0</td>\n",
       "      <td>0</td>\n",
       "      <td>0</td>\n",
       "      <td>0</td>\n",
       "      <td>0</td>\n",
       "      <td>0</td>\n",
       "      <td>0</td>\n",
       "      <td>0</td>\n",
       "    </tr>\n",
       "    <tr>\n",
       "      <th>2128</th>\n",
       "      <td>decubitus  ulcer</td>\n",
       "      <td>0</td>\n",
       "      <td>0</td>\n",
       "      <td>0</td>\n",
       "      <td>0</td>\n",
       "      <td>0</td>\n",
       "      <td>0</td>\n",
       "      <td>0</td>\n",
       "      <td>0</td>\n",
       "      <td>0</td>\n",
       "      <td>...</td>\n",
       "      <td>0</td>\n",
       "      <td>0</td>\n",
       "      <td>0</td>\n",
       "      <td>0</td>\n",
       "      <td>0</td>\n",
       "      <td>0</td>\n",
       "      <td>0</td>\n",
       "      <td>0</td>\n",
       "      <td>0</td>\n",
       "      <td>0</td>\n",
       "    </tr>\n",
       "    <tr>\n",
       "      <th>2129</th>\n",
       "      <td>decubitus  ulcer</td>\n",
       "      <td>0</td>\n",
       "      <td>0</td>\n",
       "      <td>0</td>\n",
       "      <td>0</td>\n",
       "      <td>0</td>\n",
       "      <td>0</td>\n",
       "      <td>0</td>\n",
       "      <td>0</td>\n",
       "      <td>0</td>\n",
       "      <td>...</td>\n",
       "      <td>0</td>\n",
       "      <td>0</td>\n",
       "      <td>0</td>\n",
       "      <td>0</td>\n",
       "      <td>0</td>\n",
       "      <td>0</td>\n",
       "      <td>0</td>\n",
       "      <td>0</td>\n",
       "      <td>0</td>\n",
       "      <td>0</td>\n",
       "    </tr>\n",
       "  </tbody>\n",
       "</table>\n",
       "<p>2130 rows × 446 columns</p>\n",
       "</div>"
      ],
      "text/plain": [
       "                    Disease  Heberden's node  Murphy's sign  Stahli's line  \\\n",
       "0     hypertensive  disease                0              0              0   \n",
       "1     hypertensive  disease                0              0              0   \n",
       "2     hypertensive  disease                0              0              0   \n",
       "3     hypertensive  disease                0              0              0   \n",
       "4     hypertensive  disease                0              0              0   \n",
       "...                     ...              ...            ...            ...   \n",
       "2125         affect  labile                0              0              0   \n",
       "2126         affect  labile                0              0              0   \n",
       "2127       decubitus  ulcer                0              0              0   \n",
       "2128       decubitus  ulcer                0              0              0   \n",
       "2129       decubitus  ulcer                0              0              0   \n",
       "\n",
       "      abdomen acute  abdominal bloating  abdominal tenderness  \\\n",
       "0                 0                   0                     0   \n",
       "1                 0                   0                     0   \n",
       "2                 0                   0                     0   \n",
       "3                 0                   0                     0   \n",
       "4                 0                   0                     0   \n",
       "...             ...                 ...                   ...   \n",
       "2125              0                   0                     0   \n",
       "2126              0                   0                     0   \n",
       "2127              0                   0                     0   \n",
       "2128              0                   0                     0   \n",
       "2129              0                   0                     0   \n",
       "\n",
       "      abnormal sensation  abnormally  hard consistency  \\\n",
       "0                      0                             0   \n",
       "1                      0                             0   \n",
       "2                      0                             0   \n",
       "3                      0                             0   \n",
       "4                      0                             0   \n",
       "...                  ...                           ...   \n",
       "2125                   0                             0   \n",
       "2126                   0                             0   \n",
       "2127                   0                             0   \n",
       "2128                   0                             0   \n",
       "2129                   0                             0   \n",
       "\n",
       "      abnormally hard consistency  ...  vomiting  weepiness  weight gain  \\\n",
       "0                               0  ...         0          0            0   \n",
       "1                               0  ...         0          0            0   \n",
       "2                               0  ...         0          0            0   \n",
       "3                               0  ...         0          0            0   \n",
       "4                               0  ...         0          0            0   \n",
       "...                           ...  ...       ...        ...          ...   \n",
       "2125                            0  ...         0          0            0   \n",
       "2126                            0  ...         0          0            0   \n",
       "2127                            0  ...         0          0            0   \n",
       "2128                            0  ...         0          0            0   \n",
       "2129                            0  ...         0          0            0   \n",
       "\n",
       "      welt  wheelchair bound  wheezing  withdraw  worry  yellow  sputum  \\\n",
       "0        0                 0         0         0      0               0   \n",
       "1        0                 0         0         0      0               0   \n",
       "2        0                 0         0         0      0               0   \n",
       "3        0                 0         0         0      0               0   \n",
       "4        0                 0         0         0      0               0   \n",
       "...    ...               ...       ...       ...    ...             ...   \n",
       "2125     0                 0         0         0      0               0   \n",
       "2126     0                 0         0         0      0               0   \n",
       "2127     0                 0         0         0      0               0   \n",
       "2128     0                 0         0         0      0               0   \n",
       "2129     0                 0         0         0      0               0   \n",
       "\n",
       "      yellow sputum  \n",
       "0                 0  \n",
       "1                 0  \n",
       "2                 0  \n",
       "3                 0  \n",
       "4                 0  \n",
       "...             ...  \n",
       "2125              0  \n",
       "2126              0  \n",
       "2127              0  \n",
       "2128              0  \n",
       "2129              0  \n",
       "\n",
       "[2130 rows x 446 columns]"
      ]
     },
     "execution_count": 17,
     "metadata": {},
     "output_type": "execute_result"
    }
   ],
   "source": [
    "df_pivoted = pd.concat([df_s,df_1], axis=1)\n",
    "df_pivoted"
   ]
  },
  {
   "cell_type": "code",
   "execution_count": 18,
   "metadata": {
    "colab": {
     "base_uri": "https://localhost:8080/",
     "height": 555
    },
    "colab_type": "code",
    "id": "4zfr3pQZmBTz",
    "outputId": "af058644-c29e-45dc-ed82-723aee89c22d"
   },
   "outputs": [
    {
     "data": {
      "text/html": [
       "<div>\n",
       "<style scoped>\n",
       "    .dataframe tbody tr th:only-of-type {\n",
       "        vertical-align: middle;\n",
       "    }\n",
       "\n",
       "    .dataframe tbody tr th {\n",
       "        vertical-align: top;\n",
       "    }\n",
       "\n",
       "    .dataframe thead th {\n",
       "        text-align: right;\n",
       "    }\n",
       "</style>\n",
       "<table border=\"1\" class=\"dataframe\">\n",
       "  <thead>\n",
       "    <tr style=\"text-align: right;\">\n",
       "      <th></th>\n",
       "      <th>Heberden's node</th>\n",
       "      <th>Murphy's sign</th>\n",
       "      <th>Stahli's line</th>\n",
       "      <th>abdomen acute</th>\n",
       "      <th>abdominal bloating</th>\n",
       "      <th>abdominal tenderness</th>\n",
       "      <th>abnormal sensation</th>\n",
       "      <th>abnormally  hard consistency</th>\n",
       "      <th>abnormally hard consistency</th>\n",
       "      <th>abortion</th>\n",
       "      <th>...</th>\n",
       "      <th>vomiting</th>\n",
       "      <th>weepiness</th>\n",
       "      <th>weight gain</th>\n",
       "      <th>welt</th>\n",
       "      <th>wheelchair bound</th>\n",
       "      <th>wheezing</th>\n",
       "      <th>withdraw</th>\n",
       "      <th>worry</th>\n",
       "      <th>yellow  sputum</th>\n",
       "      <th>yellow sputum</th>\n",
       "    </tr>\n",
       "    <tr>\n",
       "      <th>Disease</th>\n",
       "      <th></th>\n",
       "      <th></th>\n",
       "      <th></th>\n",
       "      <th></th>\n",
       "      <th></th>\n",
       "      <th></th>\n",
       "      <th></th>\n",
       "      <th></th>\n",
       "      <th></th>\n",
       "      <th></th>\n",
       "      <th></th>\n",
       "      <th></th>\n",
       "      <th></th>\n",
       "      <th></th>\n",
       "      <th></th>\n",
       "      <th></th>\n",
       "      <th></th>\n",
       "      <th></th>\n",
       "      <th></th>\n",
       "      <th></th>\n",
       "      <th></th>\n",
       "    </tr>\n",
       "  </thead>\n",
       "  <tbody>\n",
       "    <tr>\n",
       "      <th>Alzheimer's  disease</th>\n",
       "      <td>0</td>\n",
       "      <td>0</td>\n",
       "      <td>0</td>\n",
       "      <td>0</td>\n",
       "      <td>0</td>\n",
       "      <td>0</td>\n",
       "      <td>0</td>\n",
       "      <td>0</td>\n",
       "      <td>0</td>\n",
       "      <td>0</td>\n",
       "      <td>...</td>\n",
       "      <td>0</td>\n",
       "      <td>0</td>\n",
       "      <td>0</td>\n",
       "      <td>0</td>\n",
       "      <td>1</td>\n",
       "      <td>0</td>\n",
       "      <td>0</td>\n",
       "      <td>0</td>\n",
       "      <td>0</td>\n",
       "      <td>0</td>\n",
       "    </tr>\n",
       "    <tr>\n",
       "      <th>HIV</th>\n",
       "      <td>0</td>\n",
       "      <td>0</td>\n",
       "      <td>0</td>\n",
       "      <td>0</td>\n",
       "      <td>0</td>\n",
       "      <td>0</td>\n",
       "      <td>0</td>\n",
       "      <td>0</td>\n",
       "      <td>0</td>\n",
       "      <td>0</td>\n",
       "      <td>...</td>\n",
       "      <td>0</td>\n",
       "      <td>0</td>\n",
       "      <td>0</td>\n",
       "      <td>0</td>\n",
       "      <td>0</td>\n",
       "      <td>0</td>\n",
       "      <td>0</td>\n",
       "      <td>0</td>\n",
       "      <td>0</td>\n",
       "      <td>0</td>\n",
       "    </tr>\n",
       "    <tr>\n",
       "      <th>Pneumocystis  carinii pneumonia</th>\n",
       "      <td>0</td>\n",
       "      <td>0</td>\n",
       "      <td>0</td>\n",
       "      <td>0</td>\n",
       "      <td>0</td>\n",
       "      <td>0</td>\n",
       "      <td>0</td>\n",
       "      <td>0</td>\n",
       "      <td>0</td>\n",
       "      <td>0</td>\n",
       "      <td>...</td>\n",
       "      <td>0</td>\n",
       "      <td>0</td>\n",
       "      <td>0</td>\n",
       "      <td>0</td>\n",
       "      <td>0</td>\n",
       "      <td>0</td>\n",
       "      <td>0</td>\n",
       "      <td>0</td>\n",
       "      <td>0</td>\n",
       "      <td>1</td>\n",
       "    </tr>\n",
       "    <tr>\n",
       "      <th>accident  cerebrovascular</th>\n",
       "      <td>0</td>\n",
       "      <td>0</td>\n",
       "      <td>0</td>\n",
       "      <td>0</td>\n",
       "      <td>0</td>\n",
       "      <td>0</td>\n",
       "      <td>0</td>\n",
       "      <td>0</td>\n",
       "      <td>0</td>\n",
       "      <td>0</td>\n",
       "      <td>...</td>\n",
       "      <td>0</td>\n",
       "      <td>0</td>\n",
       "      <td>0</td>\n",
       "      <td>0</td>\n",
       "      <td>0</td>\n",
       "      <td>0</td>\n",
       "      <td>0</td>\n",
       "      <td>0</td>\n",
       "      <td>0</td>\n",
       "      <td>0</td>\n",
       "    </tr>\n",
       "    <tr>\n",
       "      <th>acquired  immuno-deficiency  syndrome</th>\n",
       "      <td>0</td>\n",
       "      <td>0</td>\n",
       "      <td>0</td>\n",
       "      <td>0</td>\n",
       "      <td>0</td>\n",
       "      <td>0</td>\n",
       "      <td>0</td>\n",
       "      <td>0</td>\n",
       "      <td>0</td>\n",
       "      <td>0</td>\n",
       "      <td>...</td>\n",
       "      <td>0</td>\n",
       "      <td>0</td>\n",
       "      <td>0</td>\n",
       "      <td>0</td>\n",
       "      <td>0</td>\n",
       "      <td>0</td>\n",
       "      <td>0</td>\n",
       "      <td>0</td>\n",
       "      <td>0</td>\n",
       "      <td>0</td>\n",
       "    </tr>\n",
       "    <tr>\n",
       "      <th>...</th>\n",
       "      <td>...</td>\n",
       "      <td>...</td>\n",
       "      <td>...</td>\n",
       "      <td>...</td>\n",
       "      <td>...</td>\n",
       "      <td>...</td>\n",
       "      <td>...</td>\n",
       "      <td>...</td>\n",
       "      <td>...</td>\n",
       "      <td>...</td>\n",
       "      <td>...</td>\n",
       "      <td>...</td>\n",
       "      <td>...</td>\n",
       "      <td>...</td>\n",
       "      <td>...</td>\n",
       "      <td>...</td>\n",
       "      <td>...</td>\n",
       "      <td>...</td>\n",
       "      <td>...</td>\n",
       "      <td>...</td>\n",
       "      <td>...</td>\n",
       "    </tr>\n",
       "    <tr>\n",
       "      <th>tonic-clonic seizures</th>\n",
       "      <td>0</td>\n",
       "      <td>0</td>\n",
       "      <td>0</td>\n",
       "      <td>0</td>\n",
       "      <td>0</td>\n",
       "      <td>0</td>\n",
       "      <td>0</td>\n",
       "      <td>0</td>\n",
       "      <td>0</td>\n",
       "      <td>0</td>\n",
       "      <td>...</td>\n",
       "      <td>0</td>\n",
       "      <td>0</td>\n",
       "      <td>0</td>\n",
       "      <td>0</td>\n",
       "      <td>0</td>\n",
       "      <td>0</td>\n",
       "      <td>0</td>\n",
       "      <td>0</td>\n",
       "      <td>0</td>\n",
       "      <td>0</td>\n",
       "    </tr>\n",
       "    <tr>\n",
       "      <th>transient  ischemic attack</th>\n",
       "      <td>0</td>\n",
       "      <td>0</td>\n",
       "      <td>1</td>\n",
       "      <td>0</td>\n",
       "      <td>0</td>\n",
       "      <td>0</td>\n",
       "      <td>0</td>\n",
       "      <td>0</td>\n",
       "      <td>0</td>\n",
       "      <td>0</td>\n",
       "      <td>...</td>\n",
       "      <td>0</td>\n",
       "      <td>0</td>\n",
       "      <td>0</td>\n",
       "      <td>0</td>\n",
       "      <td>0</td>\n",
       "      <td>0</td>\n",
       "      <td>0</td>\n",
       "      <td>0</td>\n",
       "      <td>0</td>\n",
       "      <td>0</td>\n",
       "    </tr>\n",
       "    <tr>\n",
       "      <th>tricuspid  valve insufficiency</th>\n",
       "      <td>0</td>\n",
       "      <td>0</td>\n",
       "      <td>0</td>\n",
       "      <td>0</td>\n",
       "      <td>0</td>\n",
       "      <td>0</td>\n",
       "      <td>0</td>\n",
       "      <td>0</td>\n",
       "      <td>0</td>\n",
       "      <td>0</td>\n",
       "      <td>...</td>\n",
       "      <td>1</td>\n",
       "      <td>0</td>\n",
       "      <td>0</td>\n",
       "      <td>0</td>\n",
       "      <td>0</td>\n",
       "      <td>0</td>\n",
       "      <td>0</td>\n",
       "      <td>0</td>\n",
       "      <td>0</td>\n",
       "      <td>0</td>\n",
       "    </tr>\n",
       "    <tr>\n",
       "      <th>ulcer  peptic</th>\n",
       "      <td>0</td>\n",
       "      <td>0</td>\n",
       "      <td>0</td>\n",
       "      <td>0</td>\n",
       "      <td>0</td>\n",
       "      <td>0</td>\n",
       "      <td>0</td>\n",
       "      <td>0</td>\n",
       "      <td>0</td>\n",
       "      <td>0</td>\n",
       "      <td>...</td>\n",
       "      <td>1</td>\n",
       "      <td>0</td>\n",
       "      <td>0</td>\n",
       "      <td>0</td>\n",
       "      <td>0</td>\n",
       "      <td>0</td>\n",
       "      <td>0</td>\n",
       "      <td>0</td>\n",
       "      <td>0</td>\n",
       "      <td>0</td>\n",
       "    </tr>\n",
       "    <tr>\n",
       "      <th>upper  respiratory infection</th>\n",
       "      <td>0</td>\n",
       "      <td>0</td>\n",
       "      <td>0</td>\n",
       "      <td>0</td>\n",
       "      <td>0</td>\n",
       "      <td>0</td>\n",
       "      <td>0</td>\n",
       "      <td>0</td>\n",
       "      <td>0</td>\n",
       "      <td>0</td>\n",
       "      <td>...</td>\n",
       "      <td>0</td>\n",
       "      <td>0</td>\n",
       "      <td>0</td>\n",
       "      <td>0</td>\n",
       "      <td>0</td>\n",
       "      <td>1</td>\n",
       "      <td>0</td>\n",
       "      <td>0</td>\n",
       "      <td>0</td>\n",
       "      <td>0</td>\n",
       "    </tr>\n",
       "  </tbody>\n",
       "</table>\n",
       "<p>148 rows × 445 columns</p>\n",
       "</div>"
      ],
      "text/plain": [
       "                                       Heberden's node  Murphy's sign  \\\n",
       "Disease                                                                 \n",
       "Alzheimer's  disease                                 0              0   \n",
       "HIV                                                  0              0   \n",
       "Pneumocystis  carinii pneumonia                      0              0   \n",
       "accident  cerebrovascular                            0              0   \n",
       "acquired  immuno-deficiency  syndrome                0              0   \n",
       "...                                                ...            ...   \n",
       "tonic-clonic seizures                                0              0   \n",
       "transient  ischemic attack                           0              0   \n",
       "tricuspid  valve insufficiency                       0              0   \n",
       "ulcer  peptic                                        0              0   \n",
       "upper  respiratory infection                         0              0   \n",
       "\n",
       "                                       Stahli's line  abdomen acute  \\\n",
       "Disease                                                               \n",
       "Alzheimer's  disease                               0              0   \n",
       "HIV                                                0              0   \n",
       "Pneumocystis  carinii pneumonia                    0              0   \n",
       "accident  cerebrovascular                          0              0   \n",
       "acquired  immuno-deficiency  syndrome              0              0   \n",
       "...                                              ...            ...   \n",
       "tonic-clonic seizures                              0              0   \n",
       "transient  ischemic attack                         1              0   \n",
       "tricuspid  valve insufficiency                     0              0   \n",
       "ulcer  peptic                                      0              0   \n",
       "upper  respiratory infection                       0              0   \n",
       "\n",
       "                                       abdominal bloating  \\\n",
       "Disease                                                     \n",
       "Alzheimer's  disease                                    0   \n",
       "HIV                                                     0   \n",
       "Pneumocystis  carinii pneumonia                         0   \n",
       "accident  cerebrovascular                               0   \n",
       "acquired  immuno-deficiency  syndrome                   0   \n",
       "...                                                   ...   \n",
       "tonic-clonic seizures                                   0   \n",
       "transient  ischemic attack                              0   \n",
       "tricuspid  valve insufficiency                          0   \n",
       "ulcer  peptic                                           0   \n",
       "upper  respiratory infection                            0   \n",
       "\n",
       "                                       abdominal tenderness  \\\n",
       "Disease                                                       \n",
       "Alzheimer's  disease                                      0   \n",
       "HIV                                                       0   \n",
       "Pneumocystis  carinii pneumonia                           0   \n",
       "accident  cerebrovascular                                 0   \n",
       "acquired  immuno-deficiency  syndrome                     0   \n",
       "...                                                     ...   \n",
       "tonic-clonic seizures                                     0   \n",
       "transient  ischemic attack                                0   \n",
       "tricuspid  valve insufficiency                            0   \n",
       "ulcer  peptic                                             0   \n",
       "upper  respiratory infection                              0   \n",
       "\n",
       "                                       abnormal sensation  \\\n",
       "Disease                                                     \n",
       "Alzheimer's  disease                                    0   \n",
       "HIV                                                     0   \n",
       "Pneumocystis  carinii pneumonia                         0   \n",
       "accident  cerebrovascular                               0   \n",
       "acquired  immuno-deficiency  syndrome                   0   \n",
       "...                                                   ...   \n",
       "tonic-clonic seizures                                   0   \n",
       "transient  ischemic attack                              0   \n",
       "tricuspid  valve insufficiency                          0   \n",
       "ulcer  peptic                                           0   \n",
       "upper  respiratory infection                            0   \n",
       "\n",
       "                                       abnormally  hard consistency  \\\n",
       "Disease                                                               \n",
       "Alzheimer's  disease                                              0   \n",
       "HIV                                                               0   \n",
       "Pneumocystis  carinii pneumonia                                   0   \n",
       "accident  cerebrovascular                                         0   \n",
       "acquired  immuno-deficiency  syndrome                             0   \n",
       "...                                                             ...   \n",
       "tonic-clonic seizures                                             0   \n",
       "transient  ischemic attack                                        0   \n",
       "tricuspid  valve insufficiency                                    0   \n",
       "ulcer  peptic                                                     0   \n",
       "upper  respiratory infection                                      0   \n",
       "\n",
       "                                       abnormally hard consistency  abortion  \\\n",
       "Disease                                                                        \n",
       "Alzheimer's  disease                                             0         0   \n",
       "HIV                                                              0         0   \n",
       "Pneumocystis  carinii pneumonia                                  0         0   \n",
       "accident  cerebrovascular                                        0         0   \n",
       "acquired  immuno-deficiency  syndrome                            0         0   \n",
       "...                                                            ...       ...   \n",
       "tonic-clonic seizures                                            0         0   \n",
       "transient  ischemic attack                                       0         0   \n",
       "tricuspid  valve insufficiency                                   0         0   \n",
       "ulcer  peptic                                                    0         0   \n",
       "upper  respiratory infection                                     0         0   \n",
       "\n",
       "                                       ...  vomiting  weepiness  weight gain  \\\n",
       "Disease                                ...                                     \n",
       "Alzheimer's  disease                   ...         0          0            0   \n",
       "HIV                                    ...         0          0            0   \n",
       "Pneumocystis  carinii pneumonia        ...         0          0            0   \n",
       "accident  cerebrovascular              ...         0          0            0   \n",
       "acquired  immuno-deficiency  syndrome  ...         0          0            0   \n",
       "...                                    ...       ...        ...          ...   \n",
       "tonic-clonic seizures                  ...         0          0            0   \n",
       "transient  ischemic attack             ...         0          0            0   \n",
       "tricuspid  valve insufficiency         ...         1          0            0   \n",
       "ulcer  peptic                          ...         1          0            0   \n",
       "upper  respiratory infection           ...         0          0            0   \n",
       "\n",
       "                                       welt  wheelchair bound  wheezing  \\\n",
       "Disease                                                                   \n",
       "Alzheimer's  disease                      0                 1         0   \n",
       "HIV                                       0                 0         0   \n",
       "Pneumocystis  carinii pneumonia           0                 0         0   \n",
       "accident  cerebrovascular                 0                 0         0   \n",
       "acquired  immuno-deficiency  syndrome     0                 0         0   \n",
       "...                                     ...               ...       ...   \n",
       "tonic-clonic seizures                     0                 0         0   \n",
       "transient  ischemic attack                0                 0         0   \n",
       "tricuspid  valve insufficiency            0                 0         0   \n",
       "ulcer  peptic                             0                 0         0   \n",
       "upper  respiratory infection              0                 0         1   \n",
       "\n",
       "                                       withdraw  worry  yellow  sputum  \\\n",
       "Disease                                                                  \n",
       "Alzheimer's  disease                          0      0               0   \n",
       "HIV                                           0      0               0   \n",
       "Pneumocystis  carinii pneumonia               0      0               0   \n",
       "accident  cerebrovascular                     0      0               0   \n",
       "acquired  immuno-deficiency  syndrome         0      0               0   \n",
       "...                                         ...    ...             ...   \n",
       "tonic-clonic seizures                         0      0               0   \n",
       "transient  ischemic attack                    0      0               0   \n",
       "tricuspid  valve insufficiency                0      0               0   \n",
       "ulcer  peptic                                 0      0               0   \n",
       "upper  respiratory infection                  0      0               0   \n",
       "\n",
       "                                       yellow sputum  \n",
       "Disease                                               \n",
       "Alzheimer's  disease                               0  \n",
       "HIV                                                0  \n",
       "Pneumocystis  carinii pneumonia                    1  \n",
       "accident  cerebrovascular                          0  \n",
       "acquired  immuno-deficiency  syndrome              0  \n",
       "...                                              ...  \n",
       "tonic-clonic seizures                              0  \n",
       "transient  ischemic attack                         0  \n",
       "tricuspid  valve insufficiency                     0  \n",
       "ulcer  peptic                                      0  \n",
       "upper  respiratory infection                       0  \n",
       "\n",
       "[148 rows x 445 columns]"
      ]
     },
     "execution_count": 18,
     "metadata": {},
     "output_type": "execute_result"
    }
   ],
   "source": [
    "df_pivoted = df_pivoted.groupby('Disease').sum()\n",
    "df_pivoted"
   ]
  },
  {
   "cell_type": "code",
   "execution_count": 19,
   "metadata": {
    "colab": {},
    "colab_type": "code",
    "id": "tgimRBlw8a-s"
   },
   "outputs": [],
   "source": [
    "df_pivoted = df_pivoted.reset_index()"
   ]
  },
  {
   "cell_type": "markdown",
   "metadata": {
    "colab_type": "text",
    "id": "OCRGpwKDqBe9"
   },
   "source": [
    "Disease prediction using the original dataset without considering the disease occurance count"
   ]
  },
  {
   "cell_type": "code",
   "execution_count": 20,
   "metadata": {
    "colab": {
     "base_uri": "https://localhost:8080/",
     "height": 136
    },
    "colab_type": "code",
    "id": "mHOG1oWqp7al",
    "outputId": "32e883f8-2a44-41a4-cedc-7363bbfb5d22"
   },
   "outputs": [
    {
     "data": {
      "text/plain": [
       "Index(['Heberden's node', 'Murphy's sign', 'Stahli's line', 'abdomen acute',\n",
       "       'abdominal bloating', 'abdominal tenderness', 'abnormal sensation',\n",
       "       'abnormally  hard consistency', 'abnormally hard consistency',\n",
       "       'abortion',\n",
       "       ...\n",
       "       'vomiting', 'weepiness', 'weight gain', 'welt', 'wheelchair bound',\n",
       "       'wheezing', 'withdraw', 'worry', 'yellow  sputum', 'yellow sputum'],\n",
       "      dtype='object', length=445)"
      ]
     },
     "execution_count": 20,
     "metadata": {},
     "output_type": "execute_result"
    }
   ],
   "source": [
    "cols = df_pivoted.columns\n",
    "cols = cols[1:]\n",
    "cols"
   ]
  },
  {
   "cell_type": "code",
   "execution_count": 21,
   "metadata": {
    "colab": {},
    "colab_type": "code",
    "id": "IdyXru1GqsTg"
   },
   "outputs": [],
   "source": [
    "X = df_pivoted[cols]\n",
    "y = df_pivoted['Disease']"
   ]
  },
  {
   "cell_type": "markdown",
   "metadata": {
    "colab_type": "text",
    "id": "vm63IK1Lq2FE"
   },
   "source": [
    "Multibinomial Naive bayes"
   ]
  },
  {
   "cell_type": "code",
   "execution_count": 22,
   "metadata": {
    "colab": {},
    "colab_type": "code",
    "id": "6ADHGyCqq5Nx"
   },
   "outputs": [],
   "source": [
    "mnb = MultinomialNB()\n",
    "mnb = mnb.fit(X, y)\n",
    "y_pred = mnb.predict(X)"
   ]
  },
  {
   "cell_type": "code",
   "execution_count": 23,
   "metadata": {
    "colab": {
     "base_uri": "https://localhost:8080/",
     "height": 51
    },
    "colab_type": "code",
    "id": "Vn7ReoJ43zfd",
    "outputId": "0824ab09-925f-49ea-b503-fcc8c15a43ae"
   },
   "outputs": [
    {
     "name": "stdout",
     "output_type": "stream",
     "text": [
      "Total number of incorrect predictions: 15\n",
      "Accuracy of the MNB model in Predicting Disease:  89.86486486486487 %\n"
     ]
    }
   ],
   "source": [
    "pred_counts = 0\n",
    "for i in range(0, len(y)):\n",
    "  if y_pred[i]!= y[i]:\n",
    "    pred_counts += 1\n",
    "print(\"Total number of incorrect predictions:\", pred_counts)\n",
    "print(\"Accuracy of the MNB model in Predicting Disease: \", ((len(y)-pred_counts)/len(y))*100, '%')"
   ]
  },
  {
   "cell_type": "markdown",
   "metadata": {},
   "source": [
    "Extra Tree Classifier"
   ]
  },
  {
   "cell_type": "code",
   "execution_count": 25,
   "metadata": {},
   "outputs": [],
   "source": [
    "ext = ExtraTreesClassifier(n_estimators=100, random_state=0)\n",
    "ext = ext.fit(X, y)\n",
    "y_pred = ext.predict(X)"
   ]
  },
  {
   "cell_type": "code",
   "execution_count": 26,
   "metadata": {},
   "outputs": [
    {
     "name": "stdout",
     "output_type": "stream",
     "text": [
      "Total number of incorrect predictions: 14\n",
      "Accuracy of the ExtraTree model in Predicting Disease:  90.54054054054053 %\n"
     ]
    }
   ],
   "source": [
    "pred_counts = 0\n",
    "for i in range(0, len(y)):\n",
    "  if y_pred[i]!= y[i]:\n",
    "    pred_counts += 1\n",
    "print(\"Total number of incorrect predictions:\", pred_counts)\n",
    "print(\"Accuracy of the ExtraTree model in Predicting Disease: \", ((len(y)-pred_counts)/len(y))*100, '%')"
   ]
  },
  {
   "cell_type": "markdown",
   "metadata": {
    "colab_type": "text",
    "id": "ukm3M7cDrmuU"
   },
   "source": [
    "Decision tree classifier"
   ]
  },
  {
   "cell_type": "code",
   "execution_count": 27,
   "metadata": {
    "colab": {
     "base_uri": "https://localhost:8080/",
     "height": 119
    },
    "colab_type": "code",
    "id": "-0-PQ4qarhf9",
    "outputId": "874e0625-3b71-417a-8488-554c23a763d2"
   },
   "outputs": [
    {
     "name": "stdout",
     "output_type": "stream",
     "text": [
      "Accuracy of the DTree classifier model in Predicting Disease:  17.56756756756757 %\n",
      "Accuracy of the DTree classifier model in Predicting Disease:  48.64864864864865 %\n",
      "Accuracy of the DTree classifier model in Predicting Disease:  87.16216216216216 %\n",
      "Accuracy of the DTree classifier model in Predicting Disease:  90.54054054054053 %\n",
      "Accuracy of the DTree classifier model in Predicting Disease:  90.54054054054053 %\n",
      "Accuracy of the DTree classifier model in Predicting Disease:  90.54054054054053 %\n"
     ]
    }
   ],
   "source": [
    "for i in range(10, 111, 20):\n",
    "  dtc = DecisionTreeClassifier(max_depth=i)\n",
    "  dtc.fit(X,y)\n",
    "  y_pred = dtc.predict(X)\n",
    "  print(\"Accuracy of the DTree classifier model in Predicting Disease: \", accuracy_score(y, y_pred)*100, '%')"
   ]
  },
  {
   "cell_type": "markdown",
   "metadata": {
    "colab_type": "text",
    "id": "PkqXgexsurr7"
   },
   "source": [
    "Support Vector Machine"
   ]
  },
  {
   "cell_type": "code",
   "execution_count": 28,
   "metadata": {
    "colab": {
     "base_uri": "https://localhost:8080/",
     "height": 34
    },
    "colab_type": "code",
    "id": "yPTHZLVWuu9s",
    "outputId": "8cc8e53a-b3ca-4fe6-9964-67e543a3bb78"
   },
   "outputs": [
    {
     "name": "stdout",
     "output_type": "stream",
     "text": [
      "Accuracy of the SVM model in Predicting Disease:  90.54054054054053 %\n"
     ]
    }
   ],
   "source": [
    "svm = svm.SVC()\n",
    "svm = svm.fit(X,y)\n",
    "y_pred = svm.predict(X)\n",
    "print(\"Accuracy of the SVM model in Predicting Disease: \", accuracy_score(y, y_pred)*100, '%')"
   ]
  },
  {
   "cell_type": "markdown",
   "metadata": {
    "colab_type": "text",
    "id": "MCrt1zKfrwXA"
   },
   "source": [
    "### Disease prediction using method 1"
   ]
  },
  {
   "cell_type": "code",
   "execution_count": 29,
   "metadata": {
    "colab": {},
    "colab_type": "code",
    "id": "jCiZK5zNr30A"
   },
   "outputs": [],
   "source": [
    "importances = dtc.feature_importances_\n",
    "indices = np.argsort(importances)[::-1]\n",
    "\n",
    "features = cols"
   ]
  },
  {
   "cell_type": "code",
   "execution_count": 30,
   "metadata": {
    "colab": {},
    "colab_type": "code",
    "id": "t7lJo-iCsB5I"
   },
   "outputs": [],
   "source": [
    "feature_dict = {}\n",
    "for i,f in enumerate(features):\n",
    "    feature_dict[f] = i"
   ]
  },
  {
   "cell_type": "markdown",
   "metadata": {
    "colab_type": "text",
    "id": "LhUdlELLw9A1"
   },
   "source": [
    "Prediction using one symptom"
   ]
  },
  {
   "cell_type": "code",
   "execution_count": 31,
   "metadata": {
    "colab": {
     "base_uri": "https://localhost:8080/",
     "height": 34
    },
    "colab_type": "code",
    "id": "3UreqS7DsHS0",
    "outputId": "158c973f-2e77-4317-e2fd-e192310cac82"
   },
   "outputs": [
    {
     "name": "stdout",
     "output_type": "stream",
     "text": [
      "445\n"
     ]
    }
   ],
   "source": [
    "feature_dict['shortness of breath']\n",
    "symptomDR = [i/332 if i == 332 else i*0 for i in range(len(features))]\n",
    "print(len(symptomDR))\n",
    "symptomDR = np.array(symptomDR).reshape(1,len(symptomDR))"
   ]
  },
  {
   "cell_type": "code",
   "execution_count": 32,
   "metadata": {
    "colab": {
     "base_uri": "https://localhost:8080/",
     "height": 34
    },
    "colab_type": "code",
    "id": "50ofW5fIsrFd",
    "outputId": "cc5b3681-44be-4470-d44d-29b65f37cd7d"
   },
   "outputs": [
    {
     "data": {
      "text/plain": [
       "array(['kidney  disease'], dtype=object)"
      ]
     },
     "execution_count": 32,
     "metadata": {},
     "output_type": "execute_result"
    }
   ],
   "source": [
    "dtc.predict(symptomDR)"
   ]
  },
  {
   "cell_type": "code",
   "execution_count": 33,
   "metadata": {
    "colab": {
     "base_uri": "https://localhost:8080/",
     "height": 34
    },
    "colab_type": "code",
    "id": "EBA7jwj6srKx",
    "outputId": "649495f9-0ad3-4074-d603-1b8ed1a8e92b"
   },
   "outputs": [
    {
     "data": {
      "text/plain": [
       "array(['decubitus  ulcer'], dtype=object)"
      ]
     },
     "execution_count": 33,
     "metadata": {},
     "output_type": "execute_result"
    }
   ],
   "source": [
    "ext.predict(symptomDR)"
   ]
  },
  {
   "cell_type": "code",
   "execution_count": 34,
   "metadata": {
    "colab": {
     "base_uri": "https://localhost:8080/",
     "height": 34
    },
    "colab_type": "code",
    "id": "VyCGfUGJs3u1",
    "outputId": "e110bbb3-037f-4659-9667-226f9c0af230"
   },
   "outputs": [
    {
     "data": {
      "text/plain": [
       "array(['hyperglycemia'], dtype='<U37')"
      ]
     },
     "execution_count": 34,
     "metadata": {},
     "output_type": "execute_result"
    }
   ],
   "source": [
    "mnb.predict(symptomDR)"
   ]
  },
  {
   "cell_type": "code",
   "execution_count": 35,
   "metadata": {
    "colab": {
     "base_uri": "https://localhost:8080/",
     "height": 34
    },
    "colab_type": "code",
    "id": "jf6QhjJkvFSi",
    "outputId": "3e695cfe-e56e-4bf2-83de-5930c439721a"
   },
   "outputs": [
    {
     "data": {
      "text/plain": [
       "array(['decubitus  ulcer'], dtype=object)"
      ]
     },
     "execution_count": 35,
     "metadata": {},
     "output_type": "execute_result"
    }
   ],
   "source": [
    "svm.predict(symptomDR)"
   ]
  },
  {
   "cell_type": "markdown",
   "metadata": {
    "colab_type": "text",
    "id": "OeCfeuc0tjpX"
   },
   "source": [
    "Prediction using two symptoms"
   ]
  },
  {
   "cell_type": "code",
   "execution_count": 36,
   "metadata": {
    "colab": {},
    "colab_type": "code",
    "id": "oQXg5ajftpBz"
   },
   "outputs": [],
   "source": [
    "input_features = [feature_dict['pain chest'], feature_dict['shortness of breath']]\n",
    "input_features\n",
    "arr =[]\n",
    "for i in range(len(features)):\n",
    "  if i == input_features[0]:\n",
    "    i = int(i/input_features[0])\n",
    "  elif i == input_features[1]:\n",
    "    i = int(i/input_features[1])\n",
    "  else:\n",
    "    i = 0\n",
    "  arr.append(i)\n",
    "arr = np.array(arr).reshape(-1,len(arr))"
   ]
  },
  {
   "cell_type": "code",
   "execution_count": 37,
   "metadata": {
    "colab": {
     "base_uri": "https://localhost:8080/",
     "height": 34
    },
    "colab_type": "code",
    "id": "IJ0gd1oEtxus",
    "outputId": "f35d2932-bd0c-40a8-bf4f-68cb4c111234"
   },
   "outputs": [
    {
     "data": {
      "text/plain": [
       "array(['kidney  disease'], dtype=object)"
      ]
     },
     "execution_count": 37,
     "metadata": {},
     "output_type": "execute_result"
    }
   ],
   "source": [
    "dtc.predict(arr)"
   ]
  },
  {
   "cell_type": "code",
   "execution_count": 38,
   "metadata": {
    "colab": {
     "base_uri": "https://localhost:8080/",
     "height": 34
    },
    "colab_type": "code",
    "id": "yTT2JRZKtxnH",
    "outputId": "bec38358-68a1-4f63-acfd-728168e304f5"
   },
   "outputs": [
    {
     "data": {
      "text/plain": [
       "array(['kidney  disease'], dtype=object)"
      ]
     },
     "execution_count": 38,
     "metadata": {},
     "output_type": "execute_result"
    }
   ],
   "source": [
    "ext.predict(arr)"
   ]
  },
  {
   "cell_type": "code",
   "execution_count": 39,
   "metadata": {
    "colab": {
     "base_uri": "https://localhost:8080/",
     "height": 34
    },
    "colab_type": "code",
    "id": "3xLooGDbtxap",
    "outputId": "36160cde-25d0-4f5d-8b9b-4f7f85106622"
   },
   "outputs": [
    {
     "data": {
      "text/plain": [
       "array(['kidney  disease'], dtype='<U37')"
      ]
     },
     "execution_count": 39,
     "metadata": {},
     "output_type": "execute_result"
    }
   ],
   "source": [
    "mnb.predict(arr)"
   ]
  },
  {
   "cell_type": "code",
   "execution_count": 40,
   "metadata": {
    "colab": {
     "base_uri": "https://localhost:8080/",
     "height": 34
    },
    "colab_type": "code",
    "id": "0gNNiv4FvPU1",
    "outputId": "ce66b333-930f-4312-dc89-71fcd841f6e2"
   },
   "outputs": [
    {
     "data": {
      "text/plain": [
       "array(['kidney  disease'], dtype=object)"
      ]
     },
     "execution_count": 40,
     "metadata": {},
     "output_type": "execute_result"
    }
   ],
   "source": [
    "svm.predict(arr)"
   ]
  },
  {
   "cell_type": "markdown",
   "metadata": {
    "colab_type": "text",
    "id": "ZXaNOxazt-Ym"
   },
   "source": [
    "Prediction using three features"
   ]
  },
  {
   "cell_type": "code",
   "execution_count": 41,
   "metadata": {
    "colab": {},
    "colab_type": "code",
    "id": "zQG-TO9tuURU"
   },
   "outputs": [],
   "source": [
    "input_features = [feature_dict['pain chest'], feature_dict['shortness of breath'],  feature_dict['asthenia']]\n",
    "input_features\n",
    "arr =[]\n",
    "for i in range(len(features)):\n",
    "  if i == input_features[0]:\n",
    "    i = int(i/input_features[0])\n",
    "  elif i == input_features[1]:\n",
    "    i = int(i/input_features[1])\n",
    "  elif i == input_features[2]:\n",
    "    i = int(i/input_features[2])\n",
    "  else:\n",
    "    i = 0\n",
    "  arr.append(i)\n",
    "arr = np.array(arr).reshape(-1,len(arr))"
   ]
  },
  {
   "cell_type": "code",
   "execution_count": 42,
   "metadata": {
    "colab": {
     "base_uri": "https://localhost:8080/",
     "height": 34
    },
    "colab_type": "code",
    "id": "_xi2iJEBu1xg",
    "outputId": "783d5302-0a0f-468e-f229-f8b14fecf3a1"
   },
   "outputs": [
    {
     "data": {
      "text/plain": [
       "array(['kidney  disease'], dtype=object)"
      ]
     },
     "execution_count": 42,
     "metadata": {},
     "output_type": "execute_result"
    }
   ],
   "source": [
    "dtc.predict(arr)"
   ]
  },
  {
   "cell_type": "code",
   "execution_count": 43,
   "metadata": {
    "colab": {
     "base_uri": "https://localhost:8080/",
     "height": 34
    },
    "colab_type": "code",
    "id": "8yJ9OwxZu999",
    "outputId": "666a7d36-10cd-42a1-d25b-692e35bf51de"
   },
   "outputs": [
    {
     "data": {
      "text/plain": [
       "array(['kidney  disease'], dtype=object)"
      ]
     },
     "execution_count": 43,
     "metadata": {},
     "output_type": "execute_result"
    }
   ],
   "source": [
    "ext.predict(arr)"
   ]
  },
  {
   "cell_type": "code",
   "execution_count": 44,
   "metadata": {
    "colab": {
     "base_uri": "https://localhost:8080/",
     "height": 34
    },
    "colab_type": "code",
    "id": "WubWuLRuvBGz",
    "outputId": "0b5efede-43c9-40ab-e315-fd5fe21039eb"
   },
   "outputs": [
    {
     "data": {
      "text/plain": [
       "array(['hyperglycemia'], dtype='<U37')"
      ]
     },
     "execution_count": 44,
     "metadata": {},
     "output_type": "execute_result"
    }
   ],
   "source": [
    "mnb.predict(symptomDR)"
   ]
  },
  {
   "cell_type": "code",
   "execution_count": 45,
   "metadata": {
    "colab": {
     "base_uri": "https://localhost:8080/",
     "height": 34
    },
    "colab_type": "code",
    "id": "mgSOIsjnvZpc",
    "outputId": "e524a9b4-4cf2-4d42-dd37-1123ad6fc523"
   },
   "outputs": [
    {
     "data": {
      "text/plain": [
       "array(['decubitus  ulcer'], dtype=object)"
      ]
     },
     "execution_count": 45,
     "metadata": {},
     "output_type": "execute_result"
    }
   ],
   "source": [
    "svm.predict(symptomDR)"
   ]
  },
  {
   "cell_type": "code",
   "execution_count": 46,
   "metadata": {},
   "outputs": [
    {
     "data": {
      "text/html": [
       "<div>\n",
       "<style scoped>\n",
       "    .dataframe tbody tr th:only-of-type {\n",
       "        vertical-align: middle;\n",
       "    }\n",
       "\n",
       "    .dataframe tbody tr th {\n",
       "        vertical-align: top;\n",
       "    }\n",
       "\n",
       "    .dataframe thead th {\n",
       "        text-align: right;\n",
       "    }\n",
       "</style>\n",
       "<table border=\"1\" class=\"dataframe\">\n",
       "  <thead>\n",
       "    <tr style=\"text-align: right;\">\n",
       "      <th></th>\n",
       "      <th>Disease</th>\n",
       "      <th>Symptoms</th>\n",
       "      <th>Count</th>\n",
       "    </tr>\n",
       "  </thead>\n",
       "  <tbody>\n",
       "    <tr>\n",
       "      <th>0</th>\n",
       "      <td>hypertensive  disease</td>\n",
       "      <td>pain  chest</td>\n",
       "      <td>3363.0</td>\n",
       "    </tr>\n",
       "    <tr>\n",
       "      <th>1</th>\n",
       "      <td>hypertensive  disease</td>\n",
       "      <td>shortness  of breath</td>\n",
       "      <td>3363.0</td>\n",
       "    </tr>\n",
       "    <tr>\n",
       "      <th>2</th>\n",
       "      <td>hypertensive  disease</td>\n",
       "      <td>dizziness</td>\n",
       "      <td>3363.0</td>\n",
       "    </tr>\n",
       "    <tr>\n",
       "      <th>3</th>\n",
       "      <td>hypertensive  disease</td>\n",
       "      <td>asthenia</td>\n",
       "      <td>3363.0</td>\n",
       "    </tr>\n",
       "    <tr>\n",
       "      <th>4</th>\n",
       "      <td>hypertensive  disease</td>\n",
       "      <td>fall</td>\n",
       "      <td>3363.0</td>\n",
       "    </tr>\n",
       "  </tbody>\n",
       "</table>\n",
       "</div>"
      ],
      "text/plain": [
       "                 Disease              Symptoms   Count\n",
       "0  hypertensive  disease           pain  chest  3363.0\n",
       "1  hypertensive  disease  shortness  of breath  3363.0\n",
       "2  hypertensive  disease             dizziness  3363.0\n",
       "3  hypertensive  disease              asthenia  3363.0\n",
       "4  hypertensive  disease                  fall  3363.0"
      ]
     },
     "execution_count": 46,
     "metadata": {},
     "output_type": "execute_result"
    }
   ],
   "source": [
    "data_clean.head()"
   ]
  },
  {
   "cell_type": "markdown",
   "metadata": {},
   "source": [
    "METHOD 2"
   ]
  },
  {
   "cell_type": "code",
   "execution_count": 47,
   "metadata": {},
   "outputs": [],
   "source": [
    "df = pd.DataFrame(data_clean)"
   ]
  },
  {
   "cell_type": "code",
   "execution_count": 48,
   "metadata": {},
   "outputs": [],
   "source": [
    "df_s = data_clean['Disease']"
   ]
  },
  {
   "cell_type": "code",
   "execution_count": 49,
   "metadata": {},
   "outputs": [],
   "source": [
    "df_1 = pd.get_dummies(df.Symptoms)"
   ]
  },
  {
   "cell_type": "code",
   "execution_count": 50,
   "metadata": {},
   "outputs": [],
   "source": [
    "df_pivoted = pd.concat([df_s,df_1], axis=1)"
   ]
  },
  {
   "cell_type": "code",
   "execution_count": 51,
   "metadata": {},
   "outputs": [],
   "source": [
    "df_pivoted.drop_duplicates(keep='first',inplace=True)"
   ]
  },
  {
   "cell_type": "code",
   "execution_count": 52,
   "metadata": {},
   "outputs": [
    {
     "data": {
      "text/html": [
       "<div>\n",
       "<style scoped>\n",
       "    .dataframe tbody tr th:only-of-type {\n",
       "        vertical-align: middle;\n",
       "    }\n",
       "\n",
       "    .dataframe tbody tr th {\n",
       "        vertical-align: top;\n",
       "    }\n",
       "\n",
       "    .dataframe thead th {\n",
       "        text-align: right;\n",
       "    }\n",
       "</style>\n",
       "<table border=\"1\" class=\"dataframe\">\n",
       "  <thead>\n",
       "    <tr style=\"text-align: right;\">\n",
       "      <th></th>\n",
       "      <th>Disease</th>\n",
       "      <th>Heberden's node</th>\n",
       "      <th>Murphy's sign</th>\n",
       "      <th>Stahli's line</th>\n",
       "      <th>abdomen acute</th>\n",
       "      <th>abdominal bloating</th>\n",
       "      <th>abdominal tenderness</th>\n",
       "      <th>abnormal sensation</th>\n",
       "      <th>abnormally  hard consistency</th>\n",
       "      <th>abnormally hard consistency</th>\n",
       "      <th>...</th>\n",
       "      <th>vomiting</th>\n",
       "      <th>weepiness</th>\n",
       "      <th>weight gain</th>\n",
       "      <th>welt</th>\n",
       "      <th>wheelchair bound</th>\n",
       "      <th>wheezing</th>\n",
       "      <th>withdraw</th>\n",
       "      <th>worry</th>\n",
       "      <th>yellow  sputum</th>\n",
       "      <th>yellow sputum</th>\n",
       "    </tr>\n",
       "  </thead>\n",
       "  <tbody>\n",
       "    <tr>\n",
       "      <th>0</th>\n",
       "      <td>hypertensive  disease</td>\n",
       "      <td>0</td>\n",
       "      <td>0</td>\n",
       "      <td>0</td>\n",
       "      <td>0</td>\n",
       "      <td>0</td>\n",
       "      <td>0</td>\n",
       "      <td>0</td>\n",
       "      <td>0</td>\n",
       "      <td>0</td>\n",
       "      <td>...</td>\n",
       "      <td>0</td>\n",
       "      <td>0</td>\n",
       "      <td>0</td>\n",
       "      <td>0</td>\n",
       "      <td>0</td>\n",
       "      <td>0</td>\n",
       "      <td>0</td>\n",
       "      <td>0</td>\n",
       "      <td>0</td>\n",
       "      <td>0</td>\n",
       "    </tr>\n",
       "    <tr>\n",
       "      <th>1</th>\n",
       "      <td>hypertensive  disease</td>\n",
       "      <td>0</td>\n",
       "      <td>0</td>\n",
       "      <td>0</td>\n",
       "      <td>0</td>\n",
       "      <td>0</td>\n",
       "      <td>0</td>\n",
       "      <td>0</td>\n",
       "      <td>0</td>\n",
       "      <td>0</td>\n",
       "      <td>...</td>\n",
       "      <td>0</td>\n",
       "      <td>0</td>\n",
       "      <td>0</td>\n",
       "      <td>0</td>\n",
       "      <td>0</td>\n",
       "      <td>0</td>\n",
       "      <td>0</td>\n",
       "      <td>0</td>\n",
       "      <td>0</td>\n",
       "      <td>0</td>\n",
       "    </tr>\n",
       "    <tr>\n",
       "      <th>2</th>\n",
       "      <td>hypertensive  disease</td>\n",
       "      <td>0</td>\n",
       "      <td>0</td>\n",
       "      <td>0</td>\n",
       "      <td>0</td>\n",
       "      <td>0</td>\n",
       "      <td>0</td>\n",
       "      <td>0</td>\n",
       "      <td>0</td>\n",
       "      <td>0</td>\n",
       "      <td>...</td>\n",
       "      <td>0</td>\n",
       "      <td>0</td>\n",
       "      <td>0</td>\n",
       "      <td>0</td>\n",
       "      <td>0</td>\n",
       "      <td>0</td>\n",
       "      <td>0</td>\n",
       "      <td>0</td>\n",
       "      <td>0</td>\n",
       "      <td>0</td>\n",
       "    </tr>\n",
       "    <tr>\n",
       "      <th>3</th>\n",
       "      <td>hypertensive  disease</td>\n",
       "      <td>0</td>\n",
       "      <td>0</td>\n",
       "      <td>0</td>\n",
       "      <td>0</td>\n",
       "      <td>0</td>\n",
       "      <td>0</td>\n",
       "      <td>0</td>\n",
       "      <td>0</td>\n",
       "      <td>0</td>\n",
       "      <td>...</td>\n",
       "      <td>0</td>\n",
       "      <td>0</td>\n",
       "      <td>0</td>\n",
       "      <td>0</td>\n",
       "      <td>0</td>\n",
       "      <td>0</td>\n",
       "      <td>0</td>\n",
       "      <td>0</td>\n",
       "      <td>0</td>\n",
       "      <td>0</td>\n",
       "    </tr>\n",
       "    <tr>\n",
       "      <th>4</th>\n",
       "      <td>hypertensive  disease</td>\n",
       "      <td>0</td>\n",
       "      <td>0</td>\n",
       "      <td>0</td>\n",
       "      <td>0</td>\n",
       "      <td>0</td>\n",
       "      <td>0</td>\n",
       "      <td>0</td>\n",
       "      <td>0</td>\n",
       "      <td>0</td>\n",
       "      <td>...</td>\n",
       "      <td>0</td>\n",
       "      <td>0</td>\n",
       "      <td>0</td>\n",
       "      <td>0</td>\n",
       "      <td>0</td>\n",
       "      <td>0</td>\n",
       "      <td>0</td>\n",
       "      <td>0</td>\n",
       "      <td>0</td>\n",
       "      <td>0</td>\n",
       "    </tr>\n",
       "  </tbody>\n",
       "</table>\n",
       "<p>5 rows × 446 columns</p>\n",
       "</div>"
      ],
      "text/plain": [
       "                 Disease  Heberden's node  Murphy's sign  Stahli's line  \\\n",
       "0  hypertensive  disease                0              0              0   \n",
       "1  hypertensive  disease                0              0              0   \n",
       "2  hypertensive  disease                0              0              0   \n",
       "3  hypertensive  disease                0              0              0   \n",
       "4  hypertensive  disease                0              0              0   \n",
       "\n",
       "   abdomen acute  abdominal bloating  abdominal tenderness  \\\n",
       "0              0                   0                     0   \n",
       "1              0                   0                     0   \n",
       "2              0                   0                     0   \n",
       "3              0                   0                     0   \n",
       "4              0                   0                     0   \n",
       "\n",
       "   abnormal sensation  abnormally  hard consistency  \\\n",
       "0                   0                             0   \n",
       "1                   0                             0   \n",
       "2                   0                             0   \n",
       "3                   0                             0   \n",
       "4                   0                             0   \n",
       "\n",
       "   abnormally hard consistency  ...  vomiting  weepiness  weight gain  welt  \\\n",
       "0                            0  ...         0          0            0     0   \n",
       "1                            0  ...         0          0            0     0   \n",
       "2                            0  ...         0          0            0     0   \n",
       "3                            0  ...         0          0            0     0   \n",
       "4                            0  ...         0          0            0     0   \n",
       "\n",
       "   wheelchair bound  wheezing  withdraw  worry  yellow  sputum  yellow sputum  \n",
       "0                 0         0         0      0               0              0  \n",
       "1                 0         0         0      0               0              0  \n",
       "2                 0         0         0      0               0              0  \n",
       "3                 0         0         0      0               0              0  \n",
       "4                 0         0         0      0               0              0  \n",
       "\n",
       "[5 rows x 446 columns]"
      ]
     },
     "execution_count": 52,
     "metadata": {},
     "output_type": "execute_result"
    }
   ],
   "source": [
    "df_pivoted[:5]"
   ]
  },
  {
   "cell_type": "code",
   "execution_count": 53,
   "metadata": {},
   "outputs": [],
   "source": [
    "cols = df_pivoted.columns"
   ]
  },
  {
   "cell_type": "code",
   "execution_count": 54,
   "metadata": {},
   "outputs": [],
   "source": [
    "cols = cols[1:]"
   ]
  },
  {
   "cell_type": "code",
   "execution_count": 55,
   "metadata": {},
   "outputs": [
    {
     "name": "stdout",
     "output_type": "stream",
     "text": [
      "[28 25 24 23 22 21 20 19 18 17 16 15 14 13 12 11 10  9  8  7  6  3]\n"
     ]
    }
   ],
   "source": [
    "print(df_pivoted['Disease'].value_counts().unique())"
   ]
  },
  {
   "cell_type": "code",
   "execution_count": 56,
   "metadata": {},
   "outputs": [],
   "source": [
    "df_pivoted_1 = df_pivoted.groupby('Disease').head(3)\n",
    "df_pivoted_2 = df_pivoted.groupby('Disease').head(5)\n",
    "df_pivoted_3 = df_pivoted.groupby('Disease').head(7)\n",
    "df_pivoted_4 = df_pivoted.groupby('Disease').head(10)\n",
    "df_pivoted_5 = df_pivoted.groupby('Disease').head(12)\n",
    "df_pivoted_6 = df_pivoted.groupby('Disease').head(15)\n",
    "df_pivoted_7 = df_pivoted.groupby('Disease').head(17)\n",
    "df_pivoted_8 = df_pivoted.groupby('Disease').head(20)\n",
    "df_pivoted_9 = df_pivoted.groupby('Disease').head(24)\n",
    "df_pivoted_10 = df_pivoted.groupby('Disease').head(28)"
   ]
  },
  {
   "cell_type": "code",
   "execution_count": 57,
   "metadata": {},
   "outputs": [],
   "source": [
    "df_pivoted_1 = df_pivoted_1.groupby('Disease').sum().reset_index()\n",
    "df_pivoted_2 = df_pivoted_2.groupby('Disease').sum().reset_index()\n",
    "df_pivoted_3 = df_pivoted_3.groupby('Disease').sum().reset_index()\n",
    "df_pivoted_4 = df_pivoted_4.groupby('Disease').sum().reset_index()\n",
    "df_pivoted_5 = df_pivoted_5.groupby('Disease').sum().reset_index()\n",
    "df_pivoted_6 = df_pivoted_6.groupby('Disease').sum().reset_index()\n",
    "df_pivoted_7 = df_pivoted_7.groupby('Disease').sum().reset_index()\n",
    "df_pivoted_8 = df_pivoted_8.groupby('Disease').sum().reset_index()\n",
    "df_pivoted_9 = df_pivoted_9.groupby('Disease').sum().reset_index()\n",
    "df_pivoted_10 = df_pivoted_10.groupby('Disease').sum().reset_index()"
   ]
  },
  {
   "cell_type": "code",
   "execution_count": 58,
   "metadata": {},
   "outputs": [],
   "source": [
    "symptom_data = pd.concat([df_pivoted_1,df_pivoted_2,df_pivoted_3,df_pivoted_4,df_pivoted_5,\n",
    "                      df_pivoted_6,df_pivoted_7,df_pivoted_8, df_pivoted_9, df_pivoted_10], axis=0, sort=True)"
   ]
  },
  {
   "cell_type": "code",
   "execution_count": 59,
   "metadata": {},
   "outputs": [
    {
     "name": "stdout",
     "output_type": "stream",
     "text": [
      "primary  carcinoma of the liver cells    10\n",
      "colitis                                  10\n",
      "bipolar  disorder                        10\n",
      "hypercholesterolemia                     10\n",
      "oral  candidiasis                        10\n",
      "                                         ..\n",
      "glaucoma                                 10\n",
      "cellulitis                               10\n",
      "diverticulosis                           10\n",
      "kidney  disease                          10\n",
      "gastritis                                10\n",
      "Name: Disease, Length: 148, dtype: int64\n"
     ]
    }
   ],
   "source": [
    "print(symptom_data['Disease'].value_counts())"
   ]
  },
  {
   "cell_type": "code",
   "execution_count": 60,
   "metadata": {},
   "outputs": [],
   "source": [
    "symptom_data = symptom_data.sort_values(by=['Disease'], ignore_index=True)"
   ]
  },
  {
   "cell_type": "code",
   "execution_count": 61,
   "metadata": {},
   "outputs": [],
   "source": [
    "symptom_data = pd.concat([symptom_data]*20, ignore_index=True)"
   ]
  },
  {
   "cell_type": "code",
   "execution_count": 62,
   "metadata": {},
   "outputs": [],
   "source": [
    "symptom_data = symptom_data.to_csv(\"symptoms_data.csv\", index=False)\n",
    "symptom_data = pd.read_csv(\"symptoms_data.csv\")"
   ]
  },
  {
   "cell_type": "code",
   "execution_count": 63,
   "metadata": {},
   "outputs": [
    {
     "data": {
      "text/html": [
       "<div>\n",
       "<style scoped>\n",
       "    .dataframe tbody tr th:only-of-type {\n",
       "        vertical-align: middle;\n",
       "    }\n",
       "\n",
       "    .dataframe tbody tr th {\n",
       "        vertical-align: top;\n",
       "    }\n",
       "\n",
       "    .dataframe thead th {\n",
       "        text-align: right;\n",
       "    }\n",
       "</style>\n",
       "<table border=\"1\" class=\"dataframe\">\n",
       "  <thead>\n",
       "    <tr style=\"text-align: right;\">\n",
       "      <th></th>\n",
       "      <th>Disease</th>\n",
       "      <th>Heberden's node</th>\n",
       "      <th>Murphy's sign</th>\n",
       "      <th>Stahli's line</th>\n",
       "      <th>abdomen acute</th>\n",
       "      <th>abdominal bloating</th>\n",
       "      <th>abdominal tenderness</th>\n",
       "      <th>abnormal sensation</th>\n",
       "      <th>abnormally  hard consistency</th>\n",
       "      <th>abnormally hard consistency</th>\n",
       "      <th>...</th>\n",
       "      <th>vomiting</th>\n",
       "      <th>weepiness</th>\n",
       "      <th>weight gain</th>\n",
       "      <th>welt</th>\n",
       "      <th>wheelchair bound</th>\n",
       "      <th>wheezing</th>\n",
       "      <th>withdraw</th>\n",
       "      <th>worry</th>\n",
       "      <th>yellow  sputum</th>\n",
       "      <th>yellow sputum</th>\n",
       "    </tr>\n",
       "  </thead>\n",
       "  <tbody>\n",
       "    <tr>\n",
       "      <th>0</th>\n",
       "      <td>Alzheimer's  disease</td>\n",
       "      <td>0</td>\n",
       "      <td>0</td>\n",
       "      <td>0</td>\n",
       "      <td>0</td>\n",
       "      <td>0</td>\n",
       "      <td>0</td>\n",
       "      <td>0</td>\n",
       "      <td>0</td>\n",
       "      <td>0</td>\n",
       "      <td>...</td>\n",
       "      <td>0</td>\n",
       "      <td>0</td>\n",
       "      <td>0</td>\n",
       "      <td>0</td>\n",
       "      <td>0</td>\n",
       "      <td>0</td>\n",
       "      <td>0</td>\n",
       "      <td>0</td>\n",
       "      <td>0</td>\n",
       "      <td>0</td>\n",
       "    </tr>\n",
       "    <tr>\n",
       "      <th>1</th>\n",
       "      <td>Alzheimer's  disease</td>\n",
       "      <td>0</td>\n",
       "      <td>0</td>\n",
       "      <td>0</td>\n",
       "      <td>0</td>\n",
       "      <td>0</td>\n",
       "      <td>0</td>\n",
       "      <td>0</td>\n",
       "      <td>0</td>\n",
       "      <td>0</td>\n",
       "      <td>...</td>\n",
       "      <td>0</td>\n",
       "      <td>0</td>\n",
       "      <td>0</td>\n",
       "      <td>0</td>\n",
       "      <td>0</td>\n",
       "      <td>0</td>\n",
       "      <td>0</td>\n",
       "      <td>0</td>\n",
       "      <td>0</td>\n",
       "      <td>0</td>\n",
       "    </tr>\n",
       "    <tr>\n",
       "      <th>2</th>\n",
       "      <td>Alzheimer's  disease</td>\n",
       "      <td>0</td>\n",
       "      <td>0</td>\n",
       "      <td>0</td>\n",
       "      <td>0</td>\n",
       "      <td>0</td>\n",
       "      <td>0</td>\n",
       "      <td>0</td>\n",
       "      <td>0</td>\n",
       "      <td>0</td>\n",
       "      <td>...</td>\n",
       "      <td>0</td>\n",
       "      <td>0</td>\n",
       "      <td>0</td>\n",
       "      <td>0</td>\n",
       "      <td>0</td>\n",
       "      <td>0</td>\n",
       "      <td>0</td>\n",
       "      <td>0</td>\n",
       "      <td>0</td>\n",
       "      <td>0</td>\n",
       "    </tr>\n",
       "    <tr>\n",
       "      <th>3</th>\n",
       "      <td>Alzheimer's  disease</td>\n",
       "      <td>0</td>\n",
       "      <td>0</td>\n",
       "      <td>0</td>\n",
       "      <td>0</td>\n",
       "      <td>0</td>\n",
       "      <td>0</td>\n",
       "      <td>0</td>\n",
       "      <td>0</td>\n",
       "      <td>0</td>\n",
       "      <td>...</td>\n",
       "      <td>0</td>\n",
       "      <td>0</td>\n",
       "      <td>0</td>\n",
       "      <td>0</td>\n",
       "      <td>1</td>\n",
       "      <td>0</td>\n",
       "      <td>0</td>\n",
       "      <td>0</td>\n",
       "      <td>0</td>\n",
       "      <td>0</td>\n",
       "    </tr>\n",
       "    <tr>\n",
       "      <th>4</th>\n",
       "      <td>Alzheimer's  disease</td>\n",
       "      <td>0</td>\n",
       "      <td>0</td>\n",
       "      <td>0</td>\n",
       "      <td>0</td>\n",
       "      <td>0</td>\n",
       "      <td>0</td>\n",
       "      <td>0</td>\n",
       "      <td>0</td>\n",
       "      <td>0</td>\n",
       "      <td>...</td>\n",
       "      <td>0</td>\n",
       "      <td>0</td>\n",
       "      <td>0</td>\n",
       "      <td>0</td>\n",
       "      <td>1</td>\n",
       "      <td>0</td>\n",
       "      <td>0</td>\n",
       "      <td>0</td>\n",
       "      <td>0</td>\n",
       "      <td>0</td>\n",
       "    </tr>\n",
       "    <tr>\n",
       "      <th>...</th>\n",
       "      <td>...</td>\n",
       "      <td>...</td>\n",
       "      <td>...</td>\n",
       "      <td>...</td>\n",
       "      <td>...</td>\n",
       "      <td>...</td>\n",
       "      <td>...</td>\n",
       "      <td>...</td>\n",
       "      <td>...</td>\n",
       "      <td>...</td>\n",
       "      <td>...</td>\n",
       "      <td>...</td>\n",
       "      <td>...</td>\n",
       "      <td>...</td>\n",
       "      <td>...</td>\n",
       "      <td>...</td>\n",
       "      <td>...</td>\n",
       "      <td>...</td>\n",
       "      <td>...</td>\n",
       "      <td>...</td>\n",
       "      <td>...</td>\n",
       "    </tr>\n",
       "    <tr>\n",
       "      <th>29595</th>\n",
       "      <td>upper  respiratory infection</td>\n",
       "      <td>0</td>\n",
       "      <td>0</td>\n",
       "      <td>0</td>\n",
       "      <td>0</td>\n",
       "      <td>0</td>\n",
       "      <td>0</td>\n",
       "      <td>0</td>\n",
       "      <td>0</td>\n",
       "      <td>0</td>\n",
       "      <td>...</td>\n",
       "      <td>0</td>\n",
       "      <td>0</td>\n",
       "      <td>0</td>\n",
       "      <td>0</td>\n",
       "      <td>0</td>\n",
       "      <td>1</td>\n",
       "      <td>0</td>\n",
       "      <td>0</td>\n",
       "      <td>0</td>\n",
       "      <td>0</td>\n",
       "    </tr>\n",
       "    <tr>\n",
       "      <th>29596</th>\n",
       "      <td>upper  respiratory infection</td>\n",
       "      <td>0</td>\n",
       "      <td>0</td>\n",
       "      <td>0</td>\n",
       "      <td>0</td>\n",
       "      <td>0</td>\n",
       "      <td>0</td>\n",
       "      <td>0</td>\n",
       "      <td>0</td>\n",
       "      <td>0</td>\n",
       "      <td>...</td>\n",
       "      <td>0</td>\n",
       "      <td>0</td>\n",
       "      <td>0</td>\n",
       "      <td>0</td>\n",
       "      <td>0</td>\n",
       "      <td>1</td>\n",
       "      <td>0</td>\n",
       "      <td>0</td>\n",
       "      <td>0</td>\n",
       "      <td>0</td>\n",
       "    </tr>\n",
       "    <tr>\n",
       "      <th>29597</th>\n",
       "      <td>upper  respiratory infection</td>\n",
       "      <td>0</td>\n",
       "      <td>0</td>\n",
       "      <td>0</td>\n",
       "      <td>0</td>\n",
       "      <td>0</td>\n",
       "      <td>0</td>\n",
       "      <td>0</td>\n",
       "      <td>0</td>\n",
       "      <td>0</td>\n",
       "      <td>...</td>\n",
       "      <td>0</td>\n",
       "      <td>0</td>\n",
       "      <td>0</td>\n",
       "      <td>0</td>\n",
       "      <td>0</td>\n",
       "      <td>1</td>\n",
       "      <td>0</td>\n",
       "      <td>0</td>\n",
       "      <td>0</td>\n",
       "      <td>0</td>\n",
       "    </tr>\n",
       "    <tr>\n",
       "      <th>29598</th>\n",
       "      <td>upper  respiratory infection</td>\n",
       "      <td>0</td>\n",
       "      <td>0</td>\n",
       "      <td>0</td>\n",
       "      <td>0</td>\n",
       "      <td>0</td>\n",
       "      <td>0</td>\n",
       "      <td>0</td>\n",
       "      <td>0</td>\n",
       "      <td>0</td>\n",
       "      <td>...</td>\n",
       "      <td>0</td>\n",
       "      <td>0</td>\n",
       "      <td>0</td>\n",
       "      <td>0</td>\n",
       "      <td>0</td>\n",
       "      <td>1</td>\n",
       "      <td>0</td>\n",
       "      <td>0</td>\n",
       "      <td>0</td>\n",
       "      <td>0</td>\n",
       "    </tr>\n",
       "    <tr>\n",
       "      <th>29599</th>\n",
       "      <td>upper  respiratory infection</td>\n",
       "      <td>0</td>\n",
       "      <td>0</td>\n",
       "      <td>0</td>\n",
       "      <td>0</td>\n",
       "      <td>0</td>\n",
       "      <td>0</td>\n",
       "      <td>0</td>\n",
       "      <td>0</td>\n",
       "      <td>0</td>\n",
       "      <td>...</td>\n",
       "      <td>0</td>\n",
       "      <td>0</td>\n",
       "      <td>0</td>\n",
       "      <td>0</td>\n",
       "      <td>0</td>\n",
       "      <td>1</td>\n",
       "      <td>0</td>\n",
       "      <td>0</td>\n",
       "      <td>0</td>\n",
       "      <td>0</td>\n",
       "    </tr>\n",
       "  </tbody>\n",
       "</table>\n",
       "<p>29600 rows × 446 columns</p>\n",
       "</div>"
      ],
      "text/plain": [
       "                            Disease  Heberden's node  Murphy's sign  \\\n",
       "0              Alzheimer's  disease                0              0   \n",
       "1              Alzheimer's  disease                0              0   \n",
       "2              Alzheimer's  disease                0              0   \n",
       "3              Alzheimer's  disease                0              0   \n",
       "4              Alzheimer's  disease                0              0   \n",
       "...                             ...              ...            ...   \n",
       "29595  upper  respiratory infection                0              0   \n",
       "29596  upper  respiratory infection                0              0   \n",
       "29597  upper  respiratory infection                0              0   \n",
       "29598  upper  respiratory infection                0              0   \n",
       "29599  upper  respiratory infection                0              0   \n",
       "\n",
       "       Stahli's line  abdomen acute  abdominal bloating  abdominal tenderness  \\\n",
       "0                  0              0                   0                     0   \n",
       "1                  0              0                   0                     0   \n",
       "2                  0              0                   0                     0   \n",
       "3                  0              0                   0                     0   \n",
       "4                  0              0                   0                     0   \n",
       "...              ...            ...                 ...                   ...   \n",
       "29595              0              0                   0                     0   \n",
       "29596              0              0                   0                     0   \n",
       "29597              0              0                   0                     0   \n",
       "29598              0              0                   0                     0   \n",
       "29599              0              0                   0                     0   \n",
       "\n",
       "       abnormal sensation  abnormally  hard consistency  \\\n",
       "0                       0                             0   \n",
       "1                       0                             0   \n",
       "2                       0                             0   \n",
       "3                       0                             0   \n",
       "4                       0                             0   \n",
       "...                   ...                           ...   \n",
       "29595                   0                             0   \n",
       "29596                   0                             0   \n",
       "29597                   0                             0   \n",
       "29598                   0                             0   \n",
       "29599                   0                             0   \n",
       "\n",
       "       abnormally hard consistency  ...  vomiting  weepiness  weight gain  \\\n",
       "0                                0  ...         0          0            0   \n",
       "1                                0  ...         0          0            0   \n",
       "2                                0  ...         0          0            0   \n",
       "3                                0  ...         0          0            0   \n",
       "4                                0  ...         0          0            0   \n",
       "...                            ...  ...       ...        ...          ...   \n",
       "29595                            0  ...         0          0            0   \n",
       "29596                            0  ...         0          0            0   \n",
       "29597                            0  ...         0          0            0   \n",
       "29598                            0  ...         0          0            0   \n",
       "29599                            0  ...         0          0            0   \n",
       "\n",
       "       welt  wheelchair bound  wheezing  withdraw  worry  yellow  sputum  \\\n",
       "0         0                 0         0         0      0               0   \n",
       "1         0                 0         0         0      0               0   \n",
       "2         0                 0         0         0      0               0   \n",
       "3         0                 1         0         0      0               0   \n",
       "4         0                 1         0         0      0               0   \n",
       "...     ...               ...       ...       ...    ...             ...   \n",
       "29595     0                 0         1         0      0               0   \n",
       "29596     0                 0         1         0      0               0   \n",
       "29597     0                 0         1         0      0               0   \n",
       "29598     0                 0         1         0      0               0   \n",
       "29599     0                 0         1         0      0               0   \n",
       "\n",
       "       yellow sputum  \n",
       "0                  0  \n",
       "1                  0  \n",
       "2                  0  \n",
       "3                  0  \n",
       "4                  0  \n",
       "...              ...  \n",
       "29595              0  \n",
       "29596              0  \n",
       "29597              0  \n",
       "29598              0  \n",
       "29599              0  \n",
       "\n",
       "[29600 rows x 446 columns]"
      ]
     },
     "execution_count": 63,
     "metadata": {},
     "output_type": "execute_result"
    }
   ],
   "source": [
    "symptom_data"
   ]
  },
  {
   "cell_type": "code",
   "execution_count": 64,
   "metadata": {},
   "outputs": [],
   "source": [
    "x = symptom_data[cols]\n",
    "y = symptom_data['Disease']"
   ]
  },
  {
   "cell_type": "code",
   "execution_count": 65,
   "metadata": {},
   "outputs": [],
   "source": [
    "x_train, x_test, y_train, y_test = train_test_split(x, y, test_size=0.33, random_state=42)"
   ]
  },
  {
   "cell_type": "code",
   "execution_count": 66,
   "metadata": {},
   "outputs": [
    {
     "name": "stdout",
     "output_type": "stream",
     "text": [
      "DecisionTree\n",
      "Acurracy:  0.888001638001638\n"
     ]
    }
   ],
   "source": [
    "print (\"DecisionTree\")\n",
    "dt = DecisionTreeClassifier(max_depth=120)\n",
    "clf_dt=dt.fit(x_train,y_train)\n",
    "print (\"Acurracy: \", clf_dt.score(x_test,y_test))"
   ]
  },
  {
   "cell_type": "code",
   "execution_count": 67,
   "metadata": {},
   "outputs": [
    {
     "name": "stdout",
     "output_type": "stream",
     "text": [
      "Acurracy:  0.8822686322686323\n"
     ]
    }
   ],
   "source": [
    "mnb = MultinomialNB()\n",
    "clf_mnb=mnb.fit(x_train,y_train)\n",
    "print (\"Acurracy: \", clf_mnb.score(x_test,y_test))"
   ]
  },
  {
   "cell_type": "code",
   "execution_count": 68,
   "metadata": {},
   "outputs": [
    {
     "name": "stdout",
     "output_type": "stream",
     "text": [
      "Acurracy:  0.8384520884520884\n"
     ]
    }
   ],
   "source": [
    "from sklearn.ensemble import RandomForestClassifier\n",
    "rfc = RandomForestClassifier(max_depth=12)\n",
    "clf_rfc=rfc.fit(x_train,y_train)\n",
    "print (\"Acurracy: \", clf_rfc.score(x_test,y_test))"
   ]
  },
  {
   "cell_type": "code",
   "execution_count": 69,
   "metadata": {},
   "outputs": [
    {
     "name": "stdout",
     "output_type": "stream",
     "text": [
      "Acurracy:  0.891994266994267\n"
     ]
    }
   ],
   "source": [
    "naivebys = GaussianNB()\n",
    "clf_naivebys=naivebys.fit(x_train,y_train)\n",
    "print (\"Acurracy: \", clf_naivebys.score(x_test,y_test))"
   ]
  },
  {
   "cell_type": "code",
   "execution_count": 70,
   "metadata": {},
   "outputs": [
    {
     "name": "stdout",
     "output_type": "stream",
     "text": [
      "Acurracy:  0.8894348894348895\n"
     ]
    }
   ],
   "source": [
    "from sklearn.svm import SVC\n",
    "model = SVC()\n",
    "clf_svm=model.fit(x_train,y_train)\n",
    "print (\"Acurracy: \", clf_svm.score(x_test,y_test))"
   ]
  },
  {
   "cell_type": "code",
   "execution_count": 71,
   "metadata": {},
   "outputs": [],
   "source": [
    "%matplotlib inline\n",
    "import numpy as np\n",
    "import matplotlib.pyplot as plt\n",
    "\n",
    "importances = dt.feature_importances_\n",
    "indices = np.argsort(importances)[::-1]"
   ]
  },
  {
   "cell_type": "code",
   "execution_count": 72,
   "metadata": {},
   "outputs": [],
   "source": [
    "features = cols"
   ]
  },
  {
   "cell_type": "code",
   "execution_count": 73,
   "metadata": {},
   "outputs": [],
   "source": [
    "feature_dict = {}\n",
    "for i,f in enumerate(features):\n",
    "    feature_dict[f] = i"
   ]
  },
  {
   "cell_type": "code",
   "execution_count": 74,
   "metadata": {},
   "outputs": [
    {
     "data": {
      "text/plain": [
       "[441, 16, 177]"
      ]
     },
     "execution_count": 74,
     "metadata": {},
     "output_type": "execute_result"
    }
   ],
   "source": [
    "input_features = [feature_dict['withdraw'], feature_dict['agitation'], feature_dict['hemiplegia']]  # These symptoms are of parkinson's disease\n",
    "input_features"
   ]
  },
  {
   "cell_type": "code",
   "execution_count": 75,
   "metadata": {},
   "outputs": [],
   "source": [
    "arr =[]\n",
    "for i in range(len(features)):\n",
    "  if i == input_features[0]:\n",
    "    i = int(i/input_features[0])\n",
    "  elif i == input_features[1]:\n",
    "    i = int(i/input_features[1])\n",
    "  elif i == input_features[2]:\n",
    "    i = int(i/input_features[2])\n",
    "  else:\n",
    "    i = 0\n",
    "  arr.append(i)"
   ]
  },
  {
   "cell_type": "code",
   "execution_count": 76,
   "metadata": {},
   "outputs": [],
   "source": [
    "arr = np.array(arr).reshape(-1,len(arr))"
   ]
  },
  {
   "cell_type": "code",
   "execution_count": 77,
   "metadata": {},
   "outputs": [
    {
     "data": {
      "text/plain": [
       "array(['dementia'], dtype=object)"
      ]
     },
     "execution_count": 77,
     "metadata": {},
     "output_type": "execute_result"
    }
   ],
   "source": [
    "dt.predict(arr)"
   ]
  },
  {
   "cell_type": "code",
   "execution_count": 78,
   "metadata": {},
   "outputs": [
    {
     "data": {
      "text/plain": [
       "array(['parkinson  disease'], dtype='<U37')"
      ]
     },
     "execution_count": 78,
     "metadata": {},
     "output_type": "execute_result"
    }
   ],
   "source": [
    "mnb.predict(arr)"
   ]
  },
  {
   "cell_type": "code",
   "execution_count": 79,
   "metadata": {},
   "outputs": [
    {
     "data": {
      "text/plain": [
       "array(['acquired  immuno-deficiency  syndrome'], dtype=object)"
      ]
     },
     "execution_count": 79,
     "metadata": {},
     "output_type": "execute_result"
    }
   ],
   "source": [
    "rfc.predict(arr)"
   ]
  },
  {
   "cell_type": "code",
   "execution_count": 80,
   "metadata": {},
   "outputs": [
    {
     "data": {
      "text/plain": [
       "array(['parkinson  disease'], dtype='<U37')"
      ]
     },
     "execution_count": 80,
     "metadata": {},
     "output_type": "execute_result"
    }
   ],
   "source": [
    "naivebys.predict(arr)"
   ]
  },
  {
   "cell_type": "code",
   "execution_count": 81,
   "metadata": {},
   "outputs": [
    {
     "data": {
      "text/plain": [
       "array([\"Alzheimer's  disease\"], dtype=object)"
      ]
     },
     "execution_count": 81,
     "metadata": {},
     "output_type": "execute_result"
    }
   ],
   "source": [
    "model.predict(arr)"
   ]
  },
  {
   "cell_type": "code",
   "execution_count": null,
   "metadata": {},
   "outputs": [],
   "source": []
  }
 ],
 "metadata": {
  "colab": {
   "collapsed_sections": [
    "MCrt1zKfrwXA"
   ],
   "include_colab_link": true,
   "name": "DiseasePrediction.ipynb",
   "provenance": []
  },
  "kernelspec": {
   "display_name": "Python 3",
   "language": "python",
   "name": "python3"
  },
  "language_info": {
   "codemirror_mode": {
    "name": "ipython",
    "version": 3
   },
   "file_extension": ".py",
   "mimetype": "text/x-python",
   "name": "python",
   "nbconvert_exporter": "python",
   "pygments_lexer": "ipython3",
   "version": "3.8.5"
  }
 },
 "nbformat": 4,
 "nbformat_minor": 1
}
