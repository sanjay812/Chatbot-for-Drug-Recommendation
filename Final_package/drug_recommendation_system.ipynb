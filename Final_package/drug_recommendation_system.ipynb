{
 "cells": [
  {
   "cell_type": "markdown",
   "metadata": {
    "colab_type": "text",
    "id": "9bUJgSRVQvxp"
   },
   "source": [
    "Disease Prediction and Drug recommendation"
   ]
  },
  {
   "cell_type": "code",
   "execution_count": 18,
   "metadata": {
    "colab": {},
    "colab_type": "code",
    "id": "vbT-IeAF3gsV"
   },
   "outputs": [],
   "source": [
    "import pandas as pd \n",
    "import numpy as np\n",
    "import os\n",
    "from sklearn.model_selection import train_test_split\n",
    "from sklearn.naive_bayes import MultinomialNB"
   ]
  },
  {
   "cell_type": "markdown",
   "metadata": {
    "colab_type": "text",
    "id": "vZ8n653IJorJ"
   },
   "source": [
    "# **Disease Prediction**"
   ]
  },
  {
   "cell_type": "code",
   "execution_count": 2,
   "metadata": {
    "colab": {},
    "colab_type": "code",
    "id": "8hufg6cq4lLP"
   },
   "outputs": [],
   "source": [
    "# Reading the symptoms dataset\n",
    "sym_data = pd.read_csv(\"symptoms_data.csv\")"
   ]
  },
  {
   "cell_type": "code",
   "execution_count": 3,
   "metadata": {
    "colab": {
     "base_uri": "https://localhost:8080/",
     "height": 406
    },
    "colab_type": "code",
    "id": "mPBXTex7KOUj",
    "outputId": "1ad56527-fcaf-4240-d1f7-bb1fa2b4729b"
   },
   "outputs": [
    {
     "data": {
      "text/html": [
       "<div>\n",
       "<style scoped>\n",
       "    .dataframe tbody tr th:only-of-type {\n",
       "        vertical-align: middle;\n",
       "    }\n",
       "\n",
       "    .dataframe tbody tr th {\n",
       "        vertical-align: top;\n",
       "    }\n",
       "\n",
       "    .dataframe thead th {\n",
       "        text-align: right;\n",
       "    }\n",
       "</style>\n",
       "<table border=\"1\" class=\"dataframe\">\n",
       "  <thead>\n",
       "    <tr style=\"text-align: right;\">\n",
       "      <th></th>\n",
       "      <th>Disease</th>\n",
       "      <th>Heberden's node</th>\n",
       "      <th>Murphy's sign</th>\n",
       "      <th>Stahli's line</th>\n",
       "      <th>abdomen acute</th>\n",
       "      <th>abdominal bloating</th>\n",
       "      <th>abdominal tenderness</th>\n",
       "      <th>abnormal sensation</th>\n",
       "      <th>abnormally  hard consistency</th>\n",
       "      <th>abnormally hard consistency</th>\n",
       "      <th>...</th>\n",
       "      <th>vomiting</th>\n",
       "      <th>weepiness</th>\n",
       "      <th>weight gain</th>\n",
       "      <th>welt</th>\n",
       "      <th>wheelchair bound</th>\n",
       "      <th>wheezing</th>\n",
       "      <th>withdraw</th>\n",
       "      <th>worry</th>\n",
       "      <th>yellow  sputum</th>\n",
       "      <th>yellow sputum</th>\n",
       "    </tr>\n",
       "  </thead>\n",
       "  <tbody>\n",
       "    <tr>\n",
       "      <th>0</th>\n",
       "      <td>Alzheimer's  disease</td>\n",
       "      <td>0</td>\n",
       "      <td>0</td>\n",
       "      <td>0</td>\n",
       "      <td>0</td>\n",
       "      <td>0</td>\n",
       "      <td>0</td>\n",
       "      <td>0</td>\n",
       "      <td>0</td>\n",
       "      <td>0</td>\n",
       "      <td>...</td>\n",
       "      <td>0</td>\n",
       "      <td>0</td>\n",
       "      <td>0</td>\n",
       "      <td>0</td>\n",
       "      <td>0</td>\n",
       "      <td>0</td>\n",
       "      <td>0</td>\n",
       "      <td>0</td>\n",
       "      <td>0</td>\n",
       "      <td>0</td>\n",
       "    </tr>\n",
       "    <tr>\n",
       "      <th>1</th>\n",
       "      <td>Alzheimer's  disease</td>\n",
       "      <td>0</td>\n",
       "      <td>0</td>\n",
       "      <td>0</td>\n",
       "      <td>0</td>\n",
       "      <td>0</td>\n",
       "      <td>0</td>\n",
       "      <td>0</td>\n",
       "      <td>0</td>\n",
       "      <td>0</td>\n",
       "      <td>...</td>\n",
       "      <td>0</td>\n",
       "      <td>0</td>\n",
       "      <td>0</td>\n",
       "      <td>0</td>\n",
       "      <td>0</td>\n",
       "      <td>0</td>\n",
       "      <td>0</td>\n",
       "      <td>0</td>\n",
       "      <td>0</td>\n",
       "      <td>0</td>\n",
       "    </tr>\n",
       "    <tr>\n",
       "      <th>2</th>\n",
       "      <td>Alzheimer's  disease</td>\n",
       "      <td>0</td>\n",
       "      <td>0</td>\n",
       "      <td>0</td>\n",
       "      <td>0</td>\n",
       "      <td>0</td>\n",
       "      <td>0</td>\n",
       "      <td>0</td>\n",
       "      <td>0</td>\n",
       "      <td>0</td>\n",
       "      <td>...</td>\n",
       "      <td>0</td>\n",
       "      <td>0</td>\n",
       "      <td>0</td>\n",
       "      <td>0</td>\n",
       "      <td>0</td>\n",
       "      <td>0</td>\n",
       "      <td>0</td>\n",
       "      <td>0</td>\n",
       "      <td>0</td>\n",
       "      <td>0</td>\n",
       "    </tr>\n",
       "    <tr>\n",
       "      <th>3</th>\n",
       "      <td>Alzheimer's  disease</td>\n",
       "      <td>0</td>\n",
       "      <td>0</td>\n",
       "      <td>0</td>\n",
       "      <td>0</td>\n",
       "      <td>0</td>\n",
       "      <td>0</td>\n",
       "      <td>0</td>\n",
       "      <td>0</td>\n",
       "      <td>0</td>\n",
       "      <td>...</td>\n",
       "      <td>0</td>\n",
       "      <td>0</td>\n",
       "      <td>0</td>\n",
       "      <td>0</td>\n",
       "      <td>1</td>\n",
       "      <td>0</td>\n",
       "      <td>0</td>\n",
       "      <td>0</td>\n",
       "      <td>0</td>\n",
       "      <td>0</td>\n",
       "    </tr>\n",
       "    <tr>\n",
       "      <th>4</th>\n",
       "      <td>Alzheimer's  disease</td>\n",
       "      <td>0</td>\n",
       "      <td>0</td>\n",
       "      <td>0</td>\n",
       "      <td>0</td>\n",
       "      <td>0</td>\n",
       "      <td>0</td>\n",
       "      <td>0</td>\n",
       "      <td>0</td>\n",
       "      <td>0</td>\n",
       "      <td>...</td>\n",
       "      <td>0</td>\n",
       "      <td>0</td>\n",
       "      <td>0</td>\n",
       "      <td>0</td>\n",
       "      <td>1</td>\n",
       "      <td>0</td>\n",
       "      <td>0</td>\n",
       "      <td>0</td>\n",
       "      <td>0</td>\n",
       "      <td>0</td>\n",
       "    </tr>\n",
       "  </tbody>\n",
       "</table>\n",
       "<p>5 rows × 446 columns</p>\n",
       "</div>"
      ],
      "text/plain": [
       "                Disease  Heberden's node  Murphy's sign  Stahli's line  \\\n",
       "0  Alzheimer's  disease                0              0              0   \n",
       "1  Alzheimer's  disease                0              0              0   \n",
       "2  Alzheimer's  disease                0              0              0   \n",
       "3  Alzheimer's  disease                0              0              0   \n",
       "4  Alzheimer's  disease                0              0              0   \n",
       "\n",
       "   abdomen acute  abdominal bloating  abdominal tenderness  \\\n",
       "0              0                   0                     0   \n",
       "1              0                   0                     0   \n",
       "2              0                   0                     0   \n",
       "3              0                   0                     0   \n",
       "4              0                   0                     0   \n",
       "\n",
       "   abnormal sensation  abnormally  hard consistency  \\\n",
       "0                   0                             0   \n",
       "1                   0                             0   \n",
       "2                   0                             0   \n",
       "3                   0                             0   \n",
       "4                   0                             0   \n",
       "\n",
       "   abnormally hard consistency  ...  vomiting  weepiness  weight gain  welt  \\\n",
       "0                            0  ...         0          0            0     0   \n",
       "1                            0  ...         0          0            0     0   \n",
       "2                            0  ...         0          0            0     0   \n",
       "3                            0  ...         0          0            0     0   \n",
       "4                            0  ...         0          0            0     0   \n",
       "\n",
       "   wheelchair bound  wheezing  withdraw  worry  yellow  sputum  yellow sputum  \n",
       "0                 0         0         0      0               0              0  \n",
       "1                 0         0         0      0               0              0  \n",
       "2                 0         0         0      0               0              0  \n",
       "3                 1         0         0      0               0              0  \n",
       "4                 1         0         0      0               0              0  \n",
       "\n",
       "[5 rows x 446 columns]"
      ]
     },
     "execution_count": 3,
     "metadata": {},
     "output_type": "execute_result"
    }
   ],
   "source": [
    "sym_data.head()"
   ]
  },
  {
   "cell_type": "code",
   "execution_count": 4,
   "metadata": {
    "colab": {},
    "colab_type": "code",
    "id": "fI4zyaeN6ltU"
   },
   "outputs": [],
   "source": [
    "sym_data = pd.concat([sym_data]*2, ignore_index=True)\n",
    "cols = sym_data.columns\n",
    "cols = cols[1:]"
   ]
  },
  {
   "cell_type": "code",
   "execution_count": 5,
   "metadata": {
    "colab": {},
    "colab_type": "code",
    "id": "T6u2HR2P69-U"
   },
   "outputs": [],
   "source": [
    "x = sym_data[cols]\n",
    "y = sym_data['Disease']"
   ]
  },
  {
   "cell_type": "code",
   "execution_count": 7,
   "metadata": {
    "colab": {},
    "colab_type": "code",
    "id": "qjXCI_v76_0v"
   },
   "outputs": [],
   "source": [
    "from sklearn.model_selection import train_test_split\n",
    "\n",
    "x_train, x_test, y_train, y_test = train_test_split(x, y, test_size=0.33, random_state=42)"
   ]
  },
  {
   "cell_type": "markdown",
   "metadata": {
    "colab_type": "text",
    "id": "xAzUeHrU7FqK"
   },
   "source": [
    "## Training the data"
   ]
  },
  {
   "cell_type": "code",
   "execution_count": 8,
   "metadata": {
    "colab": {},
    "colab_type": "code",
    "id": "0hBuiMcv7l7S"
   },
   "outputs": [],
   "source": [
    "features = cols\n",
    "feature_dict = {}\n",
    "for i,f in enumerate(features):\n",
    "    feature_dict[f] = i"
   ]
  },
  {
   "cell_type": "code",
   "execution_count": 20,
   "metadata": {
    "colab": {
     "base_uri": "https://localhost:8080/",
     "height": 34
    },
    "colab_type": "code",
    "id": "OD7210Zg7oxP",
    "outputId": "5b663fb5-ed53-4b5f-9440-c876dbe05638"
   },
   "outputs": [
    {
     "name": "stdout",
     "output_type": "stream",
     "text": [
      "Acurracy:  0.8878992628992629\n"
     ]
    }
   ],
   "source": [
    "mnb = MultinomialNB()\n",
    "clf_mnb=mnb.fit(x_train,y_train)\n",
    "print (\"Acurracy: \", clf_mnb.score(x_test,y_test))"
   ]
  },
  {
   "cell_type": "code",
   "execution_count": 21,
   "metadata": {
    "colab": {
     "base_uri": "https://localhost:8080/",
     "height": 34
    },
    "colab_type": "code",
    "id": "1FOyHzSK7sd5",
    "outputId": "860c67f2-dad8-4db9-e163-d3fe378ce150"
   },
   "outputs": [
    {
     "data": {
      "text/plain": [
       "[95, 125, 360]"
      ]
     },
     "execution_count": 21,
     "metadata": {},
     "output_type": "execute_result"
    }
   ],
   "source": [
    "input_features = [feature_dict['dizziness'], feature_dict['fatigue'], feature_dict['shortness of breath']]\n",
    "input_features"
   ]
  },
  {
   "cell_type": "code",
   "execution_count": 22,
   "metadata": {
    "colab": {},
    "colab_type": "code",
    "id": "vIqve8c_7uQu"
   },
   "outputs": [],
   "source": [
    "arr =[]\n",
    "for i in range(len(features)):\n",
    "  if i == input_features[0]:\n",
    "    i = int(i/input_features[0])\n",
    "  elif i == input_features[1]:\n",
    "    i = int(i/input_features[1])\n",
    "  elif i == input_features[2]:\n",
    "    i = int(i/input_features[2])\n",
    "  else:\n",
    "    i = 0\n",
    "  arr.append(i)"
   ]
  },
  {
   "cell_type": "code",
   "execution_count": 23,
   "metadata": {
    "colab": {},
    "colab_type": "code",
    "id": "nzHc0dLX7wN0"
   },
   "outputs": [],
   "source": [
    "arr = np.array(arr).reshape(-1,len(arr))"
   ]
  },
  {
   "cell_type": "markdown",
   "metadata": {
    "colab_type": "text",
    "id": "qLPwkNPj7yi-"
   },
   "source": [
    "**Predicted Disease**"
   ]
  },
  {
   "cell_type": "code",
   "execution_count": 24,
   "metadata": {
    "colab": {
     "base_uri": "https://localhost:8080/",
     "height": 34
    },
    "colab_type": "code",
    "id": "YOmFpuqm7yEz",
    "outputId": "f1d1088d-9969-478b-d447-7b36aec52b59"
   },
   "outputs": [
    {
     "name": "stdout",
     "output_type": "stream",
     "text": [
      "The disease predicted based on given symptoms is : anemia\n"
     ]
    }
   ],
   "source": [
    "predicted_disease = (mnb.predict(arr))\n",
    "print(\"The disease predicted based on given symptoms is : \" + predicted_disease[0])"
   ]
  },
  {
   "cell_type": "markdown",
   "metadata": {
    "colab_type": "text",
    "id": "IFtv8opkBIZ5"
   },
   "source": [
    "Importing the preprocessed and merged dataset containing the drug names for every disease, the reviews, symptoms, rating and useful count of all the drugs.\n",
    "\n"
   ]
  },
  {
   "cell_type": "markdown",
   "metadata": {
    "colab_type": "text",
    "id": "l73GliSVSEdT"
   },
   "source": [
    "# **Sentiment Analysis**"
   ]
  },
  {
   "cell_type": "code",
   "execution_count": 14,
   "metadata": {
    "colab": {
     "base_uri": "https://localhost:8080/",
     "height": 221
    },
    "colab_type": "code",
    "id": "MsoLKIGn71Nk",
    "outputId": "c0baa549-cacd-41ac-ff5c-6e63910906c6"
   },
   "outputs": [
    {
     "data": {
      "text/html": [
       "<div>\n",
       "<style scoped>\n",
       "    .dataframe tbody tr th:only-of-type {\n",
       "        vertical-align: middle;\n",
       "    }\n",
       "\n",
       "    .dataframe tbody tr th {\n",
       "        vertical-align: top;\n",
       "    }\n",
       "\n",
       "    .dataframe thead th {\n",
       "        text-align: right;\n",
       "    }\n",
       "</style>\n",
       "<table border=\"1\" class=\"dataframe\">\n",
       "  <thead>\n",
       "    <tr style=\"text-align: right;\">\n",
       "      <th></th>\n",
       "      <th>Drug</th>\n",
       "      <th>Disease</th>\n",
       "      <th>Review</th>\n",
       "      <th>Rating</th>\n",
       "      <th>UsefulCount</th>\n",
       "      <th>Symptoms</th>\n",
       "    </tr>\n",
       "  </thead>\n",
       "  <tbody>\n",
       "    <tr>\n",
       "      <th>0</th>\n",
       "      <td>Olanzapine</td>\n",
       "      <td>schizophrenia</td>\n",
       "      <td>\"This drug saved my life, I had been on almost...</td>\n",
       "      <td>10</td>\n",
       "      <td>6</td>\n",
       "      <td>['hallucinations auditory', 'hypersomnolence',...</td>\n",
       "    </tr>\n",
       "    <tr>\n",
       "      <th>1</th>\n",
       "      <td>Ziprasidone</td>\n",
       "      <td>schizophrenia</td>\n",
       "      <td>\"Geodon is a very effective drug for me.  Comp...</td>\n",
       "      <td>10</td>\n",
       "      <td>33</td>\n",
       "      <td>['hallucinations auditory', 'hypersomnolence',...</td>\n",
       "    </tr>\n",
       "    <tr>\n",
       "      <th>2</th>\n",
       "      <td>Loxapine</td>\n",
       "      <td>schizophrenia</td>\n",
       "      <td>\"This medicine completely changed my life in t...</td>\n",
       "      <td>10</td>\n",
       "      <td>22</td>\n",
       "      <td>['hallucinations auditory', 'hypersomnolence',...</td>\n",
       "    </tr>\n",
       "    <tr>\n",
       "      <th>3</th>\n",
       "      <td>Ziprasidone</td>\n",
       "      <td>schizophrenia</td>\n",
       "      <td>\"I&amp;#039;ve been on geodon for about three week...</td>\n",
       "      <td>7</td>\n",
       "      <td>6</td>\n",
       "      <td>['hallucinations auditory', 'hypersomnolence',...</td>\n",
       "    </tr>\n",
       "    <tr>\n",
       "      <th>4</th>\n",
       "      <td>Abilify</td>\n",
       "      <td>schizophrenia</td>\n",
       "      <td>\"I switched from Risperidal to Abilify two yea...</td>\n",
       "      <td>10</td>\n",
       "      <td>53</td>\n",
       "      <td>['hallucinations auditory', 'hypersomnolence',...</td>\n",
       "    </tr>\n",
       "  </tbody>\n",
       "</table>\n",
       "</div>"
      ],
      "text/plain": [
       "          Drug        Disease  \\\n",
       "0   Olanzapine  schizophrenia   \n",
       "1  Ziprasidone  schizophrenia   \n",
       "2     Loxapine  schizophrenia   \n",
       "3  Ziprasidone  schizophrenia   \n",
       "4      Abilify  schizophrenia   \n",
       "\n",
       "                                              Review  Rating  UsefulCount  \\\n",
       "0  \"This drug saved my life, I had been on almost...      10            6   \n",
       "1  \"Geodon is a very effective drug for me.  Comp...      10           33   \n",
       "2  \"This medicine completely changed my life in t...      10           22   \n",
       "3  \"I&#039;ve been on geodon for about three week...       7            6   \n",
       "4  \"I switched from Risperidal to Abilify two yea...      10           53   \n",
       "\n",
       "                                            Symptoms  \n",
       "0  ['hallucinations auditory', 'hypersomnolence',...  \n",
       "1  ['hallucinations auditory', 'hypersomnolence',...  \n",
       "2  ['hallucinations auditory', 'hypersomnolence',...  \n",
       "3  ['hallucinations auditory', 'hypersomnolence',...  \n",
       "4  ['hallucinations auditory', 'hypersomnolence',...  "
      ]
     },
     "execution_count": 14,
     "metadata": {},
     "output_type": "execute_result"
    }
   ],
   "source": [
    "\n",
    "\n",
    "merged_data = pd.read_csv(\"Merged_Dataset.csv\")\n",
    "merged_data.head()"
   ]
  },
  {
   "cell_type": "markdown",
   "metadata": {
    "colab_type": "text",
    "id": "fQUdzcNiCqz4"
   },
   "source": [
    "**Performing sentiment analysis of drug review using VADER.**"
   ]
  },
  {
   "cell_type": "code",
   "execution_count": 15,
   "metadata": {
    "colab": {},
    "colab_type": "code",
    "id": "Y1QCy5E_CKie"
   },
   "outputs": [],
   "source": [
    "#Importing and installing the necessary library for VADER.\n",
    "\n",
    "from vaderSentiment.vaderSentiment import SentimentIntensityAnalyzer\n",
    "analyser = SentimentIntensityAnalyzer()"
   ]
  },
  {
   "cell_type": "code",
   "execution_count": 16,
   "metadata": {
    "colab": {},
    "colab_type": "code",
    "id": "QPsWvdjyDCAd"
   },
   "outputs": [],
   "source": [
    "#Making a list of reviews to give it as input for vader analysis.\n",
    "review_list = list(merged_data.Review)\n",
    "\n",
    "#Initializing the necessary files.\n",
    "sentiments = []\n",
    "positive = []\n",
    "negative = []\n",
    "neutral = []\n",
    "compound = []"
   ]
  },
  {
   "cell_type": "code",
   "execution_count": 17,
   "metadata": {
    "colab": {},
    "colab_type": "code",
    "id": "qqTpb-g6EOdU"
   },
   "outputs": [],
   "source": [
    "for text in review_list:\n",
    "\n",
    "  #Performing Vader Analysis on each review.\n",
    "  com = analyser.polarity_scores(text)[\"compound\"]\n",
    "  pos = analyser.polarity_scores(text)[\"pos\"]\n",
    "  neu = analyser.polarity_scores(text)[\"neu\"]\n",
    "  neg = analyser.polarity_scores(text)[\"neg\"]\n",
    "\n",
    "  #Adding each value to the corresponding array\n",
    "  positive.append(pos)\n",
    "  negative.append(neg)\n",
    "  neutral.append(neu)\n",
    "  compound.append(com)\n",
    "  sentiments.append({\"Review\":text,\n",
    "                     \"Positive\": pos,\n",
    "                     \"Negative\": neu,\n",
    "                     \"Neutral\": neg,\n",
    "                     \"Compound\": com})\n",
    "\n",
    "sentiments_data = pd.DataFrame.from_dict(sentiments)"
   ]
  },
  {
   "cell_type": "code",
   "execution_count": 18,
   "metadata": {
    "colab": {
     "base_uri": "https://localhost:8080/",
     "height": 419
    },
    "colab_type": "code",
    "id": "rziuIA4IEk8o",
    "outputId": "2f05e96f-2081-4581-c37e-e236a46c7dbd"
   },
   "outputs": [
    {
     "data": {
      "text/html": [
       "<div>\n",
       "<style scoped>\n",
       "    .dataframe tbody tr th:only-of-type {\n",
       "        vertical-align: middle;\n",
       "    }\n",
       "\n",
       "    .dataframe tbody tr th {\n",
       "        vertical-align: top;\n",
       "    }\n",
       "\n",
       "    .dataframe thead th {\n",
       "        text-align: right;\n",
       "    }\n",
       "</style>\n",
       "<table border=\"1\" class=\"dataframe\">\n",
       "  <thead>\n",
       "    <tr style=\"text-align: right;\">\n",
       "      <th></th>\n",
       "      <th>Review</th>\n",
       "      <th>Positive</th>\n",
       "      <th>Negative</th>\n",
       "      <th>Neutral</th>\n",
       "      <th>Compound</th>\n",
       "    </tr>\n",
       "  </thead>\n",
       "  <tbody>\n",
       "    <tr>\n",
       "      <th>0</th>\n",
       "      <td>\"This drug saved my life, I had been on almost...</td>\n",
       "      <td>0.180</td>\n",
       "      <td>0.748</td>\n",
       "      <td>0.072</td>\n",
       "      <td>0.8900</td>\n",
       "    </tr>\n",
       "    <tr>\n",
       "      <th>1</th>\n",
       "      <td>\"Geodon is a very effective drug for me.  Comp...</td>\n",
       "      <td>0.207</td>\n",
       "      <td>0.793</td>\n",
       "      <td>0.000</td>\n",
       "      <td>0.5256</td>\n",
       "    </tr>\n",
       "    <tr>\n",
       "      <th>2</th>\n",
       "      <td>\"This medicine completely changed my life in t...</td>\n",
       "      <td>0.033</td>\n",
       "      <td>0.934</td>\n",
       "      <td>0.034</td>\n",
       "      <td>-0.0129</td>\n",
       "    </tr>\n",
       "    <tr>\n",
       "      <th>3</th>\n",
       "      <td>\"I&amp;#039;ve been on geodon for about three week...</td>\n",
       "      <td>0.000</td>\n",
       "      <td>0.960</td>\n",
       "      <td>0.040</td>\n",
       "      <td>-0.1875</td>\n",
       "    </tr>\n",
       "    <tr>\n",
       "      <th>4</th>\n",
       "      <td>\"I switched from Risperidal to Abilify two yea...</td>\n",
       "      <td>0.038</td>\n",
       "      <td>0.933</td>\n",
       "      <td>0.029</td>\n",
       "      <td>0.1154</td>\n",
       "    </tr>\n",
       "    <tr>\n",
       "      <th>...</th>\n",
       "      <td>...</td>\n",
       "      <td>...</td>\n",
       "      <td>...</td>\n",
       "      <td>...</td>\n",
       "      <td>...</td>\n",
       "    </tr>\n",
       "    <tr>\n",
       "      <th>8901</th>\n",
       "      <td>\"I was very pleased with Integra F to treat my...</td>\n",
       "      <td>0.136</td>\n",
       "      <td>0.823</td>\n",
       "      <td>0.041</td>\n",
       "      <td>0.7344</td>\n",
       "    </tr>\n",
       "    <tr>\n",
       "      <th>8902</th>\n",
       "      <td>\"I have pots syndrome And low blood plasma..\\r...</td>\n",
       "      <td>0.023</td>\n",
       "      <td>0.817</td>\n",
       "      <td>0.159</td>\n",
       "      <td>-0.8456</td>\n",
       "    </tr>\n",
       "    <tr>\n",
       "      <th>8903</th>\n",
       "      <td>\"Was taking twice a day while I was pregnant. ...</td>\n",
       "      <td>0.170</td>\n",
       "      <td>0.830</td>\n",
       "      <td>0.000</td>\n",
       "      <td>0.6514</td>\n",
       "    </tr>\n",
       "    <tr>\n",
       "      <th>8904</th>\n",
       "      <td>\"I had a haematocrit of 18 and I started takin...</td>\n",
       "      <td>0.052</td>\n",
       "      <td>0.924</td>\n",
       "      <td>0.024</td>\n",
       "      <td>0.3182</td>\n",
       "    </tr>\n",
       "    <tr>\n",
       "      <th>8905</th>\n",
       "      <td>\"Went from 8.5 hemoglobin to 11 and then back ...</td>\n",
       "      <td>0.000</td>\n",
       "      <td>1.000</td>\n",
       "      <td>0.000</td>\n",
       "      <td>0.0000</td>\n",
       "    </tr>\n",
       "  </tbody>\n",
       "</table>\n",
       "<p>8906 rows × 5 columns</p>\n",
       "</div>"
      ],
      "text/plain": [
       "                                                 Review  Positive  Negative  \\\n",
       "0     \"This drug saved my life, I had been on almost...     0.180     0.748   \n",
       "1     \"Geodon is a very effective drug for me.  Comp...     0.207     0.793   \n",
       "2     \"This medicine completely changed my life in t...     0.033     0.934   \n",
       "3     \"I&#039;ve been on geodon for about three week...     0.000     0.960   \n",
       "4     \"I switched from Risperidal to Abilify two yea...     0.038     0.933   \n",
       "...                                                 ...       ...       ...   \n",
       "8901  \"I was very pleased with Integra F to treat my...     0.136     0.823   \n",
       "8902  \"I have pots syndrome And low blood plasma..\\r...     0.023     0.817   \n",
       "8903  \"Was taking twice a day while I was pregnant. ...     0.170     0.830   \n",
       "8904  \"I had a haematocrit of 18 and I started takin...     0.052     0.924   \n",
       "8905  \"Went from 8.5 hemoglobin to 11 and then back ...     0.000     1.000   \n",
       "\n",
       "      Neutral  Compound  \n",
       "0       0.072    0.8900  \n",
       "1       0.000    0.5256  \n",
       "2       0.034   -0.0129  \n",
       "3       0.040   -0.1875  \n",
       "4       0.029    0.1154  \n",
       "...       ...       ...  \n",
       "8901    0.041    0.7344  \n",
       "8902    0.159   -0.8456  \n",
       "8903    0.000    0.6514  \n",
       "8904    0.024    0.3182  \n",
       "8905    0.000    0.0000  \n",
       "\n",
       "[8906 rows x 5 columns]"
      ]
     },
     "execution_count": 18,
     "metadata": {},
     "output_type": "execute_result"
    }
   ],
   "source": [
    "#Visualizing data from vader analysis.\n",
    "sentiments_data"
   ]
  },
  {
   "cell_type": "code",
   "execution_count": 19,
   "metadata": {
    "colab": {},
    "colab_type": "code",
    "id": "1ibUH3OwE42F"
   },
   "outputs": [],
   "source": [
    "#Adding the sentiment analysis columns to the merged dataset.\n",
    "merged_data[\"Positive\"] = positive\n",
    "merged_data[\"Negative\"] = negative\n",
    "merged_data[\"Neutral\"] = neutral\n",
    "merged_data[\"Compound\"] = compound\n",
    "merged_data[\"Review_Sentiment\"] = ''"
   ]
  },
  {
   "cell_type": "code",
   "execution_count": 20,
   "metadata": {
    "colab": {
     "base_uri": "https://localhost:8080/",
     "height": 374
    },
    "colab_type": "code",
    "id": "hIJ4s9hPE-X_",
    "outputId": "245d20b1-deae-464e-c9e4-bd257bf091e9"
   },
   "outputs": [
    {
     "data": {
      "text/html": [
       "<div>\n",
       "<style scoped>\n",
       "    .dataframe tbody tr th:only-of-type {\n",
       "        vertical-align: middle;\n",
       "    }\n",
       "\n",
       "    .dataframe tbody tr th {\n",
       "        vertical-align: top;\n",
       "    }\n",
       "\n",
       "    .dataframe thead th {\n",
       "        text-align: right;\n",
       "    }\n",
       "</style>\n",
       "<table border=\"1\" class=\"dataframe\">\n",
       "  <thead>\n",
       "    <tr style=\"text-align: right;\">\n",
       "      <th></th>\n",
       "      <th>Drug</th>\n",
       "      <th>Disease</th>\n",
       "      <th>Review</th>\n",
       "      <th>Rating</th>\n",
       "      <th>UsefulCount</th>\n",
       "      <th>Symptoms</th>\n",
       "      <th>Positive</th>\n",
       "      <th>Negative</th>\n",
       "      <th>Neutral</th>\n",
       "      <th>Compound</th>\n",
       "      <th>Review_Sentiment</th>\n",
       "    </tr>\n",
       "  </thead>\n",
       "  <tbody>\n",
       "    <tr>\n",
       "      <th>0</th>\n",
       "      <td>Olanzapine</td>\n",
       "      <td>schizophrenia</td>\n",
       "      <td>\"This drug saved my life, I had been on almost...</td>\n",
       "      <td>10</td>\n",
       "      <td>6</td>\n",
       "      <td>['hallucinations auditory', 'hypersomnolence',...</td>\n",
       "      <td>0.180</td>\n",
       "      <td>0.072</td>\n",
       "      <td>0.748</td>\n",
       "      <td>0.8900</td>\n",
       "      <td></td>\n",
       "    </tr>\n",
       "    <tr>\n",
       "      <th>1</th>\n",
       "      <td>Ziprasidone</td>\n",
       "      <td>schizophrenia</td>\n",
       "      <td>\"Geodon is a very effective drug for me.  Comp...</td>\n",
       "      <td>10</td>\n",
       "      <td>33</td>\n",
       "      <td>['hallucinations auditory', 'hypersomnolence',...</td>\n",
       "      <td>0.207</td>\n",
       "      <td>0.000</td>\n",
       "      <td>0.793</td>\n",
       "      <td>0.5256</td>\n",
       "      <td></td>\n",
       "    </tr>\n",
       "    <tr>\n",
       "      <th>2</th>\n",
       "      <td>Loxapine</td>\n",
       "      <td>schizophrenia</td>\n",
       "      <td>\"This medicine completely changed my life in t...</td>\n",
       "      <td>10</td>\n",
       "      <td>22</td>\n",
       "      <td>['hallucinations auditory', 'hypersomnolence',...</td>\n",
       "      <td>0.033</td>\n",
       "      <td>0.034</td>\n",
       "      <td>0.934</td>\n",
       "      <td>-0.0129</td>\n",
       "      <td></td>\n",
       "    </tr>\n",
       "    <tr>\n",
       "      <th>3</th>\n",
       "      <td>Ziprasidone</td>\n",
       "      <td>schizophrenia</td>\n",
       "      <td>\"I&amp;#039;ve been on geodon for about three week...</td>\n",
       "      <td>7</td>\n",
       "      <td>6</td>\n",
       "      <td>['hallucinations auditory', 'hypersomnolence',...</td>\n",
       "      <td>0.000</td>\n",
       "      <td>0.040</td>\n",
       "      <td>0.960</td>\n",
       "      <td>-0.1875</td>\n",
       "      <td></td>\n",
       "    </tr>\n",
       "    <tr>\n",
       "      <th>4</th>\n",
       "      <td>Abilify</td>\n",
       "      <td>schizophrenia</td>\n",
       "      <td>\"I switched from Risperidal to Abilify two yea...</td>\n",
       "      <td>10</td>\n",
       "      <td>53</td>\n",
       "      <td>['hallucinations auditory', 'hypersomnolence',...</td>\n",
       "      <td>0.038</td>\n",
       "      <td>0.029</td>\n",
       "      <td>0.933</td>\n",
       "      <td>0.1154</td>\n",
       "      <td></td>\n",
       "    </tr>\n",
       "  </tbody>\n",
       "</table>\n",
       "</div>"
      ],
      "text/plain": [
       "          Drug        Disease  \\\n",
       "0   Olanzapine  schizophrenia   \n",
       "1  Ziprasidone  schizophrenia   \n",
       "2     Loxapine  schizophrenia   \n",
       "3  Ziprasidone  schizophrenia   \n",
       "4      Abilify  schizophrenia   \n",
       "\n",
       "                                              Review  Rating  UsefulCount  \\\n",
       "0  \"This drug saved my life, I had been on almost...      10            6   \n",
       "1  \"Geodon is a very effective drug for me.  Comp...      10           33   \n",
       "2  \"This medicine completely changed my life in t...      10           22   \n",
       "3  \"I&#039;ve been on geodon for about three week...       7            6   \n",
       "4  \"I switched from Risperidal to Abilify two yea...      10           53   \n",
       "\n",
       "                                            Symptoms  Positive  Negative  \\\n",
       "0  ['hallucinations auditory', 'hypersomnolence',...     0.180     0.072   \n",
       "1  ['hallucinations auditory', 'hypersomnolence',...     0.207     0.000   \n",
       "2  ['hallucinations auditory', 'hypersomnolence',...     0.033     0.034   \n",
       "3  ['hallucinations auditory', 'hypersomnolence',...     0.000     0.040   \n",
       "4  ['hallucinations auditory', 'hypersomnolence',...     0.038     0.029   \n",
       "\n",
       "   Neutral  Compound Review_Sentiment  \n",
       "0    0.748    0.8900                   \n",
       "1    0.793    0.5256                   \n",
       "2    0.934   -0.0129                   \n",
       "3    0.960   -0.1875                   \n",
       "4    0.933    0.1154                   "
      ]
     },
     "execution_count": 20,
     "metadata": {},
     "output_type": "execute_result"
    }
   ],
   "source": [
    "#Visualizing the merged dataset with the sentiment analysis results.\n",
    "merged_data.head()"
   ]
  },
  {
   "cell_type": "markdown",
   "metadata": {
    "colab_type": "text",
    "id": "Ok68NvLeFOFv"
   },
   "source": [
    "Based on the compound value we can determine whether the overall sentiment of the review is postive, negative or neutral. Below will be the threshold we shall be using for classifying the review sentiment class:\n",
    "\n",
    "Positive sentiment: compound score >= 0.05\n",
    "\n",
    "Neutral sentiment : -0.05 < compound score < 0.05\n",
    "\n",
    "Negative sentiment: compound score <= *-0.05*"
   ]
  },
  {
   "cell_type": "code",
   "execution_count": 21,
   "metadata": {
    "colab": {},
    "colab_type": "code",
    "id": "77jCTi7DFGVN"
   },
   "outputs": [],
   "source": [
    "merged_data.loc[merged_data['Compound'] >= 0.05, 'Review_Sentiment'] = 'Positive'\n",
    "merged_data.loc[merged_data['Compound'] <= -0.05, 'Review_Sentiment'] = 'Negative'\n",
    "merged_data[\"Review_Sentiment\"].replace('', 'Neutral', inplace = True)"
   ]
  },
  {
   "cell_type": "code",
   "execution_count": 22,
   "metadata": {
    "colab": {},
    "colab_type": "code",
    "id": "nr3vy85uFk_b"
   },
   "outputs": [],
   "source": [
    "#Dropping the columns Positive, Negative, Neutral and Compound.\n",
    "merged_data = merged_data.drop(columns = [\"Positive\", \"Negative\", \"Neutral\", \"Compound\"])"
   ]
  },
  {
   "cell_type": "code",
   "execution_count": 23,
   "metadata": {
    "colab": {},
    "colab_type": "code",
    "id": "aJFq0nbdFwOH"
   },
   "outputs": [],
   "source": [
    "# Rearranging the columns in different order.\n",
    "merged_data = merged_data[[\"Disease\", \"Drug\", \"Symptoms\", \"Review\", \"Review_Sentiment\", \"Rating\", \"UsefulCount\"]]"
   ]
  },
  {
   "cell_type": "code",
   "execution_count": 24,
   "metadata": {
    "colab": {
     "base_uri": "https://localhost:8080/",
     "height": 289
    },
    "colab_type": "code",
    "id": "OGo1DKlMF71z",
    "outputId": "a2409a1f-ba60-4e10-87f2-b04e79e11d84"
   },
   "outputs": [
    {
     "data": {
      "text/html": [
       "<div>\n",
       "<style scoped>\n",
       "    .dataframe tbody tr th:only-of-type {\n",
       "        vertical-align: middle;\n",
       "    }\n",
       "\n",
       "    .dataframe tbody tr th {\n",
       "        vertical-align: top;\n",
       "    }\n",
       "\n",
       "    .dataframe thead th {\n",
       "        text-align: right;\n",
       "    }\n",
       "</style>\n",
       "<table border=\"1\" class=\"dataframe\">\n",
       "  <thead>\n",
       "    <tr style=\"text-align: right;\">\n",
       "      <th></th>\n",
       "      <th>Disease</th>\n",
       "      <th>Drug</th>\n",
       "      <th>Symptoms</th>\n",
       "      <th>Review</th>\n",
       "      <th>Review_Sentiment</th>\n",
       "      <th>Rating</th>\n",
       "      <th>UsefulCount</th>\n",
       "    </tr>\n",
       "  </thead>\n",
       "  <tbody>\n",
       "    <tr>\n",
       "      <th>0</th>\n",
       "      <td>schizophrenia</td>\n",
       "      <td>Olanzapine</td>\n",
       "      <td>['hallucinations auditory', 'hypersomnolence',...</td>\n",
       "      <td>\"This drug saved my life, I had been on almost...</td>\n",
       "      <td>Positive</td>\n",
       "      <td>10</td>\n",
       "      <td>6</td>\n",
       "    </tr>\n",
       "    <tr>\n",
       "      <th>1</th>\n",
       "      <td>schizophrenia</td>\n",
       "      <td>Ziprasidone</td>\n",
       "      <td>['hallucinations auditory', 'hypersomnolence',...</td>\n",
       "      <td>\"Geodon is a very effective drug for me.  Comp...</td>\n",
       "      <td>Positive</td>\n",
       "      <td>10</td>\n",
       "      <td>33</td>\n",
       "    </tr>\n",
       "    <tr>\n",
       "      <th>2</th>\n",
       "      <td>schizophrenia</td>\n",
       "      <td>Loxapine</td>\n",
       "      <td>['hallucinations auditory', 'hypersomnolence',...</td>\n",
       "      <td>\"This medicine completely changed my life in t...</td>\n",
       "      <td>Neutral</td>\n",
       "      <td>10</td>\n",
       "      <td>22</td>\n",
       "    </tr>\n",
       "    <tr>\n",
       "      <th>3</th>\n",
       "      <td>schizophrenia</td>\n",
       "      <td>Ziprasidone</td>\n",
       "      <td>['hallucinations auditory', 'hypersomnolence',...</td>\n",
       "      <td>\"I&amp;#039;ve been on geodon for about three week...</td>\n",
       "      <td>Negative</td>\n",
       "      <td>7</td>\n",
       "      <td>6</td>\n",
       "    </tr>\n",
       "    <tr>\n",
       "      <th>4</th>\n",
       "      <td>schizophrenia</td>\n",
       "      <td>Abilify</td>\n",
       "      <td>['hallucinations auditory', 'hypersomnolence',...</td>\n",
       "      <td>\"I switched from Risperidal to Abilify two yea...</td>\n",
       "      <td>Positive</td>\n",
       "      <td>10</td>\n",
       "      <td>53</td>\n",
       "    </tr>\n",
       "  </tbody>\n",
       "</table>\n",
       "</div>"
      ],
      "text/plain": [
       "         Disease         Drug  \\\n",
       "0  schizophrenia   Olanzapine   \n",
       "1  schizophrenia  Ziprasidone   \n",
       "2  schizophrenia     Loxapine   \n",
       "3  schizophrenia  Ziprasidone   \n",
       "4  schizophrenia      Abilify   \n",
       "\n",
       "                                            Symptoms  \\\n",
       "0  ['hallucinations auditory', 'hypersomnolence',...   \n",
       "1  ['hallucinations auditory', 'hypersomnolence',...   \n",
       "2  ['hallucinations auditory', 'hypersomnolence',...   \n",
       "3  ['hallucinations auditory', 'hypersomnolence',...   \n",
       "4  ['hallucinations auditory', 'hypersomnolence',...   \n",
       "\n",
       "                                              Review Review_Sentiment  Rating  \\\n",
       "0  \"This drug saved my life, I had been on almost...         Positive      10   \n",
       "1  \"Geodon is a very effective drug for me.  Comp...         Positive      10   \n",
       "2  \"This medicine completely changed my life in t...          Neutral      10   \n",
       "3  \"I&#039;ve been on geodon for about three week...         Negative       7   \n",
       "4  \"I switched from Risperidal to Abilify two yea...         Positive      10   \n",
       "\n",
       "   UsefulCount  \n",
       "0            6  \n",
       "1           33  \n",
       "2           22  \n",
       "3            6  \n",
       "4           53  "
      ]
     },
     "execution_count": 24,
     "metadata": {},
     "output_type": "execute_result"
    }
   ],
   "source": [
    "#Visualizing the merged dataset after adding the sentiment analysis results.\n",
    "merged_data.head()"
   ]
  },
  {
   "cell_type": "code",
   "execution_count": 25,
   "metadata": {
    "colab": {},
    "colab_type": "code",
    "id": "cjFhqUJaGIl_"
   },
   "outputs": [],
   "source": [
    "#Exporting this merged dataset as csv file.\n",
    "merged_data.to_csv('Sentiment_analysis.csv', index=False)"
   ]
  },
  {
   "cell_type": "markdown",
   "metadata": {
    "colab_type": "text",
    "id": "uGxEHw4lKY8h"
   },
   "source": [
    "## **Weighted average of rating and useful count**"
   ]
  },
  {
   "cell_type": "code",
   "execution_count": 26,
   "metadata": {
    "colab": {},
    "colab_type": "code",
    "id": "dMnhmF2EKcPU"
   },
   "outputs": [],
   "source": [
    "#Reading the dataset with sentiment analysis of reviews\n",
    "data = pd.read_csv('Sentiment_analysis.csv')"
   ]
  },
  {
   "cell_type": "code",
   "execution_count": 27,
   "metadata": {
    "colab": {
     "base_uri": "https://localhost:8080/",
     "height": 289
    },
    "colab_type": "code",
    "id": "sw83IeUOKk7O",
    "outputId": "0c27a4c9-31ff-4dde-9837-3b205a4dea6f"
   },
   "outputs": [
    {
     "data": {
      "text/html": [
       "<div>\n",
       "<style scoped>\n",
       "    .dataframe tbody tr th:only-of-type {\n",
       "        vertical-align: middle;\n",
       "    }\n",
       "\n",
       "    .dataframe tbody tr th {\n",
       "        vertical-align: top;\n",
       "    }\n",
       "\n",
       "    .dataframe thead th {\n",
       "        text-align: right;\n",
       "    }\n",
       "</style>\n",
       "<table border=\"1\" class=\"dataframe\">\n",
       "  <thead>\n",
       "    <tr style=\"text-align: right;\">\n",
       "      <th></th>\n",
       "      <th>Disease</th>\n",
       "      <th>Drug</th>\n",
       "      <th>Symptoms</th>\n",
       "      <th>Review</th>\n",
       "      <th>Review_Sentiment</th>\n",
       "      <th>Rating</th>\n",
       "      <th>UsefulCount</th>\n",
       "    </tr>\n",
       "  </thead>\n",
       "  <tbody>\n",
       "    <tr>\n",
       "      <th>0</th>\n",
       "      <td>schizophrenia</td>\n",
       "      <td>Olanzapine</td>\n",
       "      <td>['hallucinations auditory', 'hypersomnolence',...</td>\n",
       "      <td>\"This drug saved my life, I had been on almost...</td>\n",
       "      <td>Positive</td>\n",
       "      <td>10</td>\n",
       "      <td>6</td>\n",
       "    </tr>\n",
       "    <tr>\n",
       "      <th>1</th>\n",
       "      <td>schizophrenia</td>\n",
       "      <td>Ziprasidone</td>\n",
       "      <td>['hallucinations auditory', 'hypersomnolence',...</td>\n",
       "      <td>\"Geodon is a very effective drug for me.  Comp...</td>\n",
       "      <td>Positive</td>\n",
       "      <td>10</td>\n",
       "      <td>33</td>\n",
       "    </tr>\n",
       "    <tr>\n",
       "      <th>2</th>\n",
       "      <td>schizophrenia</td>\n",
       "      <td>Loxapine</td>\n",
       "      <td>['hallucinations auditory', 'hypersomnolence',...</td>\n",
       "      <td>\"This medicine completely changed my life in t...</td>\n",
       "      <td>Neutral</td>\n",
       "      <td>10</td>\n",
       "      <td>22</td>\n",
       "    </tr>\n",
       "    <tr>\n",
       "      <th>3</th>\n",
       "      <td>schizophrenia</td>\n",
       "      <td>Ziprasidone</td>\n",
       "      <td>['hallucinations auditory', 'hypersomnolence',...</td>\n",
       "      <td>\"I&amp;#039;ve been on geodon for about three week...</td>\n",
       "      <td>Negative</td>\n",
       "      <td>7</td>\n",
       "      <td>6</td>\n",
       "    </tr>\n",
       "    <tr>\n",
       "      <th>4</th>\n",
       "      <td>schizophrenia</td>\n",
       "      <td>Abilify</td>\n",
       "      <td>['hallucinations auditory', 'hypersomnolence',...</td>\n",
       "      <td>\"I switched from Risperidal to Abilify two yea...</td>\n",
       "      <td>Positive</td>\n",
       "      <td>10</td>\n",
       "      <td>53</td>\n",
       "    </tr>\n",
       "  </tbody>\n",
       "</table>\n",
       "</div>"
      ],
      "text/plain": [
       "         Disease         Drug  \\\n",
       "0  schizophrenia   Olanzapine   \n",
       "1  schizophrenia  Ziprasidone   \n",
       "2  schizophrenia     Loxapine   \n",
       "3  schizophrenia  Ziprasidone   \n",
       "4  schizophrenia      Abilify   \n",
       "\n",
       "                                            Symptoms  \\\n",
       "0  ['hallucinations auditory', 'hypersomnolence',...   \n",
       "1  ['hallucinations auditory', 'hypersomnolence',...   \n",
       "2  ['hallucinations auditory', 'hypersomnolence',...   \n",
       "3  ['hallucinations auditory', 'hypersomnolence',...   \n",
       "4  ['hallucinations auditory', 'hypersomnolence',...   \n",
       "\n",
       "                                              Review Review_Sentiment  Rating  \\\n",
       "0  \"This drug saved my life, I had been on almost...         Positive      10   \n",
       "1  \"Geodon is a very effective drug for me.  Comp...         Positive      10   \n",
       "2  \"This medicine completely changed my life in t...          Neutral      10   \n",
       "3  \"I&#039;ve been on geodon for about three week...         Negative       7   \n",
       "4  \"I switched from Risperidal to Abilify two yea...         Positive      10   \n",
       "\n",
       "   UsefulCount  \n",
       "0            6  \n",
       "1           33  \n",
       "2           22  \n",
       "3            6  \n",
       "4           53  "
      ]
     },
     "execution_count": 27,
     "metadata": {},
     "output_type": "execute_result"
    }
   ],
   "source": [
    "data.head()"
   ]
  },
  {
   "cell_type": "code",
   "execution_count": 28,
   "metadata": {
    "colab": {},
    "colab_type": "code",
    "id": "tXeWz80MKnQN"
   },
   "outputs": [],
   "source": [
    "#Sorting the data based on drug name\n",
    "data = data.sort_values(['Drug'])"
   ]
  },
  {
   "cell_type": "code",
   "execution_count": 29,
   "metadata": {
    "colab": {},
    "colab_type": "code",
    "id": "Cogz1Q0eKr-p"
   },
   "outputs": [],
   "source": [
    "# Creating a function to calculate weighted average\n",
    "def wavg(group, avg_name, weight_name):\n",
    "    d = group[avg_name]\n",
    "    w = group[weight_name]\n",
    "    try:\n",
    "        return (d * w).sum() / w.sum()\n",
    "    except ZeroDivisionError:\n",
    "        return d.mean()"
   ]
  },
  {
   "cell_type": "code",
   "execution_count": 30,
   "metadata": {
    "colab": {
     "base_uri": "https://localhost:8080/",
     "height": 238
    },
    "colab_type": "code",
    "id": "Fn3l8QlAK-pw",
    "outputId": "bf44c8f6-bf95-4aaa-9274-50bb53224427"
   },
   "outputs": [
    {
     "data": {
      "text/plain": [
       "Disease        Drug           \n",
       "anemia         Epoetin alfa        4.285714\n",
       "               Epogen              9.000000\n",
       "               Ferralet 90        10.000000\n",
       "               Integra            10.000000\n",
       "               Integra F           9.000000\n",
       "                                    ...    \n",
       "schizophrenia  Trifluoperazine     9.965909\n",
       "               Vraylar             8.288793\n",
       "               Ziprasidone         7.776451\n",
       "               Zyprexa             7.338843\n",
       "               Zyprexa Zydis       6.304348\n",
       "Length: 344, dtype: float64"
      ]
     },
     "execution_count": 30,
     "metadata": {},
     "output_type": "execute_result"
    }
   ],
   "source": [
    "data.groupby([\"Disease\", \"Drug\"]).apply(wavg, \"Rating\", \"UsefulCount\")"
   ]
  },
  {
   "cell_type": "code",
   "execution_count": 31,
   "metadata": {
    "colab": {},
    "colab_type": "code",
    "id": "x-yj003rLDUs"
   },
   "outputs": [],
   "source": [
    "# Creating a dataframe of Drug and its average rating\n",
    "data_wavg = pd.DataFrame(data.groupby([\"Drug\"]).apply(wavg, \"Rating\", \"UsefulCount\").reset_index())"
   ]
  },
  {
   "cell_type": "code",
   "execution_count": 32,
   "metadata": {
    "colab": {},
    "colab_type": "code",
    "id": "MKBszBDKNYPb"
   },
   "outputs": [],
   "source": [
    "data_wavg = data_wavg.rename(columns={0: \"Rating_Wavg\"})"
   ]
  },
  {
   "cell_type": "code",
   "execution_count": 33,
   "metadata": {
    "colab": {
     "base_uri": "https://localhost:8080/",
     "height": 204
    },
    "colab_type": "code",
    "id": "ELmYVnRMMj3p",
    "outputId": "92f5e249-10cc-4001-cecd-e40169ce323c"
   },
   "outputs": [
    {
     "data": {
      "text/html": [
       "<div>\n",
       "<style scoped>\n",
       "    .dataframe tbody tr th:only-of-type {\n",
       "        vertical-align: middle;\n",
       "    }\n",
       "\n",
       "    .dataframe tbody tr th {\n",
       "        vertical-align: top;\n",
       "    }\n",
       "\n",
       "    .dataframe thead th {\n",
       "        text-align: right;\n",
       "    }\n",
       "</style>\n",
       "<table border=\"1\" class=\"dataframe\">\n",
       "  <thead>\n",
       "    <tr style=\"text-align: right;\">\n",
       "      <th></th>\n",
       "      <th>Drug</th>\n",
       "      <th>Rating_Wavg</th>\n",
       "    </tr>\n",
       "  </thead>\n",
       "  <tbody>\n",
       "    <tr>\n",
       "      <th>0</th>\n",
       "      <td>Abilify</td>\n",
       "      <td>7.350122</td>\n",
       "    </tr>\n",
       "    <tr>\n",
       "      <th>1</th>\n",
       "      <td>Abilify Maintena</td>\n",
       "      <td>8.714286</td>\n",
       "    </tr>\n",
       "    <tr>\n",
       "      <th>2</th>\n",
       "      <td>Acetaminophen / chlorpheniramine</td>\n",
       "      <td>8.000000</td>\n",
       "    </tr>\n",
       "    <tr>\n",
       "      <th>3</th>\n",
       "      <td>Acetaminophen / phenyltoloxamine</td>\n",
       "      <td>10.000000</td>\n",
       "    </tr>\n",
       "    <tr>\n",
       "      <th>4</th>\n",
       "      <td>Acetazolamide</td>\n",
       "      <td>6.376068</td>\n",
       "    </tr>\n",
       "  </tbody>\n",
       "</table>\n",
       "</div>"
      ],
      "text/plain": [
       "                               Drug  Rating_Wavg\n",
       "0                           Abilify     7.350122\n",
       "1                  Abilify Maintena     8.714286\n",
       "2  Acetaminophen / chlorpheniramine     8.000000\n",
       "3  Acetaminophen / phenyltoloxamine    10.000000\n",
       "4                     Acetazolamide     6.376068"
      ]
     },
     "execution_count": 33,
     "metadata": {},
     "output_type": "execute_result"
    }
   ],
   "source": [
    "data_wavg.head()"
   ]
  },
  {
   "cell_type": "code",
   "execution_count": 34,
   "metadata": {
    "colab": {},
    "colab_type": "code",
    "id": "HUgoajX5Nq6A"
   },
   "outputs": [],
   "source": [
    "merged_wavg = pd.merge(data_wavg, data, on='Drug')"
   ]
  },
  {
   "cell_type": "code",
   "execution_count": 35,
   "metadata": {
    "colab": {},
    "colab_type": "code",
    "id": "BZbr8aMYNuo4"
   },
   "outputs": [],
   "source": [
    "# Merging the weighted average column with the dataset\n",
    "merged_wavg.drop(columns=['Symptoms','Rating'], inplace=True)\n",
    "merged_wavg = merged_wavg[['Disease','Drug', 'Review', 'Review_Sentiment', 'Rating_Wavg', 'UsefulCount']]"
   ]
  },
  {
   "cell_type": "code",
   "execution_count": 36,
   "metadata": {
    "colab": {
     "base_uri": "https://localhost:8080/",
     "height": 204
    },
    "colab_type": "code",
    "id": "hBe7MNrDN1la",
    "outputId": "2fbfd95d-75c8-4524-c82d-660f01a9cce8"
   },
   "outputs": [
    {
     "data": {
      "text/html": [
       "<div>\n",
       "<style scoped>\n",
       "    .dataframe tbody tr th:only-of-type {\n",
       "        vertical-align: middle;\n",
       "    }\n",
       "\n",
       "    .dataframe tbody tr th {\n",
       "        vertical-align: top;\n",
       "    }\n",
       "\n",
       "    .dataframe thead th {\n",
       "        text-align: right;\n",
       "    }\n",
       "</style>\n",
       "<table border=\"1\" class=\"dataframe\">\n",
       "  <thead>\n",
       "    <tr style=\"text-align: right;\">\n",
       "      <th></th>\n",
       "      <th>Disease</th>\n",
       "      <th>Drug</th>\n",
       "      <th>Review</th>\n",
       "      <th>Review_Sentiment</th>\n",
       "      <th>Rating_Wavg</th>\n",
       "      <th>UsefulCount</th>\n",
       "    </tr>\n",
       "  </thead>\n",
       "  <tbody>\n",
       "    <tr>\n",
       "      <th>0</th>\n",
       "      <td>schizophrenia</td>\n",
       "      <td>Abilify</td>\n",
       "      <td>\"I was taking a lot of pills, some of which we...</td>\n",
       "      <td>Positive</td>\n",
       "      <td>7.350122</td>\n",
       "      <td>1</td>\n",
       "    </tr>\n",
       "    <tr>\n",
       "      <th>1</th>\n",
       "      <td>schizophrenia</td>\n",
       "      <td>Abilify</td>\n",
       "      <td>\"Excellent I don&amp;#039;t hear voices. I feel no...</td>\n",
       "      <td>Positive</td>\n",
       "      <td>7.350122</td>\n",
       "      <td>52</td>\n",
       "    </tr>\n",
       "    <tr>\n",
       "      <th>2</th>\n",
       "      <td>schizophrenia</td>\n",
       "      <td>Abilify</td>\n",
       "      <td>\"I have recently been placed on Abilify 20mg f...</td>\n",
       "      <td>Negative</td>\n",
       "      <td>7.350122</td>\n",
       "      <td>33</td>\n",
       "    </tr>\n",
       "    <tr>\n",
       "      <th>3</th>\n",
       "      <td>schizophrenia</td>\n",
       "      <td>Abilify</td>\n",
       "      <td>\"My now 23 yr old son has been on Abilify sinc...</td>\n",
       "      <td>Neutral</td>\n",
       "      <td>7.350122</td>\n",
       "      <td>33</td>\n",
       "    </tr>\n",
       "    <tr>\n",
       "      <th>4</th>\n",
       "      <td>schizophrenia</td>\n",
       "      <td>Abilify</td>\n",
       "      <td>\"I was on one Abilify for three years, for sch...</td>\n",
       "      <td>Positive</td>\n",
       "      <td>7.350122</td>\n",
       "      <td>28</td>\n",
       "    </tr>\n",
       "  </tbody>\n",
       "</table>\n",
       "</div>"
      ],
      "text/plain": [
       "         Disease     Drug                                             Review  \\\n",
       "0  schizophrenia  Abilify  \"I was taking a lot of pills, some of which we...   \n",
       "1  schizophrenia  Abilify  \"Excellent I don&#039;t hear voices. I feel no...   \n",
       "2  schizophrenia  Abilify  \"I have recently been placed on Abilify 20mg f...   \n",
       "3  schizophrenia  Abilify  \"My now 23 yr old son has been on Abilify sinc...   \n",
       "4  schizophrenia  Abilify  \"I was on one Abilify for three years, for sch...   \n",
       "\n",
       "  Review_Sentiment  Rating_Wavg  UsefulCount  \n",
       "0         Positive     7.350122            1  \n",
       "1         Positive     7.350122           52  \n",
       "2         Negative     7.350122           33  \n",
       "3          Neutral     7.350122           33  \n",
       "4         Positive     7.350122           28  "
      ]
     },
     "execution_count": 36,
     "metadata": {},
     "output_type": "execute_result"
    }
   ],
   "source": [
    "merged_wavg.head()"
   ]
  },
  {
   "cell_type": "code",
   "execution_count": 74,
   "metadata": {
    "colab": {
     "base_uri": "https://localhost:8080/",
     "height": 34
    },
    "colab_type": "code",
    "id": "TQoaZNK2OAFi",
    "outputId": "26d11f1f-0b68-402f-c72d-d5c9991c99e8"
   },
   "outputs": [
    {
     "data": {
      "text/plain": [
       "array(['schizophrenia', 'pneumonia', 'osteoporosis', 'obesity',\n",
       "       'neutropenia', 'melanoma', 'lymphoma', 'influenza', 'hypoglycemia',\n",
       "       'hyperbilirubinemia', 'hemorrhoids', 'gout', 'glaucoma',\n",
       "       'gastroenteritis', 'epilepsy', 'diverticulitis', 'dementia',\n",
       "       'bronchitis', 'asthma', 'anemia'], dtype=object)"
      ]
     },
     "execution_count": 74,
     "metadata": {},
     "output_type": "execute_result"
    }
   ],
   "source": [
    "merged_wavg['Disease'].unique()"
   ]
  },
  {
   "cell_type": "markdown",
   "metadata": {
    "colab_type": "text",
    "id": "Y2owIbcUP_Bo"
   },
   "source": [
    "# **Drug Recommendation**"
   ]
  },
  {
   "cell_type": "code",
   "execution_count": 38,
   "metadata": {
    "colab": {
     "base_uri": "https://localhost:8080/",
     "height": 419
    },
    "colab_type": "code",
    "id": "nk95bdIlONER",
    "outputId": "23bce6c3-a62a-4542-dc46-4920a13bfb84"
   },
   "outputs": [
    {
     "data": {
      "text/html": [
       "<div>\n",
       "<style scoped>\n",
       "    .dataframe tbody tr th:only-of-type {\n",
       "        vertical-align: middle;\n",
       "    }\n",
       "\n",
       "    .dataframe tbody tr th {\n",
       "        vertical-align: top;\n",
       "    }\n",
       "\n",
       "    .dataframe thead th {\n",
       "        text-align: right;\n",
       "    }\n",
       "</style>\n",
       "<table border=\"1\" class=\"dataframe\">\n",
       "  <thead>\n",
       "    <tr style=\"text-align: right;\">\n",
       "      <th></th>\n",
       "      <th>Disease</th>\n",
       "      <th>Drug</th>\n",
       "      <th>Review</th>\n",
       "      <th>Review_Sentiment</th>\n",
       "      <th>Rating_Wavg</th>\n",
       "      <th>UsefulCount</th>\n",
       "    </tr>\n",
       "  </thead>\n",
       "  <tbody>\n",
       "    <tr>\n",
       "      <th>0</th>\n",
       "      <td>schizophrenia</td>\n",
       "      <td>Mellaril</td>\n",
       "      <td>\"Moochie used to take Melleril, was always cal...</td>\n",
       "      <td>Positive</td>\n",
       "      <td>10.000000</td>\n",
       "      <td>22</td>\n",
       "    </tr>\n",
       "    <tr>\n",
       "      <th>1</th>\n",
       "      <td>schizophrenia</td>\n",
       "      <td>Stelazine</td>\n",
       "      <td>\"Out of all the medications my son uses, this ...</td>\n",
       "      <td>Positive</td>\n",
       "      <td>10.000000</td>\n",
       "      <td>42</td>\n",
       "    </tr>\n",
       "    <tr>\n",
       "      <th>2</th>\n",
       "      <td>schizophrenia</td>\n",
       "      <td>Stelazine</td>\n",
       "      <td>\"This medication saved my life. I had allergic...</td>\n",
       "      <td>Positive</td>\n",
       "      <td>10.000000</td>\n",
       "      <td>38</td>\n",
       "    </tr>\n",
       "    <tr>\n",
       "      <th>3</th>\n",
       "      <td>schizophrenia</td>\n",
       "      <td>Stelazine</td>\n",
       "      <td>\"My wife used this, initially higher dose and ...</td>\n",
       "      <td>Positive</td>\n",
       "      <td>10.000000</td>\n",
       "      <td>2</td>\n",
       "    </tr>\n",
       "    <tr>\n",
       "      <th>4</th>\n",
       "      <td>schizophrenia</td>\n",
       "      <td>Trifluoperazine</td>\n",
       "      <td>\"My wife used this, initially higher dose and ...</td>\n",
       "      <td>Positive</td>\n",
       "      <td>9.965909</td>\n",
       "      <td>2</td>\n",
       "    </tr>\n",
       "    <tr>\n",
       "      <th>...</th>\n",
       "      <td>...</td>\n",
       "      <td>...</td>\n",
       "      <td>...</td>\n",
       "      <td>...</td>\n",
       "      <td>...</td>\n",
       "      <td>...</td>\n",
       "    </tr>\n",
       "    <tr>\n",
       "      <th>8901</th>\n",
       "      <td>anemia</td>\n",
       "      <td>Epoetin alfa</td>\n",
       "      <td>\"I have pots syndrome And low blood plasma..\\r...</td>\n",
       "      <td>Negative</td>\n",
       "      <td>4.285714</td>\n",
       "      <td>0</td>\n",
       "    </tr>\n",
       "    <tr>\n",
       "      <th>8902</th>\n",
       "      <td>anemia</td>\n",
       "      <td>Epoetin alfa</td>\n",
       "      <td>\"Went from 8.5 hemoglobin to 11 and then back ...</td>\n",
       "      <td>Neutral</td>\n",
       "      <td>4.285714</td>\n",
       "      <td>3</td>\n",
       "    </tr>\n",
       "    <tr>\n",
       "      <th>8903</th>\n",
       "      <td>anemia</td>\n",
       "      <td>Procrit</td>\n",
       "      <td>\"I have pots syndrome And low blood plasma..\\r...</td>\n",
       "      <td>Negative</td>\n",
       "      <td>3.500000</td>\n",
       "      <td>0</td>\n",
       "    </tr>\n",
       "    <tr>\n",
       "      <th>8904</th>\n",
       "      <td>anemia</td>\n",
       "      <td>Procrit</td>\n",
       "      <td>\"I have had three injections for my Low red bl...</td>\n",
       "      <td>Positive</td>\n",
       "      <td>3.500000</td>\n",
       "      <td>3</td>\n",
       "    </tr>\n",
       "    <tr>\n",
       "      <th>8905</th>\n",
       "      <td>anemia</td>\n",
       "      <td>Procrit</td>\n",
       "      <td>\"Went from 8.5 hemoglobin to 11 and then back ...</td>\n",
       "      <td>Neutral</td>\n",
       "      <td>3.500000</td>\n",
       "      <td>3</td>\n",
       "    </tr>\n",
       "  </tbody>\n",
       "</table>\n",
       "<p>8906 rows × 6 columns</p>\n",
       "</div>"
      ],
      "text/plain": [
       "            Disease             Drug  \\\n",
       "0     schizophrenia         Mellaril   \n",
       "1     schizophrenia        Stelazine   \n",
       "2     schizophrenia        Stelazine   \n",
       "3     schizophrenia        Stelazine   \n",
       "4     schizophrenia  Trifluoperazine   \n",
       "...             ...              ...   \n",
       "8901         anemia     Epoetin alfa   \n",
       "8902         anemia     Epoetin alfa   \n",
       "8903         anemia          Procrit   \n",
       "8904         anemia          Procrit   \n",
       "8905         anemia          Procrit   \n",
       "\n",
       "                                                 Review Review_Sentiment  \\\n",
       "0     \"Moochie used to take Melleril, was always cal...         Positive   \n",
       "1     \"Out of all the medications my son uses, this ...         Positive   \n",
       "2     \"This medication saved my life. I had allergic...         Positive   \n",
       "3     \"My wife used this, initially higher dose and ...         Positive   \n",
       "4     \"My wife used this, initially higher dose and ...         Positive   \n",
       "...                                                 ...              ...   \n",
       "8901  \"I have pots syndrome And low blood plasma..\\r...         Negative   \n",
       "8902  \"Went from 8.5 hemoglobin to 11 and then back ...          Neutral   \n",
       "8903  \"I have pots syndrome And low blood plasma..\\r...         Negative   \n",
       "8904  \"I have had three injections for my Low red bl...         Positive   \n",
       "8905  \"Went from 8.5 hemoglobin to 11 and then back ...          Neutral   \n",
       "\n",
       "      Rating_Wavg  UsefulCount  \n",
       "0       10.000000           22  \n",
       "1       10.000000           42  \n",
       "2       10.000000           38  \n",
       "3       10.000000            2  \n",
       "4        9.965909            2  \n",
       "...           ...          ...  \n",
       "8901     4.285714            0  \n",
       "8902     4.285714            3  \n",
       "8903     3.500000            0  \n",
       "8904     3.500000            3  \n",
       "8905     3.500000            3  \n",
       "\n",
       "[8906 rows x 6 columns]"
      ]
     },
     "execution_count": 38,
     "metadata": {},
     "output_type": "execute_result"
    }
   ],
   "source": [
    "#Sorting dataset and grouping by disease\n",
    "merged_wavg = merged_wavg.sort_values(['Disease','Rating_Wavg'],ascending=False, ignore_index=True).groupby('Disease').head(10060)\n",
    "merged_wavg"
   ]
  },
  {
   "cell_type": "code",
   "execution_count": 39,
   "metadata": {
    "colab": {
     "base_uri": "https://localhost:8080/",
     "height": 419
    },
    "colab_type": "code",
    "id": "nlEHkLuMOh4Q",
    "outputId": "464abd40-8d5b-4b97-87bf-46279f99f2da"
   },
   "outputs": [
    {
     "data": {
      "text/html": [
       "<div>\n",
       "<style scoped>\n",
       "    .dataframe tbody tr th:only-of-type {\n",
       "        vertical-align: middle;\n",
       "    }\n",
       "\n",
       "    .dataframe tbody tr th {\n",
       "        vertical-align: top;\n",
       "    }\n",
       "\n",
       "    .dataframe thead th {\n",
       "        text-align: right;\n",
       "    }\n",
       "</style>\n",
       "<table border=\"1\" class=\"dataframe\">\n",
       "  <thead>\n",
       "    <tr style=\"text-align: right;\">\n",
       "      <th></th>\n",
       "      <th>Disease</th>\n",
       "      <th>Drug</th>\n",
       "      <th>Review</th>\n",
       "      <th>Review_Sentiment</th>\n",
       "      <th>Rating_Wavg</th>\n",
       "      <th>UsefulCount</th>\n",
       "    </tr>\n",
       "  </thead>\n",
       "  <tbody>\n",
       "    <tr>\n",
       "      <th>0</th>\n",
       "      <td>schizophrenia</td>\n",
       "      <td>Mellaril</td>\n",
       "      <td>\"Moochie used to take Melleril, was always cal...</td>\n",
       "      <td>Positive</td>\n",
       "      <td>10.000000</td>\n",
       "      <td>22</td>\n",
       "    </tr>\n",
       "    <tr>\n",
       "      <th>1</th>\n",
       "      <td>schizophrenia</td>\n",
       "      <td>Stelazine</td>\n",
       "      <td>\"Out of all the medications my son uses, this ...</td>\n",
       "      <td>Positive</td>\n",
       "      <td>10.000000</td>\n",
       "      <td>42</td>\n",
       "    </tr>\n",
       "    <tr>\n",
       "      <th>2</th>\n",
       "      <td>schizophrenia</td>\n",
       "      <td>Stelazine</td>\n",
       "      <td>\"This medication saved my life. I had allergic...</td>\n",
       "      <td>Positive</td>\n",
       "      <td>10.000000</td>\n",
       "      <td>38</td>\n",
       "    </tr>\n",
       "    <tr>\n",
       "      <th>3</th>\n",
       "      <td>schizophrenia</td>\n",
       "      <td>Stelazine</td>\n",
       "      <td>\"My wife used this, initially higher dose and ...</td>\n",
       "      <td>Positive</td>\n",
       "      <td>10.000000</td>\n",
       "      <td>2</td>\n",
       "    </tr>\n",
       "    <tr>\n",
       "      <th>4</th>\n",
       "      <td>schizophrenia</td>\n",
       "      <td>Trifluoperazine</td>\n",
       "      <td>\"My wife used this, initially higher dose and ...</td>\n",
       "      <td>Positive</td>\n",
       "      <td>9.965909</td>\n",
       "      <td>2</td>\n",
       "    </tr>\n",
       "    <tr>\n",
       "      <th>...</th>\n",
       "      <td>...</td>\n",
       "      <td>...</td>\n",
       "      <td>...</td>\n",
       "      <td>...</td>\n",
       "      <td>...</td>\n",
       "      <td>...</td>\n",
       "    </tr>\n",
       "    <tr>\n",
       "      <th>8901</th>\n",
       "      <td>anemia</td>\n",
       "      <td>Epoetin alfa</td>\n",
       "      <td>\"I have pots syndrome And low blood plasma..\\r...</td>\n",
       "      <td>Negative</td>\n",
       "      <td>4.285714</td>\n",
       "      <td>0</td>\n",
       "    </tr>\n",
       "    <tr>\n",
       "      <th>8902</th>\n",
       "      <td>anemia</td>\n",
       "      <td>Epoetin alfa</td>\n",
       "      <td>\"Went from 8.5 hemoglobin to 11 and then back ...</td>\n",
       "      <td>Neutral</td>\n",
       "      <td>4.285714</td>\n",
       "      <td>3</td>\n",
       "    </tr>\n",
       "    <tr>\n",
       "      <th>8903</th>\n",
       "      <td>anemia</td>\n",
       "      <td>Procrit</td>\n",
       "      <td>\"I have pots syndrome And low blood plasma..\\r...</td>\n",
       "      <td>Negative</td>\n",
       "      <td>3.500000</td>\n",
       "      <td>0</td>\n",
       "    </tr>\n",
       "    <tr>\n",
       "      <th>8904</th>\n",
       "      <td>anemia</td>\n",
       "      <td>Procrit</td>\n",
       "      <td>\"I have had three injections for my Low red bl...</td>\n",
       "      <td>Positive</td>\n",
       "      <td>3.500000</td>\n",
       "      <td>3</td>\n",
       "    </tr>\n",
       "    <tr>\n",
       "      <th>8905</th>\n",
       "      <td>anemia</td>\n",
       "      <td>Procrit</td>\n",
       "      <td>\"Went from 8.5 hemoglobin to 11 and then back ...</td>\n",
       "      <td>Neutral</td>\n",
       "      <td>3.500000</td>\n",
       "      <td>3</td>\n",
       "    </tr>\n",
       "  </tbody>\n",
       "</table>\n",
       "<p>8906 rows × 6 columns</p>\n",
       "</div>"
      ],
      "text/plain": [
       "            Disease             Drug  \\\n",
       "0     schizophrenia         Mellaril   \n",
       "1     schizophrenia        Stelazine   \n",
       "2     schizophrenia        Stelazine   \n",
       "3     schizophrenia        Stelazine   \n",
       "4     schizophrenia  Trifluoperazine   \n",
       "...             ...              ...   \n",
       "8901         anemia     Epoetin alfa   \n",
       "8902         anemia     Epoetin alfa   \n",
       "8903         anemia          Procrit   \n",
       "8904         anemia          Procrit   \n",
       "8905         anemia          Procrit   \n",
       "\n",
       "                                                 Review Review_Sentiment  \\\n",
       "0     \"Moochie used to take Melleril, was always cal...         Positive   \n",
       "1     \"Out of all the medications my son uses, this ...         Positive   \n",
       "2     \"This medication saved my life. I had allergic...         Positive   \n",
       "3     \"My wife used this, initially higher dose and ...         Positive   \n",
       "4     \"My wife used this, initially higher dose and ...         Positive   \n",
       "...                                                 ...              ...   \n",
       "8901  \"I have pots syndrome And low blood plasma..\\r...         Negative   \n",
       "8902  \"Went from 8.5 hemoglobin to 11 and then back ...          Neutral   \n",
       "8903  \"I have pots syndrome And low blood plasma..\\r...         Negative   \n",
       "8904  \"I have had three injections for my Low red bl...         Positive   \n",
       "8905  \"Went from 8.5 hemoglobin to 11 and then back ...          Neutral   \n",
       "\n",
       "      Rating_Wavg  UsefulCount  \n",
       "0       10.000000           22  \n",
       "1       10.000000           42  \n",
       "2       10.000000           38  \n",
       "3       10.000000            2  \n",
       "4        9.965909            2  \n",
       "...           ...          ...  \n",
       "8901     4.285714            0  \n",
       "8902     4.285714            3  \n",
       "8903     3.500000            0  \n",
       "8904     3.500000            3  \n",
       "8905     3.500000            3  \n",
       "\n",
       "[8906 rows x 6 columns]"
      ]
     },
     "execution_count": 39,
     "metadata": {},
     "output_type": "execute_result"
    }
   ],
   "source": [
    "# Exporting the dataset with weighted average\n",
    "merged_wavg = merged_wavg.to_csv(\"Drug_Recommender.csv\", index=False)\n",
    "merged_wavg = pd.read_csv(\"Drug_Recommender.csv\")\n",
    "merged_wavg"
   ]
  },
  {
   "cell_type": "code",
   "execution_count": 40,
   "metadata": {
    "colab": {},
    "colab_type": "code",
    "id": "8j6ULJuyOPOt"
   },
   "outputs": [],
   "source": [
    "# Taking drugs only with positive reviews for recommendation\n",
    "merged_wavg = merged_wavg.drop( merged_wavg[merged_wavg['Review_Sentiment'] == \"Negative\"].index)\n",
    "merged_wavg = merged_wavg.drop( merged_wavg[merged_wavg['Review_Sentiment'] == \"Neutral\"].index)"
   ]
  },
  {
   "cell_type": "code",
   "execution_count": 41,
   "metadata": {
    "colab": {
     "base_uri": "https://localhost:8080/",
     "height": 204
    },
    "colab_type": "code",
    "id": "KRo3P-nnO_nq",
    "outputId": "bec19cda-19b0-46d8-a35d-023f2e1493d1"
   },
   "outputs": [
    {
     "data": {
      "text/html": [
       "<div>\n",
       "<style scoped>\n",
       "    .dataframe tbody tr th:only-of-type {\n",
       "        vertical-align: middle;\n",
       "    }\n",
       "\n",
       "    .dataframe tbody tr th {\n",
       "        vertical-align: top;\n",
       "    }\n",
       "\n",
       "    .dataframe thead th {\n",
       "        text-align: right;\n",
       "    }\n",
       "</style>\n",
       "<table border=\"1\" class=\"dataframe\">\n",
       "  <thead>\n",
       "    <tr style=\"text-align: right;\">\n",
       "      <th></th>\n",
       "      <th>Disease</th>\n",
       "      <th>Drug</th>\n",
       "      <th>Review</th>\n",
       "      <th>Review_Sentiment</th>\n",
       "      <th>Rating_Wavg</th>\n",
       "      <th>UsefulCount</th>\n",
       "    </tr>\n",
       "  </thead>\n",
       "  <tbody>\n",
       "    <tr>\n",
       "      <th>0</th>\n",
       "      <td>schizophrenia</td>\n",
       "      <td>Mellaril</td>\n",
       "      <td>\"Moochie used to take Melleril, was always cal...</td>\n",
       "      <td>Positive</td>\n",
       "      <td>10.000000</td>\n",
       "      <td>22</td>\n",
       "    </tr>\n",
       "    <tr>\n",
       "      <th>1</th>\n",
       "      <td>schizophrenia</td>\n",
       "      <td>Stelazine</td>\n",
       "      <td>\"Out of all the medications my son uses, this ...</td>\n",
       "      <td>Positive</td>\n",
       "      <td>10.000000</td>\n",
       "      <td>42</td>\n",
       "    </tr>\n",
       "    <tr>\n",
       "      <th>2</th>\n",
       "      <td>schizophrenia</td>\n",
       "      <td>Stelazine</td>\n",
       "      <td>\"This medication saved my life. I had allergic...</td>\n",
       "      <td>Positive</td>\n",
       "      <td>10.000000</td>\n",
       "      <td>38</td>\n",
       "    </tr>\n",
       "    <tr>\n",
       "      <th>3</th>\n",
       "      <td>schizophrenia</td>\n",
       "      <td>Stelazine</td>\n",
       "      <td>\"My wife used this, initially higher dose and ...</td>\n",
       "      <td>Positive</td>\n",
       "      <td>10.000000</td>\n",
       "      <td>2</td>\n",
       "    </tr>\n",
       "    <tr>\n",
       "      <th>4</th>\n",
       "      <td>schizophrenia</td>\n",
       "      <td>Trifluoperazine</td>\n",
       "      <td>\"My wife used this, initially higher dose and ...</td>\n",
       "      <td>Positive</td>\n",
       "      <td>9.965909</td>\n",
       "      <td>2</td>\n",
       "    </tr>\n",
       "  </tbody>\n",
       "</table>\n",
       "</div>"
      ],
      "text/plain": [
       "         Disease             Drug  \\\n",
       "0  schizophrenia         Mellaril   \n",
       "1  schizophrenia        Stelazine   \n",
       "2  schizophrenia        Stelazine   \n",
       "3  schizophrenia        Stelazine   \n",
       "4  schizophrenia  Trifluoperazine   \n",
       "\n",
       "                                              Review Review_Sentiment  \\\n",
       "0  \"Moochie used to take Melleril, was always cal...         Positive   \n",
       "1  \"Out of all the medications my son uses, this ...         Positive   \n",
       "2  \"This medication saved my life. I had allergic...         Positive   \n",
       "3  \"My wife used this, initially higher dose and ...         Positive   \n",
       "4  \"My wife used this, initially higher dose and ...         Positive   \n",
       "\n",
       "   Rating_Wavg  UsefulCount  \n",
       "0    10.000000           22  \n",
       "1    10.000000           42  \n",
       "2    10.000000           38  \n",
       "3    10.000000            2  \n",
       "4     9.965909            2  "
      ]
     },
     "execution_count": 41,
     "metadata": {},
     "output_type": "execute_result"
    }
   ],
   "source": [
    "merged_wavg.head()"
   ]
  },
  {
   "cell_type": "code",
   "execution_count": 42,
   "metadata": {
    "colab": {},
    "colab_type": "code",
    "id": "yQB6-Ec2PCcx"
   },
   "outputs": [],
   "source": [
    "# Taking predicted disease as input and recommending drug based on highest weighted average and useful count of ratings\n",
    "groupedByCount = merged_wavg.groupby(['Disease', 'Drug', 'Rating_Wavg'])['UsefulCount'].sum().reset_index()"
   ]
  },
  {
   "cell_type": "code",
   "execution_count": 43,
   "metadata": {
    "colab": {
     "base_uri": "https://localhost:8080/",
     "height": 419
    },
    "colab_type": "code",
    "id": "RQusr8yePTTy",
    "outputId": "31cd327f-43e2-4385-a4cf-0d35c2110260"
   },
   "outputs": [
    {
     "data": {
      "text/html": [
       "<div>\n",
       "<style scoped>\n",
       "    .dataframe tbody tr th:only-of-type {\n",
       "        vertical-align: middle;\n",
       "    }\n",
       "\n",
       "    .dataframe tbody tr th {\n",
       "        vertical-align: top;\n",
       "    }\n",
       "\n",
       "    .dataframe thead th {\n",
       "        text-align: right;\n",
       "    }\n",
       "</style>\n",
       "<table border=\"1\" class=\"dataframe\">\n",
       "  <thead>\n",
       "    <tr style=\"text-align: right;\">\n",
       "      <th></th>\n",
       "      <th>Disease</th>\n",
       "      <th>Drug</th>\n",
       "      <th>Rating_Wavg</th>\n",
       "      <th>UsefulCount</th>\n",
       "    </tr>\n",
       "  </thead>\n",
       "  <tbody>\n",
       "    <tr>\n",
       "      <th>0</th>\n",
       "      <td>anemia</td>\n",
       "      <td>Epoetin alfa</td>\n",
       "      <td>4.285714</td>\n",
       "      <td>3</td>\n",
       "    </tr>\n",
       "    <tr>\n",
       "      <th>1</th>\n",
       "      <td>anemia</td>\n",
       "      <td>Ferralet 90</td>\n",
       "      <td>10.000000</td>\n",
       "      <td>9</td>\n",
       "    </tr>\n",
       "    <tr>\n",
       "      <th>2</th>\n",
       "      <td>anemia</td>\n",
       "      <td>Integra</td>\n",
       "      <td>10.000000</td>\n",
       "      <td>13</td>\n",
       "    </tr>\n",
       "    <tr>\n",
       "      <th>3</th>\n",
       "      <td>anemia</td>\n",
       "      <td>Integra F</td>\n",
       "      <td>9.000000</td>\n",
       "      <td>29</td>\n",
       "    </tr>\n",
       "    <tr>\n",
       "      <th>4</th>\n",
       "      <td>anemia</td>\n",
       "      <td>Maxaron Forte</td>\n",
       "      <td>5.238095</td>\n",
       "      <td>5</td>\n",
       "    </tr>\n",
       "    <tr>\n",
       "      <th>...</th>\n",
       "      <td>...</td>\n",
       "      <td>...</td>\n",
       "      <td>...</td>\n",
       "      <td>...</td>\n",
       "    </tr>\n",
       "    <tr>\n",
       "      <th>276</th>\n",
       "      <td>schizophrenia</td>\n",
       "      <td>Trifluoperazine</td>\n",
       "      <td>9.965909</td>\n",
       "      <td>85</td>\n",
       "    </tr>\n",
       "    <tr>\n",
       "      <th>277</th>\n",
       "      <td>schizophrenia</td>\n",
       "      <td>Vraylar</td>\n",
       "      <td>8.288793</td>\n",
       "      <td>151</td>\n",
       "    </tr>\n",
       "    <tr>\n",
       "      <th>278</th>\n",
       "      <td>schizophrenia</td>\n",
       "      <td>Ziprasidone</td>\n",
       "      <td>7.776451</td>\n",
       "      <td>415</td>\n",
       "    </tr>\n",
       "    <tr>\n",
       "      <th>279</th>\n",
       "      <td>schizophrenia</td>\n",
       "      <td>Zyprexa</td>\n",
       "      <td>7.338843</td>\n",
       "      <td>533</td>\n",
       "    </tr>\n",
       "    <tr>\n",
       "      <th>280</th>\n",
       "      <td>schizophrenia</td>\n",
       "      <td>Zyprexa Zydis</td>\n",
       "      <td>6.304348</td>\n",
       "      <td>19</td>\n",
       "    </tr>\n",
       "  </tbody>\n",
       "</table>\n",
       "<p>281 rows × 4 columns</p>\n",
       "</div>"
      ],
      "text/plain": [
       "           Disease             Drug  Rating_Wavg  UsefulCount\n",
       "0           anemia     Epoetin alfa     4.285714            3\n",
       "1           anemia      Ferralet 90    10.000000            9\n",
       "2           anemia          Integra    10.000000           13\n",
       "3           anemia        Integra F     9.000000           29\n",
       "4           anemia    Maxaron Forte     5.238095            5\n",
       "..             ...              ...          ...          ...\n",
       "276  schizophrenia  Trifluoperazine     9.965909           85\n",
       "277  schizophrenia          Vraylar     8.288793          151\n",
       "278  schizophrenia      Ziprasidone     7.776451          415\n",
       "279  schizophrenia          Zyprexa     7.338843          533\n",
       "280  schizophrenia    Zyprexa Zydis     6.304348           19\n",
       "\n",
       "[281 rows x 4 columns]"
      ]
     },
     "execution_count": 43,
     "metadata": {},
     "output_type": "execute_result"
    }
   ],
   "source": [
    "groupedByCount"
   ]
  },
  {
   "cell_type": "code",
   "execution_count": 44,
   "metadata": {
    "colab": {},
    "colab_type": "code",
    "id": "5gnPFAL2PU_p"
   },
   "outputs": [],
   "source": [
    "groupedByDisease = groupedByCount.groupby('Disease')"
   ]
  },
  {
   "cell_type": "markdown",
   "metadata": {
    "colab_type": "text",
    "id": "lXjtflvWRuna"
   },
   "source": [
    "Recommending drug based on the disease predicted above"
   ]
  },
  {
   "cell_type": "code",
   "execution_count": 45,
   "metadata": {
    "colab": {
     "base_uri": "https://localhost:8080/",
     "height": 142
    },
    "colab_type": "code",
    "id": "O7VzUaVJPXeM",
    "outputId": "843335bf-6e8b-4939-c9ff-555648853e05"
   },
   "outputs": [
    {
     "data": {
      "text/html": [
       "<div>\n",
       "<style scoped>\n",
       "    .dataframe tbody tr th:only-of-type {\n",
       "        vertical-align: middle;\n",
       "    }\n",
       "\n",
       "    .dataframe tbody tr th {\n",
       "        vertical-align: top;\n",
       "    }\n",
       "\n",
       "    .dataframe thead th {\n",
       "        text-align: right;\n",
       "    }\n",
       "</style>\n",
       "<table border=\"1\" class=\"dataframe\">\n",
       "  <thead>\n",
       "    <tr style=\"text-align: right;\">\n",
       "      <th></th>\n",
       "      <th>Disease</th>\n",
       "      <th>Drug</th>\n",
       "      <th>Rating_Wavg</th>\n",
       "      <th>UsefulCount</th>\n",
       "    </tr>\n",
       "  </thead>\n",
       "  <tbody>\n",
       "    <tr>\n",
       "      <th>2</th>\n",
       "      <td>anemia</td>\n",
       "      <td>Integra</td>\n",
       "      <td>10.0</td>\n",
       "      <td>13</td>\n",
       "    </tr>\n",
       "    <tr>\n",
       "      <th>1</th>\n",
       "      <td>anemia</td>\n",
       "      <td>Ferralet 90</td>\n",
       "      <td>10.0</td>\n",
       "      <td>9</td>\n",
       "    </tr>\n",
       "    <tr>\n",
       "      <th>3</th>\n",
       "      <td>anemia</td>\n",
       "      <td>Integra F</td>\n",
       "      <td>9.0</td>\n",
       "      <td>29</td>\n",
       "    </tr>\n",
       "  </tbody>\n",
       "</table>\n",
       "</div>"
      ],
      "text/plain": [
       "  Disease         Drug  Rating_Wavg  UsefulCount\n",
       "2  anemia      Integra         10.0           13\n",
       "1  anemia  Ferralet 90         10.0            9\n",
       "3  anemia    Integra F          9.0           29"
      ]
     },
     "execution_count": 45,
     "metadata": {},
     "output_type": "execute_result"
    }
   ],
   "source": [
    "recommended_drug = pd.DataFrame(groupedByDisease.get_group((predicted_disease[0]).lower()).nlargest(3, ['Rating_Wavg', 'UsefulCount']))\n",
    "recommended_drug"
   ]
  },
  {
   "cell_type": "code",
   "execution_count": 102,
   "metadata": {
    "colab": {
     "base_uri": "https://localhost:8080/",
     "height": 51
    },
    "colab_type": "code",
    "id": "EaEosXZ2PZ0K",
    "outputId": "643b1439-aed0-4455-8b4f-f0816e86c900"
   },
   "outputs": [
    {
     "name": "stdout",
     "output_type": "stream",
     "text": [
      "Advocated drugs for this disease are:\n",
      "  ['INTEGRA' 'FERRALET 90' 'INTEGRA F']\n"
     ]
    }
   ],
   "source": [
    "print(\"Advocated drugs for this disease are:\\n \", recommended_drug[\"Drug\"].unique())"
   ]
  },
  {
   "cell_type": "code",
   "execution_count": null,
   "metadata": {},
   "outputs": [],
   "source": []
  }
 ],
 "metadata": {
  "colab": {
   "include_colab_link": true,
   "name": "drug_recommendation_system",
   "provenance": []
  },
  "kernelspec": {
   "display_name": "Python 3",
   "language": "python",
   "name": "python3"
  },
  "language_info": {
   "codemirror_mode": {
    "name": "ipython",
    "version": 3
   },
   "file_extension": ".py",
   "mimetype": "text/x-python",
   "name": "python",
   "nbconvert_exporter": "python",
   "pygments_lexer": "ipython3",
   "version": "3.8.5"
  }
 },
 "nbformat": 4,
 "nbformat_minor": 1
}
