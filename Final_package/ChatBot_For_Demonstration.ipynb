{
 "cells": [
  {
   "cell_type": "code",
   "execution_count": 1,
   "metadata": {
    "colab": {
     "base_uri": "https://localhost:8080/",
     "height": 1000
    },
    "colab_type": "code",
    "id": "jHsCJ_cqX5yi",
    "outputId": "445f9f6d-769f-4fe7-9e5f-857e2dff627c"
   },
   "outputs": [
    {
     "name": "stdout",
     "output_type": "stream",
     "text": [
      "Collecting chatterBot"
     ]
    },
    {
     "name": "stderr",
     "output_type": "stream",
     "text": [
      "  ERROR: Command errored out with exit status 1:\n",
      "   command: 'C:\\Users\\sanjay\\anaconda3\\python.exe' 'C:\\Users\\sanjay\\anaconda3\\lib\\site-packages\\pip' install --ignore-installed --no-user --prefix 'C:\\Users\\sanjay\\AppData\\Local\\Temp\\pip-build-env-aoi16jxp\\overlay' --no-warn-script-location --no-binary :none: --only-binary :none: -i https://pypi.org/simple -- setuptools 'wheel>0.32.0,<0.33.0' Cython 'cymem>=2.0.2,<2.1.0' 'preshed>=2.0.1,<2.1.0' 'murmurhash>=0.28.0,<1.1.0' 'thinc>=7.0.8,<7.1.0'\n",
      "       cwd: None\n",
      "  Complete output (45 lines):\n",
      "  Collecting setuptools\n",
      "    Downloading setuptools-57.0.0-py3-none-any.whl (821 kB)\n",
      "  Collecting wheel<0.33.0,>0.32.0\n",
      "    Using cached wheel-0.32.3-py2.py3-none-any.whl (21 kB)\n",
      "  Collecting Cython\n",
      "    Using cached Cython-0.29.23-cp38-cp38-win_amd64.whl (1.7 MB)\n",
      "  Collecting cymem<2.1.0,>=2.0.2\n",
      "    Using cached cymem-2.0.5-cp38-cp38-win_amd64.whl (36 kB)\n"
     ]
    },
    {
     "name": "stdout",
     "output_type": "stream",
     "text": [
      "\n",
      "  Using cached ChatterBot-1.0.5-py2.py3-none-any.whl (67 kB)\n",
      "Collecting spacy<2.2,>=2.1\n",
      "  Using cached spacy-2.1.9.tar.gz (30.7 MB)\n",
      "  Installing build dependencies: started\n",
      "  Installing build dependencies: finished with status 'error'\n"
     ]
    },
    {
     "name": "stderr",
     "output_type": "stream",
     "text": [
      "  Collecting preshed<2.1.0,>=2.0.1\n",
      "    Using cached preshed-2.0.1.tar.gz (113 kB)\n",
      "      ERROR: Command errored out with exit status 1:\n",
      "       command: 'C:\\Users\\sanjay\\anaconda3\\python.exe' -c 'import sys, setuptools, tokenize; sys.argv[0] = '\"'\"'C:\\\\Users\\\\sanjay\\\\AppData\\\\Local\\\\Temp\\\\pip-install-4zt3kxe0\\\\preshed\\\\setup.py'\"'\"'; __file__='\"'\"'C:\\\\Users\\\\sanjay\\\\AppData\\\\Local\\\\Temp\\\\pip-install-4zt3kxe0\\\\preshed\\\\setup.py'\"'\"';f=getattr(tokenize, '\"'\"'open'\"'\"', open)(__file__);code=f.read().replace('\"'\"'\\r\\n'\"'\"', '\"'\"'\\n'\"'\"');f.close();exec(compile(code, __file__, '\"'\"'exec'\"'\"'))' egg_info --egg-base 'C:\\Users\\sanjay\\AppData\\Local\\Temp\\pip-pip-egg-info-dps7onji'\n",
      "           cwd: C:\\Users\\sanjay\\AppData\\Local\\Temp\\pip-install-4zt3kxe0\\preshed\\\n",
      "      Complete output (29 lines):\n",
      "      Traceback (most recent call last):\n",
      "        File \"<string>\", line 1, in <module>\n",
      "        File \"C:\\Users\\sanjay\\AppData\\Local\\Temp\\pip-install-4zt3kxe0\\preshed\\setup.py\", line 149, in <module>\n",
      "          setup_package()\n",
      "        File \"C:\\Users\\sanjay\\AppData\\Local\\Temp\\pip-install-4zt3kxe0\\preshed\\setup.py\", line 114, in setup_package\n",
      "          setup(\n",
      "        File \"C:\\Users\\sanjay\\anaconda3\\lib\\site-packages\\setuptools\\__init__.py\", line 152, in setup\n",
      "          _install_setup_requires(attrs)\n",
      "        File \"C:\\Users\\sanjay\\anaconda3\\lib\\site-packages\\setuptools\\__init__.py\", line 147, in _install_setup_requires\n",
      "          dist.fetch_build_eggs(dist.setup_requires)\n",
      "        File \"C:\\Users\\sanjay\\anaconda3\\lib\\site-packages\\setuptools\\dist.py\", line 673, in fetch_build_eggs\n",
      "          resolved_dists = pkg_resources.working_set.resolve(\n",
      "        File \"C:\\Users\\sanjay\\anaconda3\\lib\\site-packages\\pkg_resources\\__init__.py\", line 764, in resolve\n",
      "          dist = best[req.key] = env.best_match(\n",
      "        File \"C:\\Users\\sanjay\\anaconda3\\lib\\site-packages\\pkg_resources\\__init__.py\", line 1049, in best_match\n",
      "          return self.obtain(req, installer)\n",
      "        File \"C:\\Users\\sanjay\\anaconda3\\lib\\site-packages\\pkg_resources\\__init__.py\", line 1061, in obtain\n",
      "          return installer(requirement)\n",
      "        File \"C:\\Users\\sanjay\\anaconda3\\lib\\site-packages\\setuptools\\dist.py\", line 732, in fetch_build_egg\n",
      "          return fetch_build_egg(self, req)\n",
      "        File \"C:\\Users\\sanjay\\anaconda3\\lib\\site-packages\\setuptools\\installer.py\", line 131, in fetch_build_egg\n",
      "          wheel.install_as_egg(dist_location)\n",
      "        File \"C:\\Users\\sanjay\\anaconda3\\lib\\site-packages\\setuptools\\wheel.py\", line 95, in install_as_egg\n",
      "          self._install_as_egg(destination_eggdir, zf)\n",
      "        File \"C:\\Users\\sanjay\\anaconda3\\lib\\site-packages\\setuptools\\wheel.py\", line 103, in _install_as_egg\n",
      "          self._convert_metadata(zf, destination_eggdir, dist_info, egg_info)\n",
      "        File \"C:\\Users\\sanjay\\anaconda3\\lib\\site-packages\\setuptools\\wheel.py\", line 148, in _convert_metadata\n",
      "          os.rename(dist_info, egg_info)\n",
      "      PermissionError: [WinError 5] Access is denied: 'C:\\\\Users\\\\sanjay\\\\AppData\\\\Local\\\\Temp\\\\pip-install-4zt3kxe0\\\\preshed\\\\.eggs\\\\wheel-0.32.3-py3.8.egg\\\\wheel-0.32.3.dist-info' -> 'C:\\\\Users\\\\sanjay\\\\AppData\\\\Local\\\\Temp\\\\pip-install-4zt3kxe0\\\\preshed\\\\.eggs\\\\wheel-0.32.3-py3.8.egg\\\\EGG-INFO'\n",
      "      ----------------------------------------\n",
      "  ERROR: Command errored out with exit status 1: python setup.py egg_info Check the logs for full command output.\n",
      "  ----------------------------------------\n",
      "ERROR: Command errored out with exit status 1: 'C:\\Users\\sanjay\\anaconda3\\python.exe' 'C:\\Users\\sanjay\\anaconda3\\lib\\site-packages\\pip' install --ignore-installed --no-user --prefix 'C:\\Users\\sanjay\\AppData\\Local\\Temp\\pip-build-env-aoi16jxp\\overlay' --no-warn-script-location --no-binary :none: --only-binary :none: -i https://pypi.org/simple -- setuptools 'wheel>0.32.0,<0.33.0' Cython 'cymem>=2.0.2,<2.1.0' 'preshed>=2.0.1,<2.1.0' 'murmurhash>=0.28.0,<1.1.0' 'thinc>=7.0.8,<7.1.0' Check the logs for full command output.\n"
     ]
    },
    {
     "name": "stdout",
     "output_type": "stream",
     "text": [
      "Requirement already satisfied: chatbotAI in c:\\users\\sanjay\\anaconda3\\lib\\site-packages (0.3.1.0)\n",
      "Requirement already satisfied: requests in c:\\users\\sanjay\\anaconda3\\lib\\site-packages (from chatbotAI) (2.24.0)\n",
      "Requirement already satisfied: certifi>=2017.4.17 in c:\\users\\sanjay\\anaconda3\\lib\\site-packages (from requests->chatbotAI) (2020.6.20)\n",
      "Requirement already satisfied: idna<3,>=2.5 in c:\\users\\sanjay\\anaconda3\\lib\\site-packages (from requests->chatbotAI) (2.10)\n",
      "Requirement already satisfied: chardet<4,>=3.0.2 in c:\\users\\sanjay\\anaconda3\\lib\\site-packages (from requests->chatbotAI) (3.0.4)\n",
      "Requirement already satisfied: urllib3!=1.25.0,!=1.25.1,<1.26,>=1.21.1 in c:\\users\\sanjay\\anaconda3\\lib\\site-packages (from requests->chatbotAI) (1.25.11)\n",
      "Collecting chatterbot-corpus\n",
      "  Using cached chatterbot_corpus-1.2.0-py2.py3-none-any.whl (117 kB)\n",
      "Processing c:\\users\\sanjay\\appdata\\local\\pip\\cache\\wheels\\db\\f2\\07\\5e58b12bc11255c3fc0a0aca89849050a8ec203d8b4a3c52c0\\pyyaml-3.13-cp38-cp38-win_amd64.whl\n",
      "Installing collected packages: PyYAML, chatterbot-corpus\n",
      "  Attempting uninstall: PyYAML\n",
      "    Found existing installation: PyYAML 5.3.1"
     ]
    },
    {
     "name": "stderr",
     "output_type": "stream",
     "text": [
      "ERROR: Cannot uninstall 'PyYAML'. It is a distutils installed project and thus we cannot accurately determine which files belong to it which would lead to only a partial uninstall.\n"
     ]
    },
    {
     "name": "stdout",
     "output_type": "stream",
     "text": [
      "\n",
      "Requirement already satisfied: wikipedia in c:\\users\\sanjay\\anaconda3\\lib\\site-packages (1.4.0)\n",
      "Requirement already satisfied: beautifulsoup4 in c:\\users\\sanjay\\anaconda3\\lib\\site-packages (from wikipedia) (4.9.3)\n",
      "Requirement already satisfied: requests<3.0.0,>=2.0.0 in c:\\users\\sanjay\\anaconda3\\lib\\site-packages (from wikipedia) (2.24.0)\n",
      "Requirement already satisfied: soupsieve>1.2; python_version >= \"3.0\" in c:\\users\\sanjay\\anaconda3\\lib\\site-packages (from beautifulsoup4->wikipedia) (2.0.1)\n",
      "Requirement already satisfied: chardet<4,>=3.0.2 in c:\\users\\sanjay\\anaconda3\\lib\\site-packages (from requests<3.0.0,>=2.0.0->wikipedia) (3.0.4)\n",
      "Requirement already satisfied: idna<3,>=2.5 in c:\\users\\sanjay\\anaconda3\\lib\\site-packages (from requests<3.0.0,>=2.0.0->wikipedia) (2.10)\n",
      "Requirement already satisfied: urllib3!=1.25.0,!=1.25.1,<1.26,>=1.21.1 in c:\\users\\sanjay\\anaconda3\\lib\\site-packages (from requests<3.0.0,>=2.0.0->wikipedia) (1.25.11)\n",
      "Requirement already satisfied: certifi>=2017.4.17 in c:\\users\\sanjay\\anaconda3\\lib\\site-packages (from requests<3.0.0,>=2.0.0->wikipedia) (2020.6.20)\n",
      "Requirement already satisfied: Wikipedia-API in c:\\users\\sanjay\\anaconda3\\lib\\site-packages (0.5.4)\n",
      "Requirement already satisfied: requests in c:\\users\\sanjay\\anaconda3\\lib\\site-packages (from Wikipedia-API) (2.24.0)\n",
      "Requirement already satisfied: certifi>=2017.4.17 in c:\\users\\sanjay\\anaconda3\\lib\\site-packages (from requests->Wikipedia-API) (2020.6.20)\n",
      "Requirement already satisfied: chardet<4,>=3.0.2 in c:\\users\\sanjay\\anaconda3\\lib\\site-packages (from requests->Wikipedia-API) (3.0.4)\n",
      "Requirement already satisfied: urllib3!=1.25.0,!=1.25.1,<1.26,>=1.21.1 in c:\\users\\sanjay\\anaconda3\\lib\\site-packages (from requests->Wikipedia-API) (1.25.11)\n",
      "Requirement already satisfied: idna<3,>=2.5 in c:\\users\\sanjay\\anaconda3\\lib\\site-packages (from requests->Wikipedia-API) (2.10)\n",
      "Requirement already satisfied: flask-ngrok in c:\\users\\sanjay\\anaconda3\\lib\\site-packages (0.0.25)\n",
      "Requirement already satisfied: Flask>=0.8 in c:\\users\\sanjay\\anaconda3\\lib\\site-packages (from flask-ngrok) (1.1.2)\n",
      "Requirement already satisfied: requests in c:\\users\\sanjay\\anaconda3\\lib\\site-packages (from flask-ngrok) (2.24.0)\n",
      "Requirement already satisfied: itsdangerous>=0.24 in c:\\users\\sanjay\\anaconda3\\lib\\site-packages (from Flask>=0.8->flask-ngrok) (1.1.0)\n",
      "Requirement already satisfied: Jinja2>=2.10.1 in c:\\users\\sanjay\\anaconda3\\lib\\site-packages (from Flask>=0.8->flask-ngrok) (2.11.2)\n",
      "Requirement already satisfied: Werkzeug>=0.15 in c:\\users\\sanjay\\anaconda3\\lib\\site-packages (from Flask>=0.8->flask-ngrok) (1.0.1)\n",
      "Requirement already satisfied: click>=5.1 in c:\\users\\sanjay\\anaconda3\\lib\\site-packages (from Flask>=0.8->flask-ngrok) (7.1.2)\n",
      "Requirement already satisfied: urllib3!=1.25.0,!=1.25.1,<1.26,>=1.21.1 in c:\\users\\sanjay\\anaconda3\\lib\\site-packages (from requests->flask-ngrok) (1.25.11)\n",
      "Requirement already satisfied: idna<3,>=2.5 in c:\\users\\sanjay\\anaconda3\\lib\\site-packages (from requests->flask-ngrok) (2.10)\n",
      "Requirement already satisfied: chardet<4,>=3.0.2 in c:\\users\\sanjay\\anaconda3\\lib\\site-packages (from requests->flask-ngrok) (3.0.4)\n",
      "Requirement already satisfied: certifi>=2017.4.17 in c:\\users\\sanjay\\anaconda3\\lib\\site-packages (from requests->flask-ngrok) (2020.6.20)\n",
      "Requirement already satisfied: MarkupSafe>=0.23 in c:\\users\\sanjay\\anaconda3\\lib\\site-packages (from Jinja2>=2.10.1->Flask>=0.8->flask-ngrok) (1.1.1)\n"
     ]
    }
   ],
   "source": [
    "!pip install chatterBot\n",
    "!pip install chatbotAI\n",
    "!pip install chatterbot-corpus\n",
    "!pip install wikipedia\n",
    "!pip install Wikipedia-API\n",
    "!pip install flask-ngrok"
   ]
  },
  {
   "cell_type": "code",
   "execution_count": 2,
   "metadata": {
    "colab": {
     "base_uri": "https://localhost:8080/",
     "height": 134
    },
    "colab_type": "code",
    "id": "H-C2xi-bYAfd",
    "outputId": "b6f91157-c5cc-4523-91c0-5cd242c46ccd"
   },
   "outputs": [
    {
     "ename": "ModuleNotFoundError",
     "evalue": "No module named 'chatterbot'",
     "output_type": "error",
     "traceback": [
      "\u001b[1;31m---------------------------------------------------------------------------\u001b[0m",
      "\u001b[1;31mModuleNotFoundError\u001b[0m                       Traceback (most recent call last)",
      "\u001b[1;32m<ipython-input-2-9ea3b0814a78>\u001b[0m in \u001b[0;36m<module>\u001b[1;34m\u001b[0m\n\u001b[1;32m----> 1\u001b[1;33m \u001b[1;32mfrom\u001b[0m \u001b[0mchatterbot\u001b[0m \u001b[1;32mimport\u001b[0m \u001b[0mChatBot\u001b[0m\u001b[1;33m\u001b[0m\u001b[1;33m\u001b[0m\u001b[0m\n\u001b[0m\u001b[0;32m      2\u001b[0m \u001b[1;32mfrom\u001b[0m \u001b[0mchatterbot\u001b[0m\u001b[1;33m.\u001b[0m\u001b[0mtrainers\u001b[0m \u001b[1;32mimport\u001b[0m \u001b[0mListTrainer\u001b[0m\u001b[1;33m\u001b[0m\u001b[1;33m\u001b[0m\u001b[0m\n\u001b[0;32m      3\u001b[0m \u001b[1;32mfrom\u001b[0m \u001b[0mchatterbot\u001b[0m\u001b[1;33m.\u001b[0m\u001b[0mtrainers\u001b[0m \u001b[1;32mimport\u001b[0m \u001b[0mChatterBotCorpusTrainer\u001b[0m\u001b[1;33m\u001b[0m\u001b[1;33m\u001b[0m\u001b[0m\n\u001b[0;32m      4\u001b[0m \u001b[1;32mimport\u001b[0m \u001b[0mos\u001b[0m\u001b[1;33m\u001b[0m\u001b[1;33m\u001b[0m\u001b[0m\n\u001b[0;32m      5\u001b[0m \u001b[1;32mimport\u001b[0m \u001b[0mwikipediaapi\u001b[0m\u001b[1;33m\u001b[0m\u001b[1;33m\u001b[0m\u001b[0m\n",
      "\u001b[1;31mModuleNotFoundError\u001b[0m: No module named 'chatterbot'"
     ]
    }
   ],
   "source": [
    "from chatterbot import ChatBot\n",
    "from chatterbot.trainers import ListTrainer\n",
    "from chatterbot.trainers import ChatterBotCorpusTrainer\n",
    "import os\n",
    "import wikipediaapi\n",
    "from flask import Flask, render_template, request\n",
    "# from chatbot import Chat,reflections,multiFunctionCall\n",
    "# import wikipedia\n",
    "import nltk\n",
    "import random\n",
    "import string\n",
    "import re, string, unicodedata\n",
    "from nltk.corpus import wordnet as wn\n",
    "from nltk.stem.wordnet import WordNetLemmatizer\n",
    "import wikipedia as wk\n",
    "from collections import defaultdict\n",
    "import warnings\n",
    "warnings.filterwarnings(\"ignore\")\n",
    "nltk.download('punkt') \n",
    "nltk.download('wordnet')\n",
    "nltk.download('averaged_perceptron_tagger')\n",
    "from sklearn.feature_extraction.text import TfidfVectorizer\n",
    "from sklearn.metrics.pairwise import cosine_similarity, linear_kernel\n",
    "import pandas as pd \n",
    "import numpy as np\n",
    "import matplotlib.pyplot as plt\n",
    "\n",
    "from chatterbot.trainers import ListTrainer"
   ]
  },
  {
   "cell_type": "code",
   "execution_count": null,
   "metadata": {
    "colab": {
     "base_uri": "https://localhost:8080/",
     "height": 435
    },
    "colab_type": "code",
    "id": "oW3ugd73Ynvh",
    "outputId": "b7d58fc8-e20e-4443-bee8-282005500b73"
   },
   "outputs": [],
   "source": [
    "bot=ChatBot(\"Anurag\")\n",
    "trainer = ChatterBotCorpusTrainer(bot)\n",
    "# Training \n",
    "trainer.train(\"chatterbot.corpus.english\")"
   ]
  },
  {
   "cell_type": "markdown",
   "metadata": {
    "colab_type": "text",
    "id": "Xy8YL4NaY31b"
   },
   "source": [
    "#Disease Prediction using symptoms"
   ]
  },
  {
   "cell_type": "code",
   "execution_count": null,
   "metadata": {
    "colab": {},
    "colab_type": "code",
    "id": "ITfSU0xDbLCB"
   },
   "outputs": [],
   "source": [
    "# Reading the symptoms dataset\n",
    "sym_data = pd.read_csv(\"/content/drive/My Drive/gtdt/symptoms_data.csv\")\n",
    "\n",
    "sym_data = pd.concat([sym_data]*2, ignore_index=True)\n",
    "cols = sym_data.columns\n",
    "cols = cols[1:]\n",
    "\n",
    "x = sym_data[cols]\n",
    "y = sym_data['Disease']\n",
    "\n",
    "\n",
    "#Split data into train test\n",
    "from sklearn.model_selection import train_test_split\n",
    "x_train, x_test, y_train, y_test = train_test_split(x, y, test_size=0.33, random_state=42)"
   ]
  },
  {
   "cell_type": "markdown",
   "metadata": {
    "colab_type": "text",
    "id": "RCXvqdcnbSh5"
   },
   "source": [
    "Training the Multinomial Naive Bayes classifier model. "
   ]
  },
  {
   "cell_type": "code",
   "execution_count": null,
   "metadata": {
    "colab": {
     "base_uri": "https://localhost:8080/",
     "height": 33
    },
    "colab_type": "code",
    "id": "oWgi8XBvbUDh",
    "outputId": "64c05174-6d8b-4fc6-9c4a-ddfaab309035"
   },
   "outputs": [],
   "source": [
    "from sklearn.naive_bayes import MultinomialNB\n",
    "mnb = MultinomialNB()\n",
    "clf_mnb=mnb.fit(x_train,y_train)\n",
    "print (\"Acurracy: \", clf_mnb.score(x_test,y_test))"
   ]
  },
  {
   "cell_type": "markdown",
   "metadata": {
    "colab_type": "text",
    "id": "6K7mcVNQbaVO"
   },
   "source": [
    "Taking symptom from user input for disease prediction"
   ]
  },
  {
   "cell_type": "code",
   "execution_count": null,
   "metadata": {
    "colab": {
     "base_uri": "https://localhost:8080/",
     "height": 33
    },
    "colab_type": "code",
    "id": "PYrtvS-VbXAw",
    "outputId": "493dbffa-fe51-4f5c-9b74-75f1b1263fca"
   },
   "outputs": [],
   "source": [
    "features = cols\n",
    "feature_dict = {}\n",
    "for i,f in enumerate(features):\n",
    "    feature_dict[f] = i\n",
    "\n",
    "input_features = [feature_dict['decreased body weight'], feature_dict['cough'], feature_dict['dyspnea']]\n",
    "input_features"
   ]
  },
  {
   "cell_type": "code",
   "execution_count": null,
   "metadata": {
    "colab": {},
    "colab_type": "code",
    "id": "MlPn3CQabdDb"
   },
   "outputs": [],
   "source": [
    "arr =[]\n",
    "for i in range(len(features)):\n",
    "  if i == input_features[0]:\n",
    "    i = int(i/input_features[0])\n",
    "  elif i == input_features[1]:\n",
    "    i = int(i/input_features[1])\n",
    "  elif i == input_features[2]:\n",
    "    i = int(i/input_features[2])\n",
    "  else:\n",
    "    i = 0\n",
    "  arr.append(i)\n",
    "\n",
    "arr = np.array(arr).reshape(-1,len(arr))"
   ]
  },
  {
   "cell_type": "code",
   "execution_count": null,
   "metadata": {
    "colab": {
     "base_uri": "https://localhost:8080/",
     "height": 33
    },
    "colab_type": "code",
    "id": "6yJzflygbhWi",
    "outputId": "f47f7678-89a2-4823-abdb-f2cce9d0e40d"
   },
   "outputs": [],
   "source": [
    "predicted_disease = (mnb.predict(arr))\n",
    "print(\"The disease predicted based on given symptoms is : \" + predicted_disease[0])"
   ]
  },
  {
   "cell_type": "markdown",
   "metadata": {
    "colab_type": "text",
    "id": "qW400IeDZCfn"
   },
   "source": [
    "#Recommending drug based on predicted disease"
   ]
  },
  {
   "cell_type": "code",
   "execution_count": null,
   "metadata": {
    "colab": {},
    "colab_type": "code",
    "id": "rlgaQ5Zgbkh-"
   },
   "outputs": [],
   "source": [
    "def drug_recommender_system(disease_predicted):\n",
    "  #Reading the dataset with sentiment analysis of reviews\n",
    "  merged_wavg = pd.read_csv('drive/My Drive/gtdt/Drug_Recommender.csv')\n",
    "  merged_wavg.head()\n",
    "  merged_wavg = merged_wavg.sort_values(['Disease','Rating_Wavg'],ascending=False, ignore_index=True).groupby('Disease').head(10060)\n",
    "  merged_wavg[\"Review_Sentiment\"].unique()\n",
    "\n",
    "  # Taking drugs only with positive reviews for recommendation\n",
    "  merged_wavg = merged_wavg.drop( merged_wavg[merged_wavg['Review_Sentiment'] == \"Negative\"].index)\n",
    "  merged_wavg = merged_wavg.drop( merged_wavg[merged_wavg['Review_Sentiment'] == \"Neutral\"].index)\n",
    "\n",
    "  # Taking predicted disease as input and recommending drug based on highest weighted average of ratings\n",
    "  grouped = merged_wavg.groupby('Disease')\n",
    "  disease_predicted = disease_predicted.lower()\n",
    "  recommended_drug = pd.DataFrame(grouped.get_group(disease_predicted).nlargest(1,['Rating_Wavg']))\n",
    "  recommended_drug.Drug = recommended_drug.Drug.str.upper()\n",
    "  recommended_drug = recommended_drug.drop(columns= ['Review', 'Review_Sentiment','Rating_Wavg'])\n",
    "\n",
    "  recDrug = list(recommended_drug[\"Drug\"])\n",
    "  print(recDrug[0])\n",
    "  return recDrug[0]"
   ]
  },
  {
   "cell_type": "code",
   "execution_count": null,
   "metadata": {
    "colab": {
     "base_uri": "https://localhost:8080/",
     "height": 196
    },
    "colab_type": "code",
    "id": "a_mDbNp4bo_c",
    "outputId": "48d56d9b-2c7d-4c5b-8f13-2e814ca13fff"
   },
   "outputs": [],
   "source": [
    "#Reading the dataset with sentiment analysis of reviews\n",
    "merged_wavg = pd.read_csv('drive/My Drive/gtdt/Drug_Recommender.csv')\n",
    "merged_wavg.head()"
   ]
  },
  {
   "cell_type": "code",
   "execution_count": null,
   "metadata": {
    "colab": {},
    "colab_type": "code",
    "id": "F3mRH2Yub3pb"
   },
   "outputs": [],
   "source": [
    "merged_wavg = merged_wavg.sort_values(['Disease','Rating_Wavg'],ascending=False, ignore_index=True).groupby('Disease').head(10060)\n",
    "merged_wavg[\"Review_Sentiment\"].unique()\n",
    "\n",
    "# Taking drugs only with positive reviews for recommendation\n",
    "merged_wavg = merged_wavg.drop( merged_wavg[merged_wavg['Review_Sentiment'] == \"Negative\"].index)\n",
    "merged_wavg = merged_wavg.drop( merged_wavg[merged_wavg['Review_Sentiment'] == \"Neutral\"].index)"
   ]
  },
  {
   "cell_type": "code",
   "execution_count": null,
   "metadata": {
    "colab": {},
    "colab_type": "code",
    "id": "PURq-uirb7Ne"
   },
   "outputs": [],
   "source": [
    "# Taking predicted disease as input and recommending drug based on highest weighted average of ratings\n",
    "grouped = merged_wavg.groupby('Disease')\n",
    "recommended_drug = pd.DataFrame(grouped.get_group((predicted_disease[0]).lower()).nlargest(1,['Rating_Wavg']))\n",
    "recommended_drug.Drug = recommended_drug.Drug.str.upper()\n",
    "recommended_drug = recommended_drug.drop(columns= ['Review', 'Review_Sentiment','Rating_Wavg'])"
   ]
  },
  {
   "cell_type": "markdown",
   "metadata": {
    "colab_type": "text",
    "id": "m9sVdkpEZFMR"
   },
   "source": [
    "#Extracting side effects for recommended drug"
   ]
  },
  {
   "cell_type": "code",
   "execution_count": null,
   "metadata": {
    "colab": {},
    "colab_type": "code",
    "id": "mQPZW50eboM8"
   },
   "outputs": [],
   "source": [
    "sd = pd.read_csv('/content/drive/My Drive/gtdt/SideEffects_preprocessed.csv')\n",
    "\n",
    "def _weights(df, w1, w2, w3):\n",
    "    return((df[w1] * df[w2] * df[w3]).sum()/df[w1].sum())\n",
    "\n",
    "def _getSideEffects(df, sedf):\n",
    "    l = list(df.Drug)\n",
    "    for i in range(0, len(l)):\n",
    "        sdf = sedf\n",
    "        sdf = sdf.loc[sdf['Drug'] == l[i]]\n",
    "        #print(sdf)\n",
    "        #print(sdf[:1]['Side Effects'])\n",
    "        w = sdf.groupby([\"Drug\"]).apply(_weights, \"Rating\", \"Effectivness Rating\", \"Side Effect Rating\")\n",
    "        sdf1 = sdf.loc[sdf['Effectivness Rating'] == 0]\n",
    "        sdf1 = sdf1.loc[sdf['Side Effect Rating'] == 0]\n",
    "        sdf1 = sdf1.loc[sdf['Rating'] <= 1 ]\n",
    "        sdf1 = sdf1.reset_index()\n",
    "        sdf1 = pd.DataFrame(sdf['Side Effects'])\n",
    "        df1 = pd.DataFrame(w, columns=['Side Effect Weight'])\n",
    "        df1 = df1.reset_index()\n",
    "        #print(sdf[:1]['Side Effects'])\n",
    "        df2 = pd.DataFrame(sdf['Side Effects'])\n",
    "        df2 = df2.reset_index()\n",
    "        df2 = df2.drop(['index'], axis=1)\n",
    "        dd = pd.concat([df1, df2], axis=1)\n",
    "\n",
    "        sf = list(dd[\"Side Effects\"])\n",
    "        seffects = convertListToString(sf)\n",
    "    return seffects\n",
    "\n",
    "def convertListToString(s):  \n",
    "    str1 = \"\"    \n",
    "    for ele in s:  \n",
    "        str1 += ele   \n",
    "\n",
    "    return str1\n",
    "\n",
    "se = _getSideEffects(recommended_drug, sd)"
   ]
  },
  {
   "cell_type": "markdown",
   "metadata": {
    "colab_type": "text",
    "id": "8S99QaslZLqS"
   },
   "source": [
    "#UI Functions"
   ]
  },
  {
   "cell_type": "code",
   "execution_count": null,
   "metadata": {
    "colab": {},
    "colab_type": "code",
    "id": "Lup_Gz45dd1I"
   },
   "outputs": [],
   "source": [
    "sent_tokens=[]\n",
    "\n",
    "def Normalize(text):\n",
    "    remove_punct_dict = dict((ord(punct), None) for punct in string.punctuation)\n",
    "    #word tokenization\n",
    "    word_token = nltk.word_tokenize(text.lower().translate(remove_punct_dict))\n",
    "    \n",
    "    #remove ascii\n",
    "    new_words = []\n",
    "    for word in word_token:\n",
    "        new_word = unicodedata.normalize('NFKD', word).encode('ascii', 'ignore').decode('utf-8', 'ignore')\n",
    "        new_words.append(new_word)\n",
    "    \n",
    "    #Remove tags\n",
    "    rmv = []\n",
    "    for w in new_words:\n",
    "        text=re.sub(\"&lt;/?.*?&gt;\",\"&lt;&gt;\",w)\n",
    "        rmv.append(text)\n",
    "        \n",
    "    #pos tagging and lemmatization\n",
    "    tag_map = defaultdict(lambda : wn.NOUN)\n",
    "    tag_map['J'] = wn.ADJ\n",
    "    tag_map['V'] = wn.VERB\n",
    "    tag_map['R'] = wn.ADV\n",
    "    lmtzr = WordNetLemmatizer()\n",
    "    lemma_list = []\n",
    "    rmv = [i for i in rmv if i]\n",
    "    for token, tag in nltk.pos_tag(rmv):\n",
    "        lemma = lmtzr.lemmatize(token, tag_map[tag[0]])\n",
    "        lemma_list.append(lemma)\n",
    "    return lemma_list\n",
    "\n",
    "\n",
    "welcome_input = (\"greetings\", \"sup\", \"what's up\",\"hey\",\"how re you\")\n",
    "welcome_response = [\"*nods*\", \"hello\", \"I am glad! You are talking to me\"]\n",
    "def welcome(user_response):\n",
    "    for word in user_response.split():\n",
    "        if word.lower() in welcome_input:\n",
    "            return random.choice(welcome_response)\n",
    "\n",
    "\n",
    "\n",
    "\n",
    "def generateResponse(user_response):\n",
    "  try:\n",
    "    robo_response=''\n",
    "    sent_tokens.append(user_response)\n",
    "    TfidfVec = TfidfVectorizer(tokenizer=Normalize, stop_words='english')\n",
    "    tfidf = TfidfVec.fit_transform(sent_tokens)\n",
    "    #vals = cosine_similarity(tfidf[-1], tfidf)\n",
    "    vals = linear_kernel(tfidf[-1], tfidf)\n",
    "    idx=vals.argsort()[0]\n",
    "    flat = vals.flatten()\n",
    "    flat.sort()\n",
    "    req_tfidf = flat[0]\n",
    "    #print(\"asdfdsf:\",user_response)\n",
    "    #welcome(user_response)\n",
    "      \n",
    "    if(req_tfidf==0) or \"I am suffering from\" in user_response:\n",
    "        if user_response:\n",
    "            predictedDisease = get_disease(user_response)\n",
    "            return \"The disease predicted based on given symptoms is \" +  predictedDisease\n",
    "                        \n",
    "    elif(req_tfidf==0) or \"What medicines should i take for \" in user_response:\n",
    "        if user_response:\n",
    "            predictedDrug = get_drug(user_response)\n",
    "            return predictedDrug \n",
    "        \n",
    "    elif(req_tfidf==0) or \"Are there any side effects for it ?\" in user_response:\n",
    "        if user_response:\n",
    "            robo_response = get_drug_sideeffect()\n",
    "            return robo_response\n",
    "\n",
    "    else:\n",
    "        #robo_response = robo_response+sent_tokens[idx]\n",
    "        #return robo_response\n",
    "        try:\n",
    "          robo_response=bot.get_response(user_response)\n",
    "          print(robo_response)\n",
    "          return robo_response\n",
    "        except Exception as e:\n",
    "          print(\"Sorry, I do not know the response\")\n",
    "  except:\n",
    "    return \"Sorry, but idk\"\n",
    "\n",
    "# taking symptoms as input and predicting the disease\n",
    "def get_disease(symptom_name):\n",
    "  symptom_name = symptom_name.replace(\"I am suffering from \", \"\")\n",
    "  symptom_name = symptom_name.split(',')\n",
    "  input_features = [feature_dict[symptom_name[0]], feature_dict[symptom_name[1]], feature_dict[symptom_name[2]]]\n",
    "  print(input_features)\n",
    "  arr =[]\n",
    "  for i in range(len(features)):\n",
    "    if i == input_features[0]:\n",
    "      i = int(i/input_features[0])\n",
    "    elif i == input_features[1]:\n",
    "      i = int(i/input_features[1])\n",
    "    elif i == input_features[2]:\n",
    "      i = int(i/input_features[2])\n",
    "    else:\n",
    "      i = 0\n",
    "    arr.append(i)\n",
    "\n",
    "  arr = np.array(arr).reshape(-1,len(arr))\n",
    "  predictedDisease = (mnb.predict(arr))\n",
    "  CB_response = predictedDisease[0]\n",
    "  return CB_response\n",
    "\n",
    "\n",
    "# taking predicted disease as input and recommending drug based on highest weighted average of ratings\n",
    "def get_drug(user_disease):\n",
    "  print(user_disease)\n",
    "  user_disease = user_disease.replace(\"What medicines should i take for \", \"\")\n",
    "  drugName = drug_recommender_system(user_disease)\n",
    "  print(drugName)\n",
    "  return \"Please take this medicine: \" + drugName\n",
    "\n",
    "def get_drug_sideeffect():\n",
    "  sideEffects = _getSideEffects(recommended_drug, sd)\n",
    "  return \"The side effects may include \" + sideEffects"
   ]
  },
  {
   "cell_type": "markdown",
   "metadata": {
    "colab_type": "text",
    "id": "E59lirx7ZTrn"
   },
   "source": [
    "#HTML code for UI"
   ]
  },
  {
   "cell_type": "code",
   "execution_count": null,
   "metadata": {
    "colab": {},
    "colab_type": "code",
    "id": "nV9CHWAcZayD"
   },
   "outputs": [],
   "source": [
    "%mkdir templates -p"
   ]
  },
  {
   "cell_type": "code",
   "execution_count": null,
   "metadata": {
    "colab": {
     "base_uri": "https://localhost:8080/",
     "height": 33
    },
    "colab_type": "code",
    "id": "pc18pCx0ZdiO",
    "outputId": "6c71c810-f0c4-44cc-9d32-d2a9ca295631"
   },
   "outputs": [],
   "source": [
    "%%writefile templates/home.html\n",
    "<!doctype html>\n",
    "<html lang=\"en\">\n",
    "\n",
    "<head>\n",
    "    <link\n",
    "      rel=\"shortcut icon\"\n",
    "      type=\"image/x-icon\"\n",
    "      href=\"/content/drive/My Drive/gtdt/Notebooks/UI_Files/Doctor_Icon.jpg\"\n",
    "    />\n",
    "    <script src=\"https://ajax.googleapis.com/ajax/libs/jquery/3.2.1/jquery.min.js\"></script>\n",
    "    <style>\n",
    "      body {\n",
    "        font-family: monospace;\n",
    "      }\n",
    "      h1 {\n",
    "        background-color: yellow;\n",
    "        display: inline-block;\n",
    "        font-size: 3em;\n",
    "        margin: 0;\n",
    "        padding: 14px;\n",
    "      }\n",
    "      h3 {\n",
    "        color: black;\n",
    "        font-size: 20px;\n",
    "        margin-top: 3px;\n",
    "        text-align: center;\n",
    "      }\n",
    "      #chatbox {\n",
    "        margin-left: auto;\n",
    "        margin-right: auto;\n",
    "        width: 40%;\n",
    "        margin-top: 60px;\n",
    "      }\n",
    "      #userInput {\n",
    "        margin-left: auto;\n",
    "        margin-right: auto;\n",
    "        width: 40%;\n",
    "        margin-top: 60px;\n",
    "      }\n",
    "      #textInput {\n",
    "        width: 90%;\n",
    "        border: none;\n",
    "        border-bottom: 3px solid black;\n",
    "        font-family: monospace;\n",
    "        font-size: 17px;\n",
    "      }\n",
    "      .userText {\n",
    "        color: white;\n",
    "        font-family: monospace;\n",
    "        font-size: 17px;\n",
    "        text-align: right;\n",
    "        line-height: 30px;\n",
    "      }\n",
    "      .userText span {\n",
    "        background-color: #808080;\n",
    "        padding: 10px;\n",
    "        border-radius: 2px;\n",
    "      }\n",
    "      .botText {\n",
    "        color: white;\n",
    "        font-family: monospace;\n",
    "        font-size: 17px;\n",
    "        text-align: left;\n",
    "        line-height: 30px;\n",
    "      }\n",
    "      .botText span {\n",
    "        background-color: #4169e1;\n",
    "        padding: 10px;\n",
    "        border-radius: 2px;\n",
    "      }\n",
    "      #tidbit {\n",
    "        position: absolute;\n",
    "        bottom: 0;\n",
    "        right: 0;\n",
    "        width: 300px;\n",
    "      }\n",
    "      .boxed {\n",
    "        margin-left: auto;\n",
    "        margin-right: auto;\n",
    "        width: 78%;\n",
    "        margin-top: 60px;\n",
    "        border: 1px solid green;\n",
    "      }\n",
    "      .box {\n",
    "        border: 2px solid black;\n",
    "      }\n",
    "    </style>\n",
    "</head>\n",
    "\n",
    "<body>\n",
    "  <body>\n",
    "    <center>\n",
    "      <h1>\n",
    "      Drug Recommender System\n",
    "      </h1>\n",
    "    </center>\n",
    "<div class=\"box\"></div>\n",
    "    <div class=\"boxed\">\n",
    "      <div>\n",
    "        <div id=\"chatbox\">\n",
    "          <img\n",
    "            src=\"https://image.freepik.com/free-vector/doctor-icon-avatar-white_136162-58.jpg\"\n",
    "            alt=\"Jarvis\"\n",
    "            style=\"width:40px;height:40px;\"\n",
    "          />\n",
    "          <p class=\"botText\">\n",
    "            <span>Hi! I am Jarvis. I shall be your personal doctor.</span>\n",
    "          </p>\n",
    "        </div>\n",
    "        <div id=\"userInput\">\n",
    "          <input id=\"textInput\" type=\"text\" name=\"msg\" placeholder=\"Message\" />\n",
    "        </div>\n",
    "      </div>\n",
    "    </div>\n",
    "\n",
    "    <script>\n",
    "        function getBotResponse() {\n",
    "          var rawText = $(\"#textInput\").val();\n",
    "          var userHtml = '<p class=\"userText\"><span>' + rawText + \"</span></p>\";\n",
    "          $(\"#textInput\").val(\"\");\n",
    "          $(\"#chatbox\").append(userHtml);\n",
    "          document\n",
    "            .getElementById(\"userInput\")\n",
    "            .scrollIntoView({ block: \"start\", behavior: \"smooth\" });\n",
    "          $.get(\"/get\", { msg: rawText }).done(function(data) {\n",
    "            var botHtml = '<p class=\"botText\"><span>' + data + \"</span></p>\";\n",
    "            $(\"#chatbox\").append(botHtml);\n",
    "            document\n",
    "              .getElementById(\"userInput\")\n",
    "              .scrollIntoView({ block: \"start\", behavior: \"smooth\" });\n",
    "          });\n",
    "        }\n",
    "        $(\"#textInput\").keypress(function(e) {\n",
    "          if (e.which == 13) {\n",
    "            getBotResponse();\n",
    "          }\n",
    "        });\n",
    "</script>\n",
    "  </body>\n",
    "</body>\n",
    "\n",
    "</html>"
   ]
  },
  {
   "cell_type": "markdown",
   "metadata": {
    "colab_type": "text",
    "id": "Vb_v8Uj7ZZL7"
   },
   "source": [
    "#Hosting the chatbot"
   ]
  },
  {
   "cell_type": "code",
   "execution_count": null,
   "metadata": {
    "colab": {
     "base_uri": "https://localhost:8080/",
     "height": 318
    },
    "colab_type": "code",
    "id": "p_QPt2NFZhnw",
    "outputId": "f126e25d-88bf-409c-c064-37633a04a7da"
   },
   "outputs": [],
   "source": [
    "from flask_ngrok import run_with_ngrok\n",
    "from flask import Flask\n",
    "app = Flask(__name__)\n",
    "run_with_ngrok(app)   #starts ngrok when the app is run\n",
    "@app.route(\"/\")\n",
    "def home():\n",
    "    return render_template('home.html')\n",
    "@app.route(\"/get\")\n",
    "def get_bot_response():\n",
    "    userText = request.args.get('msg')\n",
    "    a=str(generateResponse(userText))\n",
    "    sent_tokens.remove(userText)\n",
    "    return a\n",
    "app.run()"
   ]
  }
 ],
 "metadata": {
  "colab": {
   "include_colab_link": true,
   "name": "ChatBot_For_Demonstration.ipynb",
   "provenance": []
  },
  "kernelspec": {
   "display_name": "Python 3",
   "language": "python",
   "name": "python3"
  },
  "language_info": {
   "codemirror_mode": {
    "name": "ipython",
    "version": 3
   },
   "file_extension": ".py",
   "mimetype": "text/x-python",
   "name": "python",
   "nbconvert_exporter": "python",
   "pygments_lexer": "ipython3",
   "version": "3.8.5"
  }
 },
 "nbformat": 4,
 "nbformat_minor": 1
}
